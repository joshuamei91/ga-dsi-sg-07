{
 "cells": [
  {
   "cell_type": "code",
   "execution_count": null,
   "metadata": {},
   "outputs": [],
   "source": [
    "news['noun'] = 0\n",
    "news['propn'] = 0\n",
    "news['verb'] = 0\n",
    "news['adj'] = 0\n",
    "news['adv'] = 0\n",
    "news['num'] = 0"
   ]
  },
  {
   "cell_type": "code",
   "execution_count": null,
   "metadata": {},
   "outputs": [],
   "source": [
    "def count_pos(row):\n",
    "    doc = nlp(row.statement)\n",
    "    for token in doc:\n",
    "        try:\n",
    "            row[token.pos_.lower()] += 1\n",
    "        except:\n",
    "            pass\n",
    "        \n",
    "    return row"
   ]
  },
  {
   "cell_type": "code",
   "execution_count": null,
   "metadata": {},
   "outputs": [],
   "source": [
    "news = news.apply(count_pos,axis=1)"
   ]
  },
  {
   "cell_type": "code",
   "execution_count": null,
   "metadata": {},
   "outputs": [],
   "source": []
  },
  {
   "cell_type": "code",
   "execution_count": null,
   "metadata": {},
   "outputs": [],
   "source": [
    "doc = nlp(news.statement[1])"
   ]
  },
  {
   "cell_type": "code",
   "execution_count": null,
   "metadata": {},
   "outputs": [],
   "source": [
    "news.statement[1]"
   ]
  },
  {
   "cell_type": "code",
   "execution_count": null,
   "metadata": {},
   "outputs": [],
   "source": [
    "for token in doc:\n",
    "    print (token)\n",
    "#     for child in token.children:\n",
    "#         print (child)\n",
    "    print (get_depth(token))\n",
    "#     print (token.pos_)\n",
    "#     break"
   ]
  },
  {
   "cell_type": "code",
   "execution_count": null,
   "metadata": {},
   "outputs": [],
   "source": []
  },
  {
   "cell_type": "code",
   "execution_count": null,
   "metadata": {},
   "outputs": [],
   "source": [
    "subjects_count = {}\n",
    "for subj in unique_subjects:\n",
    "    subjects_count[subj] = subjects_list.count(subj)\n",
    "subjects_count = {value[0]:value[1] for value in sorted(subjects_count.items(), key=lambda x: -x[1])}"
   ]
  },
  {
   "cell_type": "code",
   "execution_count": null,
   "metadata": {},
   "outputs": [],
   "source": [
    "plt.figure(figsize=(8,12))\n",
    "sns.barplot(x=list(subjects_count.values())[0:50], y=list(subjects_count.keys())[0:50])\n",
    "plt.show()"
   ]
  },
  {
   "cell_type": "code",
   "execution_count": null,
   "metadata": {},
   "outputs": [],
   "source": []
  },
  {
   "cell_type": "code",
   "execution_count": null,
   "metadata": {},
   "outputs": [],
   "source": [
    "# ohe = OneHotEncoder(drop=[['education_official'],['Russia']])\n",
    "ohe = OneHotEncoder()\n",
    "ohe.fit(news_train[['state']])"
   ]
  },
  {
   "cell_type": "code",
   "execution_count": null,
   "metadata": {},
   "outputs": [],
   "source": [
    "ohe.transform(news_train[['state']])[:,1:]"
   ]
  },
  {
   "cell_type": "code",
   "execution_count": null,
   "metadata": {},
   "outputs": [],
   "source": [
    "ohe.transform(news_train[['state']])"
   ]
  },
  {
   "cell_type": "code",
   "execution_count": null,
   "metadata": {},
   "outputs": [],
   "source": [
    "ohe.get_feature_names()"
   ]
  },
  {
   "cell_type": "code",
   "execution_count": null,
   "metadata": {},
   "outputs": [],
   "source": [
    "ohe.categories_"
   ]
  },
  {
   "cell_type": "code",
   "execution_count": null,
   "metadata": {},
   "outputs": [],
   "source": []
  },
  {
   "cell_type": "code",
   "execution_count": null,
   "metadata": {},
   "outputs": [],
   "source": [
    "test_mlb = MultiLabelBinarizer(sparse_output=False)\n",
    "test_sub = [set(value.split(',')) for value in news_train['subjects']]\n",
    "test_mlb.fit(test_sub)\n",
    "# test_sub"
   ]
  },
  {
   "cell_type": "code",
   "execution_count": null,
   "metadata": {},
   "outputs": [],
   "source": [
    "test_sub2 = [set(value.split(',')) for value in news_valid['subjects']]\n",
    "test_mlb.transform(test_sub2)"
   ]
  },
  {
   "cell_type": "code",
   "execution_count": null,
   "metadata": {},
   "outputs": [],
   "source": [
    "test_sub3 = [set(value.split(',')) for value in news_test['subjects']]\n",
    "test_mlb.transform(test_sub3)"
   ]
  },
  {
   "cell_type": "code",
   "execution_count": null,
   "metadata": {},
   "outputs": [],
   "source": [
    "test_mlb.classes_"
   ]
  },
  {
   "cell_type": "code",
   "execution_count": null,
   "metadata": {},
   "outputs": [],
   "source": []
  },
  {
   "cell_type": "code",
   "execution_count": null,
   "metadata": {},
   "outputs": [],
   "source": [
    "test_pipeline = Pipeline([\n",
    "    ('union', FeatureUnion(\n",
    "        transformer_list=[\n",
    "\n",
    "            # Pipeline to dummify party column\n",
    "            ('party', Pipeline([\n",
    "                ('selector', ItemSelector(key='party')),\n",
    "                ('ohe', Dummify()),\n",
    "            ])),\n",
    "            \n",
    "            # Pipeline to dummify context column\n",
    "            ('context', Pipeline([\n",
    "                ('selector', ItemSelector(key='context')),\n",
    "                ('ohe', Dummify()),\n",
    "            ])),\n",
    "            \n",
    "            # Pipeline to dummify state column\n",
    "            ('state', Pipeline([\n",
    "                ('selector', ItemSelector(key='state')),\n",
    "                ('ohe', Dummify()),\n",
    "            ])),\n",
    "            \n",
    "            # Pipeline to dummify subjects column\n",
    "            ('subjects', Pipeline([\n",
    "                ('selector', ItemSelector(key='subjects')),\n",
    "                ('ohe', Dummify(multilabel=True)),\n",
    "            ])),\n",
    "\n",
    "        ],\n",
    "    )),\n",
    "])    "
   ]
  },
  {
   "cell_type": "code",
   "execution_count": null,
   "metadata": {},
   "outputs": [],
   "source": [
    "test_pipeline.fit(news_train)"
   ]
  },
  {
   "cell_type": "code",
   "execution_count": null,
   "metadata": {},
   "outputs": [],
   "source": [
    "test_pipeline.transform(news_train)"
   ]
  },
  {
   "cell_type": "code",
   "execution_count": null,
   "metadata": {},
   "outputs": [],
   "source": [
    "test_pipeline.transform(news_valid)"
   ]
  },
  {
   "cell_type": "code",
   "execution_count": null,
   "metadata": {},
   "outputs": [],
   "source": [
    "dict(test_pipeline.named_steps['union'].transformer_list).get('party').named_steps['ohe'].get_feature_names(['party'])"
   ]
  },
  {
   "cell_type": "code",
   "execution_count": null,
   "metadata": {},
   "outputs": [],
   "source": [
    "dict(test_pipeline.named_steps['union'].transformer_list).get('context').named_steps['ohe'].get_feature_names(['context'])"
   ]
  },
  {
   "cell_type": "code",
   "execution_count": null,
   "metadata": {},
   "outputs": [],
   "source": [
    "dict(test_pipeline.named_steps['union'].transformer_list).get('state').named_steps['ohe'].get_feature_names(['state'])"
   ]
  },
  {
   "cell_type": "code",
   "execution_count": null,
   "metadata": {},
   "outputs": [],
   "source": [
    "dict(test_pipeline.named_steps['union'].transformer_list).get('subjects').named_steps['ohe'].get_feature_names(['subject'])"
   ]
  },
  {
   "cell_type": "code",
   "execution_count": null,
   "metadata": {},
   "outputs": [],
   "source": [
    "dict(transformer_pipeline.named_steps['union'].transformer_list).get('text_stats').named_steps['dict_vect'].get_feature_names()"
   ]
  },
  {
   "cell_type": "code",
   "execution_count": null,
   "metadata": {},
   "outputs": [],
   "source": []
  },
  {
   "cell_type": "code",
   "execution_count": null,
   "metadata": {},
   "outputs": [],
   "source": [
    "# logistic regression with count vectorizer\n",
    "pipeline_text_logr = Pipeline([\n",
    "    ('vect', CountVectorizer(stop_words=stopword_list, ngram_range=(2,3))),\n",
    "    ('logr', LogisticRegression(multi_class='ovr', solver='liblinear', random_state=42))\n",
    "])\n",
    "params_text_logr = {'logr__C':np.logspace(3,4,10), 'logr__penalty': ['l1', 'l2']}\n",
    "text_logr_results = grid_search(pipeline_text_logr, params_text_logr, news_train['statement'], news_train['label'], \n",
    "            news_valid['statement'], news_valid['label'])\n",
    "params = best_params(text_logr_results)\n",
    "print ('-'*40)\n",
    "print ('Validation score:', params['score'])\n",
    "pipeline_text_logr.set_params(**params['params'])\n",
    "test_score = train_validate(pipeline_text_logr, news_train['statement'], news_train['label'], \n",
    "               news_test['statement'], news_test['label'])\n",
    "print ('Test score:', test_score)"
   ]
  },
  {
   "cell_type": "code",
   "execution_count": null,
   "metadata": {},
   "outputs": [],
   "source": [
    "# TEST DATA - logistic regression with count vectorizer\n",
    "pipeline_text_logr = Pipeline([\n",
    "    ('vect', CountVectorizer(stop_words=stopword_list, ngram_range=(2,3))),\n",
    "    ('logr', LogisticRegression(multi_class='ovr', solver='liblinear', random_state=42))\n",
    "])\n",
    "params_text_logr = {'logr__C':[5994.8425031894085], 'logr__penalty': ['l1']}\n",
    "text_logr_results = grid_search(pipeline_text_logr, params_text_logr, news_train['statement'], news_train['label'], \n",
    "            news_test['statement'], news_test['label'])\n",
    "best_params(text_logr_results)"
   ]
  },
  {
   "cell_type": "code",
   "execution_count": null,
   "metadata": {},
   "outputs": [],
   "source": [
    "# TEST DATA - logistic regression with tfidf\n",
    "pipeline_text_logr = Pipeline([\n",
    "    ('vect', TfidfVectorizer(stop_words=stopword_list, ngram_range=(2,3))),\n",
    "    ('logr', LogisticRegression(multi_class='ovr', solver='liblinear', random_state=42))\n",
    "])\n",
    "params_text_logr = {'logr__C':[4641.588833612777], 'logr__penalty': ['l2']}\n",
    "text_logr_results = grid_search(pipeline_text_logr, params_text_logr, news_train['statement'], news_train['label'], \n",
    "            news_test['statement'], news_test['label'])\n",
    "best_params(text_logr_results)"
   ]
  },
  {
   "cell_type": "code",
   "execution_count": null,
   "metadata": {},
   "outputs": [],
   "source": [
    "# TEST DATA - logistic regression with count vectorizer and selectkbest\n",
    "pipeline_text_logr = Pipeline([\n",
    "    ('vect', CountVectorizer(stop_words=stopword_list, ngram_range=(2,3))),\n",
    "    ('select', SelectKBest(k=20000)),\n",
    "    ('logr', LogisticRegression(multi_class='ovr', solver='liblinear', random_state=42))\n",
    "])\n",
    "params_text_logr = {'logr__C':[464.15888336127773], 'logr__penalty': ['l1']}\n",
    "text_logr_results = grid_search(pipeline_text_logr, params_text_logr, news_train['statement'], news_train['label'], \n",
    "            news_test['statement'], news_test['label'])\n",
    "best_params(text_logr_results)"
   ]
  },
  {
   "cell_type": "code",
   "execution_count": null,
   "metadata": {},
   "outputs": [],
   "source": []
  },
  {
   "cell_type": "code",
   "execution_count": null,
   "metadata": {},
   "outputs": [],
   "source": [
    "pipeline_text_logr_final = Pipeline([\n",
    "    ('vect', CountVectorizer(stop_words=stopword_list, ngram_range=(1,2))),\n",
    "    ('logr', LogisticRegression(multi_class='ovr', solver='liblinear', random_state=42, C=0.021544346900318832,\n",
    "                               penalty='l2'))\n",
    "])\n",
    "pipeline_text_logr_final.fit(news_train['statement'], news_train['label'])"
   ]
  },
  {
   "cell_type": "code",
   "execution_count": null,
   "metadata": {},
   "outputs": [],
   "source": [
    "pipeline_text_logr_final.named_steps['logr'].classes_"
   ]
  },
  {
   "cell_type": "code",
   "execution_count": null,
   "metadata": {},
   "outputs": [],
   "source": [
    "text_coef = pd.DataFrame(pipeline_text_logr_final.named_steps['logr'].coef_).T\n",
    "text_coef.columns = pipeline_text_logr_final.named_steps['logr'].classes_\n",
    "text_coef['ngram'] = pipeline_text_logr_final.named_steps['vect'].get_feature_names()\n",
    "text_coef.sort_values('pants-fire', ascending=False)"
   ]
  },
  {
   "cell_type": "code",
   "execution_count": null,
   "metadata": {},
   "outputs": [],
   "source": [
    "text_coef.sort_values('true', ascending=False)"
   ]
  },
  {
   "cell_type": "code",
   "execution_count": null,
   "metadata": {},
   "outputs": [],
   "source": []
  },
  {
   "cell_type": "code",
   "execution_count": null,
   "metadata": {},
   "outputs": [],
   "source": [
    "all_logr_coef_mul = pd.DataFrame(all_features_logr_mul.coef_).T\n",
    "all_logr_coef_mul.columns = all_features_logr_mul.classes_\n",
    "all_logr_coef_mul['features'] = features\n",
    "all_logr_coef_mul.sort_values('pants-fire', ascending=False)\n"
   ]
  },
  {
   "cell_type": "code",
   "execution_count": null,
   "metadata": {},
   "outputs": [],
   "source": []
  },
  {
   "cell_type": "code",
   "execution_count": null,
   "metadata": {},
   "outputs": [],
   "source": [
    "plt.figure(figsize=(16,8))\n",
    "for lab in order_of_labels:\n",
    "    plt.plot(subject_cols, subjects_count.loc[lab, :], label=lab, linewidth=1.5)\n",
    "plt.legend()\n",
    "plt.title('Plot of subject counts for each class')\n",
    "plt.xticks(fontsize=7, rotation=90)\n",
    "plt.show()"
   ]
  },
  {
   "cell_type": "code",
   "execution_count": null,
   "metadata": {},
   "outputs": [],
   "source": [
    "plt.figure(figsize=(16,8))\n",
    "for lab in order_of_labels:\n",
    "    plt.plot(party_cols, party_count.loc[lab, :], label=lab, linewidth=1.5)\n",
    "plt.legend()\n",
    "plt.title('Plot of party affiliation counts for each class')\n",
    "plt.xticks(fontsize=10, rotation=90)\n",
    "plt.show()"
   ]
  },
  {
   "cell_type": "code",
   "execution_count": null,
   "metadata": {},
   "outputs": [],
   "source": [
    "plt.figure(figsize=(16,8))\n",
    "for lab in order_of_labels:\n",
    "    plt.plot(party_cols, party_proportion.loc[lab, :], label=lab, linewidth=1.5)\n",
    "plt.legend()\n",
    "plt.title('Plot of party affiliation proportion for each class')\n",
    "plt.ylabel('Proportion of statements from the party')\n",
    "plt.xlabel('Party')\n",
    "plt.xticks(fontsize=10, rotation=90)\n",
    "plt.show()"
   ]
  },
  {
   "cell_type": "code",
   "execution_count": null,
   "metadata": {},
   "outputs": [],
   "source": [
    "party_proportion2 = party_count.apply(calc_proportion,axis=1)\n",
    "plt.figure(figsize=(16,8))\n",
    "for party in party_cols:\n",
    "    if party in ['party_NA', 'party_democrat', 'party_republican']:\n",
    "        plt.plot(order_of_labels, party_proportion2[party], label=party, linewidth=1.5)\n",
    "plt.legend()\n",
    "plt.title('Plot of party affiliation proportion for each class')\n",
    "plt.xticks(fontsize=10, rotation=90)\n",
    "plt.show()"
   ]
  },
  {
   "cell_type": "code",
   "execution_count": null,
   "metadata": {},
   "outputs": [],
   "source": [
    "# logistic regression (multinomial) with count vectorizer\n",
    "# pipeline_text_logr = Pipeline([\n",
    "#     ('vect', CountVectorizer(stop_words=stopword_list, ngram_range=(2,3))),\n",
    "#     ('logr', LogisticRegression(multi_class='multinomial', solver='saga', random_state=42))\n",
    "# ])\n",
    "# params_text_logr = {'logr__C':np.logspace(-2,3,10), 'logr__penalty': ['l1', 'l2']}\n",
    "# text_cvt_logr_results = grid_search(pipeline_text_logr, params_text_logr, news_train['statement'], news_train['label'], \n",
    "#             news_valid['statement'], news_valid['label'], news_test['statement'], news_test['label'])\n"
   ]
  },
  {
   "cell_type": "code",
   "execution_count": null,
   "metadata": {},
   "outputs": [],
   "source": [
    "# logistic regression with count vectorizer min_df=2\n",
    "# pipeline_text_logr = Pipeline([\n",
    "#     ('vect', CountVectorizer(stop_words=stopword_list, ngram_range=(2,3), min_df=2)),\n",
    "#     ('logr', LogisticRegression(multi_class='ovr', solver='liblinear', random_state=42))\n",
    "# ])\n",
    "# params_text_logr = {'logr__C':np.logspace(3,4,10), 'logr__penalty': ['l1', 'l2']}\n",
    "# text_cvt2_logr_results = grid_search(pipeline_text_logr, params_text_logr, news_train['statement'], news_train['label'], \n",
    "#             news_valid['statement'], news_valid['label'], news_test['statement'], news_test['label'])\n"
   ]
  },
  {
   "cell_type": "code",
   "execution_count": null,
   "metadata": {},
   "outputs": [],
   "source": [
    "# logistic regression with count vectorizer and selectkbest\n",
    "# pipeline_text_logr = Pipeline([\n",
    "#     ('vect', CountVectorizer(stop_words=stopword_list, ngram_range=(2,3))),\n",
    "#     ('select', SelectKBest(k=20000)),\n",
    "#     ('logr', LogisticRegression(multi_class='ovr', solver='liblinear', random_state=42))\n",
    "# ])\n",
    "# params_text_logr = {'logr__C':np.logspace(2,4,10), 'logr__penalty': ['l1', 'l2']}\n",
    "# text_cvt_kbest_logr_results = grid_search(pipeline_text_logr, params_text_logr, news_train['statement'], news_train['label'], \n",
    "#             news_valid['statement'], news_valid['label'], news_test['statement'], news_test['label'])\n"
   ]
  },
  {
   "cell_type": "code",
   "execution_count": null,
   "metadata": {},
   "outputs": [],
   "source": []
  },
  {
   "cell_type": "code",
   "execution_count": null,
   "metadata": {},
   "outputs": [],
   "source": [
    "# logistic regression with all features + multinomial loss\n",
    "# all_features_logr = LogisticRegression(multi_class='multinomial', solver='saga', random_state=42)\n",
    "# params_all_logr = {'C':np.logspace(-2,-1,10), 'penalty': ['l2']}\n",
    "# all_logr_results = grid_search(all_features_logr, params_all_logr, X_train, news_train['label'], \n",
    "#             X_valid, news_valid['label'], X_test, news_test['label'])\n"
   ]
  },
  {
   "cell_type": "code",
   "execution_count": null,
   "metadata": {},
   "outputs": [],
   "source": [
    "# multinomial loss\n",
    "# all_features_logr_mul = LogisticRegression(multi_class='multinomial', solver='saga', random_state=42, C=0.03593813663804628,\n",
    "#                                           penalty='l2')\n",
    "# # all_features_logr_mul.set_params(**best_params(all_logr_results)['params'])\n",
    "# all_features_logr_mul.fit(X_train, news_train['label'])"
   ]
  },
  {
   "cell_type": "code",
   "execution_count": null,
   "metadata": {},
   "outputs": [],
   "source": []
  },
  {
   "cell_type": "code",
   "execution_count": null,
   "metadata": {},
   "outputs": [],
   "source": [
    "# BOW + stats\n",
    "stats_features_logr = LogisticRegression(multi_class='ovr', solver='liblinear', random_state=42)\n",
    "stats_features_logr.set_params(**best_params(stats_logr_results)['params'])\n",
    "stats_features_logr.fit(Xs_train, news_train['grouped_label'])\n"
   ]
  },
  {
   "cell_type": "code",
   "execution_count": null,
   "metadata": {},
   "outputs": [],
   "source": [
    "features_stats = list(itertools.chain(ngrams, text_stats))"
   ]
  },
  {
   "cell_type": "code",
   "execution_count": null,
   "metadata": {},
   "outputs": [],
   "source": [
    "all_logr_coef_stats = pd.DataFrame(stats_features_logr.coef_).T\n",
    "all_logr_coef_stats.columns = stats_features_logr.classes_\n",
    "all_logr_coef_stats['features'] = features_stats\n",
    "all_logr_coef_stats.sort_values('false', ascending=False)\n"
   ]
  },
  {
   "cell_type": "code",
   "execution_count": null,
   "metadata": {},
   "outputs": [],
   "source": []
  },
  {
   "cell_type": "code",
   "execution_count": null,
   "metadata": {},
   "outputs": [],
   "source": [
    "all_features_svm_final = LinearSVC(random_state=42)\n",
    "all_features_svm_final.set_params(**best_params(all_svm_results)['params'])\n",
    "all_features_svm_final.fit(X_train, news_train['label'])"
   ]
  },
  {
   "cell_type": "code",
   "execution_count": null,
   "metadata": {},
   "outputs": [],
   "source": [
    "all_svm_coef = pd.DataFrame(all_features_svm_final.coef_).T\n",
    "all_svm_coef.columns = all_features_svm_final.classes_\n",
    "all_svm_coef['features'] = features\n",
    "all_svm_coef.sort_values('pants-fire', ascending=False)"
   ]
  },
  {
   "cell_type": "code",
   "execution_count": null,
   "metadata": {},
   "outputs": [],
   "source": []
  },
  {
   "cell_type": "code",
   "execution_count": null,
   "metadata": {},
   "outputs": [],
   "source": [
    "fig, ax = plt.subplots(figsize=(10,10))\n",
    "sns.heatmap(conf_mat, annot=True, fmt='d',\n",
    "            xticklabels=news.label.values, yticklabels=news.label.values)\n",
    "plt.ylabel('Actual')\n",
    "plt.xlabel('Predicted')\n",
    "plt.show()"
   ]
  }
 ],
 "metadata": {
  "kernelspec": {
   "display_name": "Python 3",
   "language": "python",
   "name": "python3"
  },
  "language_info": {
   "codemirror_mode": {
    "name": "ipython",
    "version": 3
   },
   "file_extension": ".py",
   "mimetype": "text/x-python",
   "name": "python",
   "nbconvert_exporter": "python",
   "pygments_lexer": "ipython3",
   "version": "3.7.1"
  }
 },
 "nbformat": 4,
 "nbformat_minor": 2
}

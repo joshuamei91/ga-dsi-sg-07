{
 "cells": [
  {
   "cell_type": "markdown",
   "metadata": {},
   "source": [
    "<img src=\"http://imgur.com/1ZcRyrc.png\" style=\"float: left; margin: 20px; height: 55px\">\n",
    "\n",
    "# Fast Food Chains and Price Discrimination\n",
    "\n",
    "_Authors: Kiefer Katovich (SF), Mario Carrillo (SF)_\n",
    "\n",
    "---\n",
    "\n",
    "This group lab uses a 1994 data set of detailed prices on items sold at more than 400 Burger King, Wendy's, KFC, and [Roy Rogers](https://en.wikipedia.org/wiki/Roy_Rogers_Restaurants) restaurants in New Jersey and Pennsylvania.\n",
    "\n",
    "The data set is a restricted version of the data set used in this publication:\n",
    "\n",
    "> [K. Graddy (1997), \"Do Fast-Food Chains Price Discriminate on the Race and Income Characteristics of an Area?\" Journal of Business and Economic Statistics 15, 391-401](http://people.brandeis.edu/~kgraddy/published%20papers/GraddyK_jbes1997.pdf).\n",
    "\n",
    "**The goal of this exercise is to evaluate whether or not fast food restaurants are using discriminatory pricing.** This is a fairly open-ended prompt. It's up to you to determine how to quantify pricing discrimination using the following groups of variables:\n",
    "- The price of fast food items, which can be a metric of discriminatory practices.\n",
    "- The proportion of African Americans residents, low-income residents, and residents without a car.\n",
    "\n",
    "---\n",
    "\n",
    "### In Groups, You Should:\n",
    "\n",
    "1) **Load and examine the data.**\n",
    "\n",
    "2) **Perform any necessary data cleaning.**\n",
    "\n",
    "3) **Conduct an exploratory data analysis relevant to the goals of the project.** What variables are you interested in for your target(s) and predictors? What types of relationships do you see in the data that will inform your analysis?\n",
    "\n",
    "4) **Formulate and formally define your hypotheses.** Based on the prompt and your EDA, come up with a plan for testing each one.\n",
    "\n",
    "5) **Construct regression models to test each hypothesis.** What are your findings? Do they support the hypothesis? What are the limitations and assumptions of your approach? \n",
    "\n",
    "6) **[Bonus] Cross-validate the results of your regression.** If the results support your hypotheses, do they hold up during cross-validation or a train/test split?\n",
    "\n",
    "7) **Prepare a brief (10-minute) presentation on the findings.** Each group's presentation should include your questions, models, and findings.\n",
    "    - Be concise! Only include relevant information in your presentation.\n",
    "    - Visuals are nice, but don't overdo it.\n",
    "    - Don't just talk about your model's significance or metrics. Interpret the coefficients. What are the implications?\n",
    "    - What future hypotheses could you test going forward?\n",
    "\n",
    "\n",
    "> *Note*: If you are interested, the full data set is also available in the \"datasets\" folder under the name `discrim_full.csv`."
   ]
  },
  {
   "cell_type": "markdown",
   "metadata": {},
   "source": [
    "### Data Set Characteristics\n",
    "\n",
    "    :Number of Instances: 410\n",
    "    \n",
    "    :Attribute Information\n",
    "    \n",
    "    psoda         price of medium soda\n",
    "    pfries        price of small fries\n",
    "    pentree       price entree (burger or chicken)\n",
    "    wagest        starting wage\n",
    "    nmgrs         number of managers\n",
    "    nregs         number of registers\n",
    "    hrsopen       hours open\n",
    "    emp           number of employees\n",
    "    compown       =1 if company owned\n",
    "    chain         BK = 1, KFC = 2, Roy Rogers = 3, Wendy's = 4\n",
    "    density       population density, town\n",
    "    crmrte        crime rate, town\n",
    "    state         NJ = 1, PA = 2\n",
    "    prpblck       proportion black, zipcode\n",
    "    prppov        proportion in poverty, zipcode\n",
    "    prpncar       proportion no car, zipcode\n",
    "    hseval        median housing value, zipcode\n",
    "    nstores       number of stores, zipcode\n",
    "    income        median family income, zipcode\n",
    "    county        county label\n",
    "    NJ            =1 for New Jersey\n",
    "    BK            =1 if Burger King\n",
    "    KFC           =1 if Kentucky Fried Chicken\n",
    "    RR            =1 if Roy Rogers"
   ]
  },
  {
   "cell_type": "code",
   "execution_count": 416,
   "metadata": {},
   "outputs": [],
   "source": [
    "# Data modules\n",
    "import numpy as np\n",
    "import scipy.stats as stats\n",
    "import pandas as pd\n",
    "\n",
    "# Plotting modules\n",
    "import matplotlib.pyplot as plt\n",
    "import seaborn as sns\n",
    "sns.set_style('whitegrid')\n",
    "\n",
    "# Stats/regressions packages\n",
    "from sklearn import linear_model\n",
    "from sklearn.metrics import r2_score\n",
    "\n",
    "# Make sure your charts appear in the notebook\n",
    "%matplotlib inline\n",
    "%config InlineBackend.figure_format ='retina'\n",
    "\n",
    "import patsy\n",
    "\n",
    "from sklearn.linear_model import Ridge, Lasso, ElasticNet, LinearRegression, RidgeCV, LassoCV, ElasticNetCV\n",
    "from sklearn.model_selection import cross_val_score"
   ]
  },
  {
   "cell_type": "code",
   "execution_count": 417,
   "metadata": {},
   "outputs": [],
   "source": [
    "food = pd.read_csv('./datasets/discrim.csv')"
   ]
  },
  {
   "cell_type": "code",
   "execution_count": 418,
   "metadata": {
    "collapsed": true
   },
   "outputs": [
    {
     "data": {
      "text/html": [
       "<div>\n",
       "<style scoped>\n",
       "    .dataframe tbody tr th:only-of-type {\n",
       "        vertical-align: middle;\n",
       "    }\n",
       "\n",
       "    .dataframe tbody tr th {\n",
       "        vertical-align: top;\n",
       "    }\n",
       "\n",
       "    .dataframe thead th {\n",
       "        text-align: right;\n",
       "    }\n",
       "</style>\n",
       "<table border=\"1\" class=\"dataframe\">\n",
       "  <thead>\n",
       "    <tr style=\"text-align: right;\">\n",
       "      <th></th>\n",
       "      <th>psoda</th>\n",
       "      <th>pfries</th>\n",
       "      <th>pentree</th>\n",
       "      <th>wagest</th>\n",
       "      <th>nmgrs</th>\n",
       "      <th>nregs</th>\n",
       "      <th>hrsopen</th>\n",
       "      <th>emp</th>\n",
       "      <th>compown</th>\n",
       "      <th>chain</th>\n",
       "      <th>...</th>\n",
       "      <th>prppov</th>\n",
       "      <th>prpncar</th>\n",
       "      <th>hseval</th>\n",
       "      <th>nstores</th>\n",
       "      <th>income</th>\n",
       "      <th>county</th>\n",
       "      <th>NJ</th>\n",
       "      <th>BK</th>\n",
       "      <th>KFC</th>\n",
       "      <th>RR</th>\n",
       "    </tr>\n",
       "  </thead>\n",
       "  <tbody>\n",
       "    <tr>\n",
       "      <th>0</th>\n",
       "      <td>1.12</td>\n",
       "      <td>1.06</td>\n",
       "      <td>1.02</td>\n",
       "      <td>4.25</td>\n",
       "      <td>3.0</td>\n",
       "      <td>5.0</td>\n",
       "      <td>16.0</td>\n",
       "      <td>27.5</td>\n",
       "      <td>1</td>\n",
       "      <td>3</td>\n",
       "      <td>...</td>\n",
       "      <td>0.036579</td>\n",
       "      <td>0.078843</td>\n",
       "      <td>148300.0</td>\n",
       "      <td>3</td>\n",
       "      <td>44534.0</td>\n",
       "      <td>18</td>\n",
       "      <td>1</td>\n",
       "      <td>0</td>\n",
       "      <td>0</td>\n",
       "      <td>1</td>\n",
       "    </tr>\n",
       "    <tr>\n",
       "      <th>1</th>\n",
       "      <td>1.06</td>\n",
       "      <td>0.91</td>\n",
       "      <td>0.95</td>\n",
       "      <td>4.75</td>\n",
       "      <td>3.0</td>\n",
       "      <td>3.0</td>\n",
       "      <td>16.5</td>\n",
       "      <td>21.5</td>\n",
       "      <td>0</td>\n",
       "      <td>1</td>\n",
       "      <td>...</td>\n",
       "      <td>0.036579</td>\n",
       "      <td>0.078843</td>\n",
       "      <td>148300.0</td>\n",
       "      <td>3</td>\n",
       "      <td>44534.0</td>\n",
       "      <td>18</td>\n",
       "      <td>1</td>\n",
       "      <td>1</td>\n",
       "      <td>0</td>\n",
       "      <td>0</td>\n",
       "    </tr>\n",
       "    <tr>\n",
       "      <th>2</th>\n",
       "      <td>1.06</td>\n",
       "      <td>0.91</td>\n",
       "      <td>0.98</td>\n",
       "      <td>4.25</td>\n",
       "      <td>3.0</td>\n",
       "      <td>5.0</td>\n",
       "      <td>18.0</td>\n",
       "      <td>30.0</td>\n",
       "      <td>0</td>\n",
       "      <td>1</td>\n",
       "      <td>...</td>\n",
       "      <td>0.087907</td>\n",
       "      <td>0.269430</td>\n",
       "      <td>169200.0</td>\n",
       "      <td>3</td>\n",
       "      <td>41164.0</td>\n",
       "      <td>12</td>\n",
       "      <td>1</td>\n",
       "      <td>1</td>\n",
       "      <td>0</td>\n",
       "      <td>0</td>\n",
       "    </tr>\n",
       "    <tr>\n",
       "      <th>3</th>\n",
       "      <td>1.12</td>\n",
       "      <td>1.02</td>\n",
       "      <td>1.06</td>\n",
       "      <td>5.00</td>\n",
       "      <td>4.0</td>\n",
       "      <td>5.0</td>\n",
       "      <td>16.0</td>\n",
       "      <td>27.5</td>\n",
       "      <td>0</td>\n",
       "      <td>3</td>\n",
       "      <td>...</td>\n",
       "      <td>0.059123</td>\n",
       "      <td>0.136690</td>\n",
       "      <td>171600.0</td>\n",
       "      <td>3</td>\n",
       "      <td>50366.0</td>\n",
       "      <td>10</td>\n",
       "      <td>1</td>\n",
       "      <td>0</td>\n",
       "      <td>0</td>\n",
       "      <td>1</td>\n",
       "    </tr>\n",
       "    <tr>\n",
       "      <th>4</th>\n",
       "      <td>1.12</td>\n",
       "      <td>NaN</td>\n",
       "      <td>0.49</td>\n",
       "      <td>5.00</td>\n",
       "      <td>3.0</td>\n",
       "      <td>3.0</td>\n",
       "      <td>16.0</td>\n",
       "      <td>5.0</td>\n",
       "      <td>0</td>\n",
       "      <td>1</td>\n",
       "      <td>...</td>\n",
       "      <td>0.025414</td>\n",
       "      <td>0.073802</td>\n",
       "      <td>249100.0</td>\n",
       "      <td>1</td>\n",
       "      <td>72287.0</td>\n",
       "      <td>10</td>\n",
       "      <td>1</td>\n",
       "      <td>1</td>\n",
       "      <td>0</td>\n",
       "      <td>0</td>\n",
       "    </tr>\n",
       "  </tbody>\n",
       "</table>\n",
       "<p>5 rows × 24 columns</p>\n",
       "</div>"
      ],
      "text/plain": [
       "   psoda  pfries  pentree  wagest  nmgrs  nregs  hrsopen   emp  compown  \\\n",
       "0   1.12    1.06     1.02    4.25    3.0    5.0     16.0  27.5        1   \n",
       "1   1.06    0.91     0.95    4.75    3.0    3.0     16.5  21.5        0   \n",
       "2   1.06    0.91     0.98    4.25    3.0    5.0     18.0  30.0        0   \n",
       "3   1.12    1.02     1.06    5.00    4.0    5.0     16.0  27.5        0   \n",
       "4   1.12     NaN     0.49    5.00    3.0    3.0     16.0   5.0        0   \n",
       "\n",
       "   chain ...    prppov   prpncar    hseval  nstores   income  county  NJ  BK  \\\n",
       "0      3 ...  0.036579  0.078843  148300.0        3  44534.0      18   1   0   \n",
       "1      1 ...  0.036579  0.078843  148300.0        3  44534.0      18   1   1   \n",
       "2      1 ...  0.087907  0.269430  169200.0        3  41164.0      12   1   1   \n",
       "3      3 ...  0.059123  0.136690  171600.0        3  50366.0      10   1   0   \n",
       "4      1 ...  0.025414  0.073802  249100.0        1  72287.0      10   1   1   \n",
       "\n",
       "   KFC  RR  \n",
       "0    0   1  \n",
       "1    0   0  \n",
       "2    0   0  \n",
       "3    0   1  \n",
       "4    0   0  \n",
       "\n",
       "[5 rows x 24 columns]"
      ]
     },
     "execution_count": 418,
     "metadata": {},
     "output_type": "execute_result"
    }
   ],
   "source": [
    "food.head()"
   ]
  },
  {
   "cell_type": "code",
   "execution_count": 419,
   "metadata": {},
   "outputs": [
    {
     "name": "stdout",
     "output_type": "stream",
     "text": [
      "<class 'pandas.core.frame.DataFrame'>\n",
      "RangeIndex: 410 entries, 0 to 409\n",
      "Data columns (total 24 columns):\n",
      "psoda      402 non-null float64\n",
      "pfries     393 non-null float64\n",
      "pentree    398 non-null float64\n",
      "wagest     390 non-null float64\n",
      "nmgrs      404 non-null float64\n",
      "nregs      388 non-null float64\n",
      "hrsopen    410 non-null float64\n",
      "emp        404 non-null float64\n",
      "compown    410 non-null int64\n",
      "chain      410 non-null int64\n",
      "density    409 non-null float64\n",
      "crmrte     409 non-null float64\n",
      "state      410 non-null int64\n",
      "prpblck    409 non-null float64\n",
      "prppov     409 non-null float64\n",
      "prpncar    409 non-null float64\n",
      "hseval     409 non-null float64\n",
      "nstores    410 non-null int64\n",
      "income     409 non-null float64\n",
      "county     410 non-null int64\n",
      "NJ         410 non-null int64\n",
      "BK         410 non-null int64\n",
      "KFC        410 non-null int64\n",
      "RR         410 non-null int64\n",
      "dtypes: float64(15), int64(9)\n",
      "memory usage: 77.0 KB\n"
     ]
    }
   ],
   "source": [
    "food.info()"
   ]
  },
  {
   "cell_type": "code",
   "execution_count": 420,
   "metadata": {},
   "outputs": [
    {
     "data": {
      "text/plain": [
       "3    103\n",
       "2    103\n",
       "1     73\n",
       "4     52\n",
       "6     25\n",
       "5     24\n",
       "7     19\n",
       "8     11\n",
       "Name: nstores, dtype: int64"
      ]
     },
     "execution_count": 420,
     "metadata": {},
     "output_type": "execute_result"
    }
   ],
   "source": [
    "food['nstores'].value_counts()"
   ]
  },
  {
   "cell_type": "code",
   "execution_count": 421,
   "metadata": {},
   "outputs": [
    {
     "data": {
      "text/html": [
       "<div>\n",
       "<style scoped>\n",
       "    .dataframe tbody tr th:only-of-type {\n",
       "        vertical-align: middle;\n",
       "    }\n",
       "\n",
       "    .dataframe tbody tr th {\n",
       "        vertical-align: top;\n",
       "    }\n",
       "\n",
       "    .dataframe thead th {\n",
       "        text-align: right;\n",
       "    }\n",
       "</style>\n",
       "<table border=\"1\" class=\"dataframe\">\n",
       "  <thead>\n",
       "    <tr style=\"text-align: right;\">\n",
       "      <th></th>\n",
       "      <th>psoda</th>\n",
       "      <th>pfries</th>\n",
       "      <th>pentree</th>\n",
       "      <th>wagest</th>\n",
       "      <th>nmgrs</th>\n",
       "      <th>nregs</th>\n",
       "      <th>hrsopen</th>\n",
       "      <th>emp</th>\n",
       "      <th>compown</th>\n",
       "      <th>chain</th>\n",
       "      <th>...</th>\n",
       "      <th>prppov</th>\n",
       "      <th>prpncar</th>\n",
       "      <th>hseval</th>\n",
       "      <th>nstores</th>\n",
       "      <th>income</th>\n",
       "      <th>county</th>\n",
       "      <th>NJ</th>\n",
       "      <th>BK</th>\n",
       "      <th>KFC</th>\n",
       "      <th>RR</th>\n",
       "    </tr>\n",
       "  </thead>\n",
       "  <tbody>\n",
       "    <tr>\n",
       "      <th>0</th>\n",
       "      <td>1.12</td>\n",
       "      <td>1.06</td>\n",
       "      <td>1.02</td>\n",
       "      <td>4.25</td>\n",
       "      <td>3.0</td>\n",
       "      <td>5.0</td>\n",
       "      <td>16.0</td>\n",
       "      <td>27.50</td>\n",
       "      <td>1</td>\n",
       "      <td>3</td>\n",
       "      <td>...</td>\n",
       "      <td>0.036579</td>\n",
       "      <td>0.078843</td>\n",
       "      <td>148300.0</td>\n",
       "      <td>3</td>\n",
       "      <td>44534.0</td>\n",
       "      <td>18</td>\n",
       "      <td>1</td>\n",
       "      <td>0</td>\n",
       "      <td>0</td>\n",
       "      <td>1</td>\n",
       "    </tr>\n",
       "    <tr>\n",
       "      <th>46</th>\n",
       "      <td>1.02</td>\n",
       "      <td>1.07</td>\n",
       "      <td>0.95</td>\n",
       "      <td>5.00</td>\n",
       "      <td>4.0</td>\n",
       "      <td>4.0</td>\n",
       "      <td>17.0</td>\n",
       "      <td>22.00</td>\n",
       "      <td>0</td>\n",
       "      <td>3</td>\n",
       "      <td>...</td>\n",
       "      <td>0.027804</td>\n",
       "      <td>0.026637</td>\n",
       "      <td>161300.0</td>\n",
       "      <td>3</td>\n",
       "      <td>54216.0</td>\n",
       "      <td>18</td>\n",
       "      <td>1</td>\n",
       "      <td>0</td>\n",
       "      <td>0</td>\n",
       "      <td>1</td>\n",
       "    </tr>\n",
       "    <tr>\n",
       "      <th>56</th>\n",
       "      <td>1.12</td>\n",
       "      <td>1.07</td>\n",
       "      <td>1.06</td>\n",
       "      <td>NaN</td>\n",
       "      <td>2.0</td>\n",
       "      <td>6.0</td>\n",
       "      <td>11.5</td>\n",
       "      <td>17.25</td>\n",
       "      <td>1</td>\n",
       "      <td>3</td>\n",
       "      <td>...</td>\n",
       "      <td>0.047436</td>\n",
       "      <td>0.085971</td>\n",
       "      <td>155300.0</td>\n",
       "      <td>4</td>\n",
       "      <td>48350.0</td>\n",
       "      <td>18</td>\n",
       "      <td>1</td>\n",
       "      <td>0</td>\n",
       "      <td>0</td>\n",
       "      <td>1</td>\n",
       "    </tr>\n",
       "    <tr>\n",
       "      <th>271</th>\n",
       "      <td>1.20</td>\n",
       "      <td>1.17</td>\n",
       "      <td>2.35</td>\n",
       "      <td>5.00</td>\n",
       "      <td>2.0</td>\n",
       "      <td>4.0</td>\n",
       "      <td>7.0</td>\n",
       "      <td>3.00</td>\n",
       "      <td>1</td>\n",
       "      <td>3</td>\n",
       "      <td>...</td>\n",
       "      <td>0.016036</td>\n",
       "      <td>0.012972</td>\n",
       "      <td>204000.0</td>\n",
       "      <td>1</td>\n",
       "      <td>57672.0</td>\n",
       "      <td>18</td>\n",
       "      <td>1</td>\n",
       "      <td>0</td>\n",
       "      <td>0</td>\n",
       "      <td>1</td>\n",
       "    </tr>\n",
       "    <tr>\n",
       "      <th>306</th>\n",
       "      <td>1.10</td>\n",
       "      <td>1.00</td>\n",
       "      <td>0.74</td>\n",
       "      <td>5.25</td>\n",
       "      <td>3.0</td>\n",
       "      <td>4.0</td>\n",
       "      <td>16.0</td>\n",
       "      <td>30.00</td>\n",
       "      <td>0</td>\n",
       "      <td>3</td>\n",
       "      <td>...</td>\n",
       "      <td>0.022561</td>\n",
       "      <td>0.038316</td>\n",
       "      <td>188400.0</td>\n",
       "      <td>8</td>\n",
       "      <td>63905.0</td>\n",
       "      <td>18</td>\n",
       "      <td>1</td>\n",
       "      <td>0</td>\n",
       "      <td>0</td>\n",
       "      <td>1</td>\n",
       "    </tr>\n",
       "    <tr>\n",
       "      <th>309</th>\n",
       "      <td>1.09</td>\n",
       "      <td>NaN</td>\n",
       "      <td>0.95</td>\n",
       "      <td>4.62</td>\n",
       "      <td>3.0</td>\n",
       "      <td>4.0</td>\n",
       "      <td>16.0</td>\n",
       "      <td>18.00</td>\n",
       "      <td>0</td>\n",
       "      <td>3</td>\n",
       "      <td>...</td>\n",
       "      <td>0.022561</td>\n",
       "      <td>0.038316</td>\n",
       "      <td>188400.0</td>\n",
       "      <td>8</td>\n",
       "      <td>63905.0</td>\n",
       "      <td>18</td>\n",
       "      <td>1</td>\n",
       "      <td>0</td>\n",
       "      <td>0</td>\n",
       "      <td>1</td>\n",
       "    </tr>\n",
       "    <tr>\n",
       "      <th>310</th>\n",
       "      <td>NaN</td>\n",
       "      <td>NaN</td>\n",
       "      <td>NaN</td>\n",
       "      <td>NaN</td>\n",
       "      <td>4.0</td>\n",
       "      <td>5.0</td>\n",
       "      <td>12.5</td>\n",
       "      <td>20.00</td>\n",
       "      <td>0</td>\n",
       "      <td>3</td>\n",
       "      <td>...</td>\n",
       "      <td>0.022561</td>\n",
       "      <td>0.038316</td>\n",
       "      <td>188400.0</td>\n",
       "      <td>8</td>\n",
       "      <td>63905.0</td>\n",
       "      <td>18</td>\n",
       "      <td>1</td>\n",
       "      <td>0</td>\n",
       "      <td>0</td>\n",
       "      <td>1</td>\n",
       "    </tr>\n",
       "    <tr>\n",
       "      <th>311</th>\n",
       "      <td>1.12</td>\n",
       "      <td>1.07</td>\n",
       "      <td>1.10</td>\n",
       "      <td>4.25</td>\n",
       "      <td>5.0</td>\n",
       "      <td>NaN</td>\n",
       "      <td>17.0</td>\n",
       "      <td>21.75</td>\n",
       "      <td>1</td>\n",
       "      <td>3</td>\n",
       "      <td>...</td>\n",
       "      <td>0.038116</td>\n",
       "      <td>0.033687</td>\n",
       "      <td>161200.0</td>\n",
       "      <td>4</td>\n",
       "      <td>51806.0</td>\n",
       "      <td>18</td>\n",
       "      <td>1</td>\n",
       "      <td>0</td>\n",
       "      <td>0</td>\n",
       "      <td>1</td>\n",
       "    </tr>\n",
       "    <tr>\n",
       "      <th>315</th>\n",
       "      <td>1.12</td>\n",
       "      <td>1.07</td>\n",
       "      <td>1.06</td>\n",
       "      <td>4.75</td>\n",
       "      <td>2.0</td>\n",
       "      <td>5.0</td>\n",
       "      <td>17.0</td>\n",
       "      <td>14.00</td>\n",
       "      <td>1</td>\n",
       "      <td>3</td>\n",
       "      <td>...</td>\n",
       "      <td>0.026324</td>\n",
       "      <td>0.051031</td>\n",
       "      <td>156200.0</td>\n",
       "      <td>1</td>\n",
       "      <td>50884.0</td>\n",
       "      <td>18</td>\n",
       "      <td>1</td>\n",
       "      <td>0</td>\n",
       "      <td>0</td>\n",
       "      <td>1</td>\n",
       "    </tr>\n",
       "    <tr>\n",
       "      <th>324</th>\n",
       "      <td>1.06</td>\n",
       "      <td>1.06</td>\n",
       "      <td>1.06</td>\n",
       "      <td>5.50</td>\n",
       "      <td>4.0</td>\n",
       "      <td>5.0</td>\n",
       "      <td>17.0</td>\n",
       "      <td>27.50</td>\n",
       "      <td>0</td>\n",
       "      <td>3</td>\n",
       "      <td>...</td>\n",
       "      <td>0.146482</td>\n",
       "      <td>0.252790</td>\n",
       "      <td>126100.0</td>\n",
       "      <td>3</td>\n",
       "      <td>33462.0</td>\n",
       "      <td>18</td>\n",
       "      <td>1</td>\n",
       "      <td>0</td>\n",
       "      <td>0</td>\n",
       "      <td>1</td>\n",
       "    </tr>\n",
       "    <tr>\n",
       "      <th>328</th>\n",
       "      <td>1.28</td>\n",
       "      <td>1.06</td>\n",
       "      <td>2.30</td>\n",
       "      <td>4.50</td>\n",
       "      <td>5.0</td>\n",
       "      <td>2.0</td>\n",
       "      <td>24.0</td>\n",
       "      <td>30.00</td>\n",
       "      <td>1</td>\n",
       "      <td>3</td>\n",
       "      <td>...</td>\n",
       "      <td>0.062385</td>\n",
       "      <td>0.098329</td>\n",
       "      <td>136200.0</td>\n",
       "      <td>1</td>\n",
       "      <td>44987.0</td>\n",
       "      <td>18</td>\n",
       "      <td>1</td>\n",
       "      <td>0</td>\n",
       "      <td>0</td>\n",
       "      <td>1</td>\n",
       "    </tr>\n",
       "  </tbody>\n",
       "</table>\n",
       "<p>11 rows × 24 columns</p>\n",
       "</div>"
      ],
      "text/plain": [
       "     psoda  pfries  pentree  wagest  nmgrs  nregs  hrsopen    emp  compown  \\\n",
       "0     1.12    1.06     1.02    4.25    3.0    5.0     16.0  27.50        1   \n",
       "46    1.02    1.07     0.95    5.00    4.0    4.0     17.0  22.00        0   \n",
       "56    1.12    1.07     1.06     NaN    2.0    6.0     11.5  17.25        1   \n",
       "271   1.20    1.17     2.35    5.00    2.0    4.0      7.0   3.00        1   \n",
       "306   1.10    1.00     0.74    5.25    3.0    4.0     16.0  30.00        0   \n",
       "309   1.09     NaN     0.95    4.62    3.0    4.0     16.0  18.00        0   \n",
       "310    NaN     NaN      NaN     NaN    4.0    5.0     12.5  20.00        0   \n",
       "311   1.12    1.07     1.10    4.25    5.0    NaN     17.0  21.75        1   \n",
       "315   1.12    1.07     1.06    4.75    2.0    5.0     17.0  14.00        1   \n",
       "324   1.06    1.06     1.06    5.50    4.0    5.0     17.0  27.50        0   \n",
       "328   1.28    1.06     2.30    4.50    5.0    2.0     24.0  30.00        1   \n",
       "\n",
       "     chain ...    prppov   prpncar    hseval  nstores   income  county  NJ  \\\n",
       "0        3 ...  0.036579  0.078843  148300.0        3  44534.0      18   1   \n",
       "46       3 ...  0.027804  0.026637  161300.0        3  54216.0      18   1   \n",
       "56       3 ...  0.047436  0.085971  155300.0        4  48350.0      18   1   \n",
       "271      3 ...  0.016036  0.012972  204000.0        1  57672.0      18   1   \n",
       "306      3 ...  0.022561  0.038316  188400.0        8  63905.0      18   1   \n",
       "309      3 ...  0.022561  0.038316  188400.0        8  63905.0      18   1   \n",
       "310      3 ...  0.022561  0.038316  188400.0        8  63905.0      18   1   \n",
       "311      3 ...  0.038116  0.033687  161200.0        4  51806.0      18   1   \n",
       "315      3 ...  0.026324  0.051031  156200.0        1  50884.0      18   1   \n",
       "324      3 ...  0.146482  0.252790  126100.0        3  33462.0      18   1   \n",
       "328      3 ...  0.062385  0.098329  136200.0        1  44987.0      18   1   \n",
       "\n",
       "     BK  KFC  RR  \n",
       "0     0    0   1  \n",
       "46    0    0   1  \n",
       "56    0    0   1  \n",
       "271   0    0   1  \n",
       "306   0    0   1  \n",
       "309   0    0   1  \n",
       "310   0    0   1  \n",
       "311   0    0   1  \n",
       "315   0    0   1  \n",
       "324   0    0   1  \n",
       "328   0    0   1  \n",
       "\n",
       "[11 rows x 24 columns]"
      ]
     },
     "execution_count": 421,
     "metadata": {},
     "output_type": "execute_result"
    }
   ],
   "source": [
    "food[(food['county'] == 18) & (food['RR'] == 1)]"
   ]
  },
  {
   "cell_type": "code",
   "execution_count": 422,
   "metadata": {},
   "outputs": [
    {
     "data": {
      "text/plain": [
       "0.000000    9\n",
       "0.009989    6\n",
       "0.023150    6\n",
       "0.921056    5\n",
       "0.208941    5\n",
       "0.034385    5\n",
       "0.607332    5\n",
       "0.159131    5\n",
       "0.039983    5\n",
       "0.070283    4\n",
       "0.065714    4\n",
       "0.249817    4\n",
       "0.185530    4\n",
       "0.106456    4\n",
       "0.173280    4\n",
       "0.019091    4\n",
       "0.032352    3\n",
       "0.105874    3\n",
       "0.359895    3\n",
       "0.058840    3\n",
       "0.007601    3\n",
       "0.004454    3\n",
       "0.195367    3\n",
       "0.009186    3\n",
       "0.091129    3\n",
       "0.022458    3\n",
       "0.041444    3\n",
       "0.006095    3\n",
       "0.036297    3\n",
       "0.073496    3\n",
       "           ..\n",
       "0.615669    1\n",
       "0.022145    1\n",
       "0.013911    1\n",
       "0.236974    1\n",
       "0.029728    1\n",
       "0.056068    1\n",
       "0.018677    1\n",
       "0.386551    1\n",
       "0.111835    1\n",
       "0.013148    1\n",
       "0.000892    1\n",
       "0.017352    1\n",
       "0.698250    1\n",
       "0.001305    1\n",
       "0.016090    1\n",
       "0.011820    1\n",
       "0.052839    1\n",
       "0.014477    1\n",
       "0.011885    1\n",
       "0.160128    1\n",
       "0.026728    1\n",
       "0.014763    1\n",
       "0.003633    1\n",
       "0.017508    1\n",
       "0.005836    1\n",
       "0.012478    1\n",
       "0.044304    1\n",
       "0.000262    1\n",
       "0.433610    1\n",
       "0.057046    1\n",
       "Name: prpblck, Length: 241, dtype: int64"
      ]
     },
     "execution_count": 422,
     "metadata": {},
     "output_type": "execute_result"
    }
   ],
   "source": [
    "food['prpblck'].value_counts()"
   ]
  },
  {
   "cell_type": "code",
   "execution_count": 424,
   "metadata": {},
   "outputs": [
    {
     "data": {
      "text/plain": [
       "2     35\n",
       "18    32\n",
       "6     31\n",
       "20    29\n",
       "10    28\n",
       "19    23\n",
       "5     21\n",
       "21    20\n",
       "12    19\n",
       "23    17\n",
       "1     16\n",
       "28    15\n",
       "4     15\n",
       "15    15\n",
       "24    14\n",
       "17    13\n",
       "11    13\n",
       "14     8\n",
       "9      8\n",
       "7      7\n",
       "26     7\n",
       "16     4\n",
       "22     4\n",
       "27     4\n",
       "29     4\n",
       "8      3\n",
       "25     3\n",
       "13     1\n",
       "3      1\n",
       "Name: county, dtype: int64"
      ]
     },
     "execution_count": 424,
     "metadata": {},
     "output_type": "execute_result"
    }
   ],
   "source": [
    "food['county'].value_counts()"
   ]
  },
  {
   "cell_type": "code",
   "execution_count": 426,
   "metadata": {},
   "outputs": [],
   "source": [
    "corr_dict = {}\n",
    "for i in range(len(food.columns)):\n",
    "    for j in range(len(food.columns)):\n",
    "        if j >= i:\n",
    "            cor = food.corr().values[i][j]\n",
    "            if (np.abs(cor) > 0.7 and np.abs(cor) < 1):\n",
    "                corr_dict[(food.columns[i], food.columns[j])] = cor"
   ]
  },
  {
   "cell_type": "code",
   "execution_count": 427,
   "metadata": {},
   "outputs": [
    {
     "data": {
      "text/plain": [
       "{('pentree', 'KFC'): 0.8790596699667645,\n",
       " ('chain', 'BK'): -0.8519096067586456,\n",
       " ('prppov', 'prpncar'): 0.9316695852668941,\n",
       " ('prppov', 'income'): -0.7249557247030409,\n",
       " ('hseval', 'income'): 0.8384240437631255}"
      ]
     },
     "execution_count": 427,
     "metadata": {},
     "output_type": "execute_result"
    }
   ],
   "source": [
    "corr_dict"
   ]
  },
  {
   "cell_type": "markdown",
   "metadata": {},
   "source": [
    "**T-test for proportion of black in 2 groups**"
   ]
  },
  {
   "cell_type": "code",
   "execution_count": 430,
   "metadata": {},
   "outputs": [],
   "source": [
    "food['black'] = [1 if prop > 0.1 else 0 for prop in food['prpblck']]"
   ]
  },
  {
   "cell_type": "code",
   "execution_count": 431,
   "metadata": {},
   "outputs": [],
   "source": [
    "food['meal'] = food['psoda'] + food['pfries'] + food['pentree']"
   ]
  },
  {
   "cell_type": "code",
   "execution_count": 432,
   "metadata": {},
   "outputs": [
    {
     "name": "stdout",
     "output_type": "stream",
     "text": [
      "t-statistic=3.398049350715034, p-value=0.0007495221603568831\n"
     ]
    },
    {
     "name": "stderr",
     "output_type": "stream",
     "text": [
      "/Users/joshuamei/anaconda3/lib/python3.7/site-packages/pandas/core/series.py:3896: SettingWithCopyWarning: \n",
      "A value is trying to be set on a copy of a slice from a DataFrame\n",
      "\n",
      "See the caveats in the documentation: http://pandas.pydata.org/pandas-docs/stable/indexing.html#indexing-view-versus-copy\n",
      "  self._update_inplace(result)\n"
     ]
    }
   ],
   "source": [
    "x1 = food[food['black'] == 1]['meal']\n",
    "x1.dropna(inplace=True)\n",
    "x2 = food[food['black'] == 0]['meal']\n",
    "x2.dropna(inplace=True)\n",
    "t_stat, p_value = stats.ttest_ind(x1,x2)\n",
    "print('t-statistic={}, p-value={}'.format(t_stat, p_value))"
   ]
  },
  {
   "cell_type": "code",
   "execution_count": 433,
   "metadata": {},
   "outputs": [
    {
     "name": "stdout",
     "output_type": "stream",
     "text": [
      "3.45396694214876 3.216052631578947\n"
     ]
    }
   ],
   "source": [
    "print (x1.mean(), x2.mean())"
   ]
  },
  {
   "cell_type": "code",
   "execution_count": 434,
   "metadata": {},
   "outputs": [],
   "source": [
    "food['black2'] = [1 if prop > 0.2 else 0 for prop in food['prpblck']]"
   ]
  },
  {
   "cell_type": "code",
   "execution_count": 435,
   "metadata": {},
   "outputs": [
    {
     "name": "stdout",
     "output_type": "stream",
     "text": [
      "t-statistic=3.8758562232660685, p-value=0.000124879936630659\n"
     ]
    }
   ],
   "source": [
    "x1 = food[food['black2'] == 1]['meal']\n",
    "x1.dropna(inplace=True)\n",
    "x2 = food[food['black2'] == 0]['meal']\n",
    "x2.dropna(inplace=True)\n",
    "t_stat, p_value = stats.ttest_ind(x1,x2)\n",
    "print('t-statistic={}, p-value={}'.format(t_stat, p_value))"
   ]
  },
  {
   "cell_type": "code",
   "execution_count": 436,
   "metadata": {},
   "outputs": [
    {
     "name": "stdout",
     "output_type": "stream",
     "text": [
      "3.5666666666666673 3.233644859813082\n"
     ]
    }
   ],
   "source": [
    "print (x1.mean(), x2.mean())"
   ]
  },
  {
   "cell_type": "code",
   "execution_count": 437,
   "metadata": {},
   "outputs": [
    {
     "name": "stdout",
     "output_type": "stream",
     "text": [
      "t-statistic=0.28221602347653874, p-value=0.7785449938405856\n",
      "4.361739130434782 4.333090909090909\n"
     ]
    }
   ],
   "source": [
    "kfc = food[food['KFC'] == 1].copy()\n",
    "kfc_x1 = kfc[kfc['black2'] == 1]['meal']\n",
    "kfc_x1.dropna(inplace=True)\n",
    "kfc_x2 = kfc[kfc['black2'] == 0]['meal']\n",
    "kfc_x2.dropna(inplace=True)\n",
    "t_stat, p_value = stats.ttest_ind(kfc_x1,kfc_x2)\n",
    "print('t-statistic={}, p-value={}'.format(t_stat, p_value))\n",
    "print (kfc_x1.mean(), kfc_x2.mean())"
   ]
  },
  {
   "cell_type": "markdown",
   "metadata": {},
   "source": [
    "**Linear regression on one feature**"
   ]
  },
  {
   "cell_type": "code",
   "execution_count": 443,
   "metadata": {},
   "outputs": [
    {
     "data": {
      "text/plain": [
       "LinearRegression(copy_X=True, fit_intercept=True, n_jobs=None,\n",
       "         normalize=False)"
      ]
     },
     "execution_count": 443,
     "metadata": {},
     "output_type": "execute_result"
    }
   ],
   "source": [
    "food.dropna(inplace=True)\n",
    "predictor = food['prpblck']\n",
    "price = food['meal']\n",
    "from sklearn.model_selection import train_test_split\n",
    "X_train, X_test, y_train, y_test = train_test_split(predictor.to_frame(), price, test_size=0.2, random_state=42)\n",
    "lr = LinearRegression()\n",
    "lr.fit(X_train,y_train)"
   ]
  },
  {
   "cell_type": "code",
   "execution_count": 444,
   "metadata": {},
   "outputs": [],
   "source": [
    "price_test_pred = lr.predict(X_test)"
   ]
  },
  {
   "cell_type": "code",
   "execution_count": 447,
   "metadata": {},
   "outputs": [
    {
     "name": "stderr",
     "output_type": "stream",
     "text": [
      "/Users/joshuamei/anaconda3/lib/python3.7/site-packages/scipy/stats/stats.py:1713: FutureWarning: Using a non-tuple sequence for multidimensional indexing is deprecated; use `arr[tuple(seq)]` instead of `arr[seq]`. In the future this will be interpreted as an array index, `arr[np.array(seq)]`, which will result either in an error or a different result.\n",
      "  return np.add.reduce(sorted[indexer] * weights, axis=axis) / sumval\n"
     ]
    },
    {
     "data": {
      "text/plain": [
       "<seaborn.axisgrid.JointGrid at 0x1a21c24358>"
      ]
     },
     "execution_count": 447,
     "metadata": {},
     "output_type": "execute_result"
    },
    {
     "data": {
      "image/png": "[encoded data removed]",
      "text/plain": [
       "<Figure size 432x432 with 3 Axes>"
      ]
     },
     "metadata": {
      "image/png": {
       "height": 424,
       "width": 423
      },
      "needs_background": "light"
     },
     "output_type": "display_data"
    }
   ],
   "source": [
    "sns.jointplot(y_test, price_test_pred)"
   ]
  },
  {
   "cell_type": "code",
   "execution_count": 448,
   "metadata": {},
   "outputs": [
    {
     "data": {
      "text/plain": [
       "-0.08484536655039521"
      ]
     },
     "execution_count": 448,
     "metadata": {},
     "output_type": "execute_result"
    }
   ],
   "source": [
    "r2_score(y_test, price_test_pred)"
   ]
  },
  {
   "cell_type": "code",
   "execution_count": 449,
   "metadata": {},
   "outputs": [
    {
     "data": {
      "text/plain": [
       "LinearRegression(copy_X=True, fit_intercept=True, n_jobs=None,\n",
       "         normalize=False)"
      ]
     },
     "execution_count": 449,
     "metadata": {},
     "output_type": "execute_result"
    }
   ],
   "source": [
    "predictor = food[['prpblck','income']]\n",
    "price = food['meal']\n",
    "X_train, X_test, y_train, y_test = train_test_split(predictor, price, test_size=0.2, random_state=42)\n",
    "lr = LinearRegression()\n",
    "lr.fit(X_train,y_train)"
   ]
  },
  {
   "cell_type": "code",
   "execution_count": 450,
   "metadata": {},
   "outputs": [],
   "source": [
    "price_test_pred = lr.predict(X_test)"
   ]
  },
  {
   "cell_type": "code",
   "execution_count": 451,
   "metadata": {},
   "outputs": [
    {
     "name": "stderr",
     "output_type": "stream",
     "text": [
      "/Users/joshuamei/anaconda3/lib/python3.7/site-packages/scipy/stats/stats.py:1713: FutureWarning: Using a non-tuple sequence for multidimensional indexing is deprecated; use `arr[tuple(seq)]` instead of `arr[seq]`. In the future this will be interpreted as an array index, `arr[np.array(seq)]`, which will result either in an error or a different result.\n",
      "  return np.add.reduce(sorted[indexer] * weights, axis=axis) / sumval\n"
     ]
    },
    {
     "data": {
      "text/plain": [
       "<seaborn.axisgrid.JointGrid at 0x1a21102358>"
      ]
     },
     "execution_count": 451,
     "metadata": {},
     "output_type": "execute_result"
    },
    {
     "data": {
      "image/png": "[encoded data removed]",
      "text/plain": [
       "<Figure size 432x432 with 3 Axes>"
      ]
     },
     "metadata": {
      "image/png": {
       "height": 424,
       "width": 423
      },
      "needs_background": "light"
     },
     "output_type": "display_data"
    }
   ],
   "source": [
    "sns.jointplot(y_test, price_test_pred)"
   ]
  },
  {
   "cell_type": "code",
   "execution_count": 452,
   "metadata": {},
   "outputs": [
    {
     "data": {
      "text/plain": [
       "-0.08167062903411515"
      ]
     },
     "execution_count": 452,
     "metadata": {},
     "output_type": "execute_result"
    }
   ],
   "source": [
    "r2_score(y_test, price_test_pred)"
   ]
  },
  {
   "cell_type": "markdown",
   "metadata": {},
   "source": [
    "**Regression with lasso regularization**"
   ]
  },
  {
   "cell_type": "code",
   "execution_count": 453,
   "metadata": {},
   "outputs": [],
   "source": [
    "food_meal_nonnull = food[~food['meal'].isnull()]"
   ]
  },
  {
   "cell_type": "code",
   "execution_count": 454,
   "metadata": {},
   "outputs": [],
   "source": [
    "food_nonnull = food.dropna().copy()\n",
    "food_nonnull.drop(44, inplace=True)"
   ]
  },
  {
   "cell_type": "code",
   "execution_count": 455,
   "metadata": {},
   "outputs": [
    {
     "name": "stdout",
     "output_type": "stream",
     "text": [
      "<class 'pandas.core.frame.DataFrame'>\n",
      "Int64Index: 337 entries, 0 to 409\n",
      "Data columns (total 20 columns):\n",
      "wagest     337 non-null float64\n",
      "nmgrs      337 non-null float64\n",
      "nregs      337 non-null float64\n",
      "hrsopen    337 non-null float64\n",
      "emp        337 non-null float64\n",
      "compown    337 non-null int64\n",
      "density    337 non-null float64\n",
      "crmrte     337 non-null float64\n",
      "prpblck    337 non-null float64\n",
      "prppov     337 non-null float64\n",
      "prpncar    337 non-null float64\n",
      "hseval     337 non-null float64\n",
      "nstores    337 non-null int64\n",
      "income     337 non-null float64\n",
      "NJ         337 non-null int64\n",
      "BK         337 non-null int64\n",
      "KFC        337 non-null int64\n",
      "RR         337 non-null int64\n",
      "black      337 non-null int64\n",
      "black2     337 non-null int64\n",
      "dtypes: float64(12), int64(8)\n",
      "memory usage: 55.3 KB\n"
     ]
    }
   ],
   "source": [
    "X = food_nonnull.loc[:, 'wagest':'black2'].copy()\n",
    "X.drop(['meal', 'chain', 'state', 'county'], axis=1, inplace=True)\n",
    "X.info()"
   ]
  },
  {
   "cell_type": "code",
   "execution_count": 458,
   "metadata": {},
   "outputs": [],
   "source": [
    "y = food_nonnull['meal']\n",
    "# y.info()"
   ]
  },
  {
   "cell_type": "code",
   "execution_count": 459,
   "metadata": {},
   "outputs": [
    {
     "name": "stderr",
     "output_type": "stream",
     "text": [
      "/Users/joshuamei/anaconda3/lib/python3.7/site-packages/sklearn/model_selection/_split.py:2053: FutureWarning: You should specify a value for 'cv' instead of relying on the default value. The default value will change from 3 to 5 in version 0.22.\n",
      "  warnings.warn(CV_WARNING, FutureWarning)\n"
     ]
    },
    {
     "data": {
      "text/plain": [
       "0.00028932934095105527"
      ]
     },
     "execution_count": 459,
     "metadata": {},
     "output_type": "execute_result"
    }
   ],
   "source": [
    "lassoregcv = LassoCV(n_alphas=500, random_state=42, max_iter=10000, normalize=True)\n",
    "lassoregcv.fit(X, y)\n",
    "lassoregcv.alpha_"
   ]
  },
  {
   "cell_type": "code",
   "execution_count": 460,
   "metadata": {},
   "outputs": [
    {
     "data": {
      "text/plain": [
       "array([0.85548015, 0.64630451, 0.61366115, 0.8393865 , 0.70959318,\n",
       "       0.79900344, 0.66010797, 0.55938659, 0.6540343 , 0.78505141])"
      ]
     },
     "execution_count": 460,
     "metadata": {},
     "output_type": "execute_result"
    }
   ],
   "source": [
    "lasso = Lasso(alpha=lassoregcv.alpha_)\n",
    "scores_lasso = cross_val_score(lasso, X, y.to_frame(), cv=10)\n",
    "scores_lasso"
   ]
  },
  {
   "cell_type": "code",
   "execution_count": 461,
   "metadata": {},
   "outputs": [
    {
     "data": {
      "text/plain": [
       "0.7122009213051512"
      ]
     },
     "execution_count": 461,
     "metadata": {},
     "output_type": "execute_result"
    }
   ],
   "source": [
    "np.mean(scores_lasso)"
   ]
  },
  {
   "cell_type": "code",
   "execution_count": 462,
   "metadata": {},
   "outputs": [],
   "source": [
    "lasso.fit(X,y)\n",
    "y_pred = lasso.predict(X)"
   ]
  },
  {
   "cell_type": "code",
   "execution_count": 463,
   "metadata": {},
   "outputs": [
    {
     "name": "stderr",
     "output_type": "stream",
     "text": [
      "/Users/joshuamei/anaconda3/lib/python3.7/site-packages/scipy/stats/stats.py:1713: FutureWarning: Using a non-tuple sequence for multidimensional indexing is deprecated; use `arr[tuple(seq)]` instead of `arr[seq]`. In the future this will be interpreted as an array index, `arr[np.array(seq)]`, which will result either in an error or a different result.\n",
      "  return np.add.reduce(sorted[indexer] * weights, axis=axis) / sumval\n"
     ]
    },
    {
     "data": {
      "image/png": "[encoded data removed]",
      "text/plain": [
       "<Figure size 432x432 with 1 Axes>"
      ]
     },
     "metadata": {
      "image/png": {
       "height": 396,
       "width": 393
      },
      "needs_background": "light"
     },
     "output_type": "display_data"
    }
   ],
   "source": [
    "plt.figure(figsize=(6,6))\n",
    "sns.regplot(y, y_pred)\n",
    "plt.xlabel('meal_price', fontsize=18)\n",
    "plt.ylabel('predicted price', fontsize=18)\n",
    "plt.title('price vs predicted price (lasso)', fontsize=18)\n",
    "# plt.legend()\n",
    "plt.show()"
   ]
  },
  {
   "cell_type": "code",
   "execution_count": 464,
   "metadata": {},
   "outputs": [
    {
     "data": {
      "text/plain": [
       "array([1.30714930e+00, 1.27265248e+00, 1.03619084e+00, 2.98492057e-01,\n",
       "       1.76350348e-01, 1.27087250e-01, 9.92497050e-02, 9.19756974e-02,\n",
       "       1.91319683e-02, 1.71862830e-02, 9.48859219e-03, 8.84545052e-03,\n",
       "       1.70831309e-03, 6.37014655e-06, 2.43746620e-06, 2.28918171e-06,\n",
       "       0.00000000e+00, 0.00000000e+00, 0.00000000e+00, 0.00000000e+00])"
      ]
     },
     "execution_count": 464,
     "metadata": {},
     "output_type": "execute_result"
    }
   ],
   "source": [
    "np.abs(lassoregcv.coef_)\n",
    "sorted_coeff = -np.sort(-np.abs(lassoregcv.coef_))\n",
    "sorted_coeff"
   ]
  },
  {
   "cell_type": "code",
   "execution_count": 465,
   "metadata": {},
   "outputs": [
    {
     "data": {
      "text/plain": [
       "{'wagest': 0.017186282986548597,\n",
       " 'nmgrs': -0.0,\n",
       " 'nregs': 0.009488592192688602,\n",
       " 'hrsopen': 0.0,\n",
       " 'emp': -0.001708313090194412,\n",
       " 'compown': -0.0992497049654714,\n",
       " 'density': 2.289181710803468e-06,\n",
       " 'crmrte': 1.0361908371061301,\n",
       " 'prpblck': 0.29849205655949057,\n",
       " 'prppov': -1.3071492958011046,\n",
       " 'prpncar': -0.0,\n",
       " 'hseval': 2.4374661952616792e-06,\n",
       " 'nstores': -0.019131968326074292,\n",
       " 'income': -6.370146554626169e-06,\n",
       " 'NJ': 0.0919756974230327,\n",
       " 'BK': -0.1763503476017072,\n",
       " 'KFC': 1.27265248498687,\n",
       " 'RR': 0.12708724993032516,\n",
       " 'black': 0.0,\n",
       " 'black2': 0.008845450516572385}"
      ]
     },
     "execution_count": 465,
     "metadata": {},
     "output_type": "execute_result"
    }
   ],
   "source": [
    "pred_dict = dict(zip(X.columns, lassoregcv.coef_))\n",
    "pred_dict"
   ]
  },
  {
   "cell_type": "code",
   "execution_count": 480,
   "metadata": {},
   "outputs": [
    {
     "data": {
      "text/plain": [
       "Index(['wagest', 'compown', 'crmrte', 'prpblck', 'prppov', 'nstores', 'NJ',\n",
       "       'BK', 'KFC', 'RR'],\n",
       "      dtype='object')"
      ]
     },
     "execution_count": 480,
     "metadata": {},
     "output_type": "execute_result"
    }
   ],
   "source": [
    "top = X.columns[np.abs(lassoregcv.coef_) >= sorted_coeff[9]]\n",
    "top"
   ]
  },
  {
   "cell_type": "code",
   "execution_count": 467,
   "metadata": {},
   "outputs": [
    {
     "data": {
      "text/plain": [
       "1.0361908371061301"
      ]
     },
     "execution_count": 467,
     "metadata": {},
     "output_type": "execute_result"
    }
   ],
   "source": [
    "pred_dict['crmrte']"
   ]
  },
  {
   "cell_type": "code",
   "execution_count": 468,
   "metadata": {},
   "outputs": [
    {
     "data": {
      "text/plain": [
       "0.29849205655949057"
      ]
     },
     "execution_count": 468,
     "metadata": {},
     "output_type": "execute_result"
    }
   ],
   "source": [
    "pred_dict['prpblck']"
   ]
  },
  {
   "cell_type": "code",
   "execution_count": 469,
   "metadata": {},
   "outputs": [
    {
     "data": {
      "text/plain": [
       "-1.3071492958011046"
      ]
     },
     "execution_count": 469,
     "metadata": {},
     "output_type": "execute_result"
    }
   ],
   "source": [
    "pred_dict['prppov']"
   ]
  },
  {
   "cell_type": "code",
   "execution_count": 470,
   "metadata": {},
   "outputs": [
    {
     "data": {
      "text/plain": [
       "-0.1763503476017072"
      ]
     },
     "execution_count": 470,
     "metadata": {},
     "output_type": "execute_result"
    }
   ],
   "source": [
    "pred_dict['BK']"
   ]
  },
  {
   "cell_type": "code",
   "execution_count": 471,
   "metadata": {},
   "outputs": [
    {
     "data": {
      "text/plain": [
       "1.27265248498687"
      ]
     },
     "execution_count": 471,
     "metadata": {},
     "output_type": "execute_result"
    }
   ],
   "source": [
    "pred_dict['KFC']"
   ]
  },
  {
   "cell_type": "code",
   "execution_count": 485,
   "metadata": {},
   "outputs": [
    {
     "data": {
      "text/plain": [
       "0.0919756974230327"
      ]
     },
     "execution_count": 485,
     "metadata": {},
     "output_type": "execute_result"
    }
   ],
   "source": [
    "pred_dict['NJ']"
   ]
  },
  {
   "cell_type": "code",
   "execution_count": 486,
   "metadata": {},
   "outputs": [
    {
     "data": {
      "text/plain": [
       "0.12708724993032516"
      ]
     },
     "execution_count": 486,
     "metadata": {},
     "output_type": "execute_result"
    }
   ],
   "source": [
    "pred_dict['RR']"
   ]
  },
  {
   "cell_type": "code",
   "execution_count": 487,
   "metadata": {},
   "outputs": [
    {
     "data": {
      "text/plain": [
       "0.017186282986548597"
      ]
     },
     "execution_count": 487,
     "metadata": {},
     "output_type": "execute_result"
    }
   ],
   "source": [
    "pred_dict['wagest']"
   ]
  },
  {
   "cell_type": "code",
   "execution_count": 488,
   "metadata": {},
   "outputs": [
    {
     "data": {
      "text/plain": [
       "-0.0992497049654714"
      ]
     },
     "execution_count": 488,
     "metadata": {},
     "output_type": "execute_result"
    }
   ],
   "source": [
    "pred_dict['compown']"
   ]
  },
  {
   "cell_type": "code",
   "execution_count": 489,
   "metadata": {},
   "outputs": [
    {
     "data": {
      "text/plain": [
       "-0.019131968326074292"
      ]
     },
     "execution_count": 489,
     "metadata": {},
     "output_type": "execute_result"
    }
   ],
   "source": [
    "pred_dict['nstores']"
   ]
  },
  {
   "cell_type": "markdown",
   "metadata": {},
   "source": [
    "**Linear regression using top 5 features**"
   ]
  },
  {
   "cell_type": "code",
   "execution_count": 491,
   "metadata": {},
   "outputs": [
    {
     "data": {
      "text/plain": [
       "array([0.79598469, 0.58540187, 0.52906948, 0.85863553, 0.7106869 ,\n",
       "       0.75378644, 0.69480682, 0.5978722 , 0.67035866, 0.65724498])"
      ]
     },
     "execution_count": 491,
     "metadata": {},
     "output_type": "execute_result"
    }
   ],
   "source": [
    "linreg = LinearRegression()\n",
    "k = 10\n",
    "best_X = X[['crmrte', 'prpblck', 'prppov', 'BK', 'KFC']]\n",
    "# best_X = X[['crmrte', 'hseval', 'prppov', 'BK', 'KFC']]\n",
    "\n",
    "# best_X = (best_X - best_X.mean())/ best_X.std()\n",
    "scores_lin = cross_val_score(linreg, best_X, y.to_frame(), cv=k)\n",
    "scores_lin"
   ]
  },
  {
   "cell_type": "code",
   "execution_count": 492,
   "metadata": {},
   "outputs": [
    {
     "data": {
      "text/plain": [
       "0.6853847569703866"
      ]
     },
     "execution_count": 492,
     "metadata": {},
     "output_type": "execute_result"
    }
   ],
   "source": [
    "np.mean(scores_lin)"
   ]
  },
  {
   "cell_type": "code",
   "execution_count": null,
   "metadata": {},
   "outputs": [],
   "source": []
  }
 ],
 "metadata": {
  "kernelspec": {
   "display_name": "Python 3",
   "language": "python",
   "name": "python3"
  },
  "language_info": {
   "codemirror_mode": {
    "name": "ipython",
    "version": 3
   },
   "file_extension": ".py",
   "mimetype": "text/x-python",
   "name": "python",
   "nbconvert_exporter": "python",
   "pygments_lexer": "ipython3",
   "version": "3.7.1"
  }
 },
 "nbformat": 4,
 "nbformat_minor": 2
}

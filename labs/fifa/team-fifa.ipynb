{
 "cells": [
  {
   "cell_type": "markdown",
   "metadata": {},
   "source": [
    "# Team FIFA\n",
    "\n",
    "---\n",
    "You are working for an advertising analytics consulting company.  Your client, a name brand television network, needs to re-formulate their pricing structure for advertisement slots during soccer matches for new customers.  They also want this new structure to incentivize existing customers to create new partnerships/sponsors with teams and players.  \n",
    "\n",
    "**Goals:**\n",
    "- Determine a reasonable metric to decide how exciting a game is.\n",
    "    - Engineer this feature using existing data.\n",
    "- Suggest a pricing structure tied to the overall value associated with \"game excitement\".\n",
    "\n",
    "**Presentation requirements:**\n",
    "- At least 50% of presentation must address a non-technical audience.\n",
    "- Someone who hasn't presented in class yet must take lead on presentation."
   ]
  },
  {
   "cell_type": "code",
   "execution_count": 358,
   "metadata": {
    "collapsed": true
   },
   "outputs": [],
   "source": [
    "import pandas as pd\n",
    "import numpy as np\n",
    "import seaborn as sns\n",
    "import matplotlib.pyplot as plt\n",
    "\n",
    "%matplotlib inline\n",
    "\n",
    "df = pd.read_csv(\"./datasets/fifa_goals.csv\")"
   ]
  },
  {
   "cell_type": "code",
   "execution_count": 359,
   "metadata": {
    "collapsed": true
   },
   "outputs": [],
   "source": [
    "df['total_goals'] = df['team1score'] + df['team2score']"
   ]
  },
  {
   "cell_type": "code",
   "execution_count": 360,
   "metadata": {},
   "outputs": [],
   "source": [
    "total_goals = df.groupby('game_id').max()['total_goals']\n",
    "goals_dict = dict(zip(total_goals.index, total_goals.values))\n",
    "for i, goals in goals_dict.items():\n",
    "    indexes = df[df['game_id'] == i].index\n",
    "    df.loc[indexes, 'total_goals'] = goals"
   ]
  },
  {
   "cell_type": "code",
   "execution_count": 361,
   "metadata": {},
   "outputs": [],
   "source": [
    "clean_min = [float(value) if value.isdigit() else float(value.replace('+','')) for value in df['minute']]\n",
    "df['minute'] = clean_min"
   ]
  },
  {
   "cell_type": "code",
   "execution_count": 362,
   "metadata": {},
   "outputs": [],
   "source": [
    "overtime = df.groupby('game_id').max()['minute'] > 90\n",
    "overtime = overtime.astype(int)\n",
    "overtime_dict = dict(zip(overtime.index, overtime.values))\n",
    "for i, isovertime in overtime_dict.items():\n",
    "    indexes = df[df['game_id'] == i].index\n",
    "    df.loc[indexes, 'overtime'] = isovertime"
   ]
  },
  {
   "cell_type": "code",
   "execution_count": 363,
   "metadata": {},
   "outputs": [
    {
     "data": {
      "text/html": [
       "<div>\n",
       "<style scoped>\n",
       "    .dataframe tbody tr th:only-of-type {\n",
       "        vertical-align: middle;\n",
       "    }\n",
       "\n",
       "    .dataframe tbody tr th {\n",
       "        vertical-align: top;\n",
       "    }\n",
       "\n",
       "    .dataframe thead th {\n",
       "        text-align: right;\n",
       "    }\n",
       "</style>\n",
       "<table border=\"1\" class=\"dataframe\">\n",
       "  <thead>\n",
       "    <tr style=\"text-align: right;\">\n",
       "      <th></th>\n",
       "      <th>game_id</th>\n",
       "      <th>minute</th>\n",
       "      <th>player</th>\n",
       "      <th>team1score</th>\n",
       "      <th>team2score</th>\n",
       "      <th>total_goals</th>\n",
       "      <th>overtime</th>\n",
       "    </tr>\n",
       "  </thead>\n",
       "  <tbody>\n",
       "    <tr>\n",
       "      <th>0</th>\n",
       "      <td>1</td>\n",
       "      <td>18.0</td>\n",
       "      <td>Schiavio</td>\n",
       "      <td>1</td>\n",
       "      <td>0</td>\n",
       "      <td>8</td>\n",
       "      <td>0.0</td>\n",
       "    </tr>\n",
       "    <tr>\n",
       "      <th>1</th>\n",
       "      <td>1</td>\n",
       "      <td>20.0</td>\n",
       "      <td>Orsi</td>\n",
       "      <td>2</td>\n",
       "      <td>0</td>\n",
       "      <td>8</td>\n",
       "      <td>0.0</td>\n",
       "    </tr>\n",
       "    <tr>\n",
       "      <th>2</th>\n",
       "      <td>1</td>\n",
       "      <td>29.0</td>\n",
       "      <td>Schiavio</td>\n",
       "      <td>3</td>\n",
       "      <td>0</td>\n",
       "      <td>8</td>\n",
       "      <td>0.0</td>\n",
       "    </tr>\n",
       "    <tr>\n",
       "      <th>3</th>\n",
       "      <td>1</td>\n",
       "      <td>57.0</td>\n",
       "      <td>Donelli</td>\n",
       "      <td>3</td>\n",
       "      <td>1</td>\n",
       "      <td>8</td>\n",
       "      <td>0.0</td>\n",
       "    </tr>\n",
       "    <tr>\n",
       "      <th>4</th>\n",
       "      <td>1</td>\n",
       "      <td>63.0</td>\n",
       "      <td>Ferrari</td>\n",
       "      <td>4</td>\n",
       "      <td>1</td>\n",
       "      <td>8</td>\n",
       "      <td>0.0</td>\n",
       "    </tr>\n",
       "  </tbody>\n",
       "</table>\n",
       "</div>"
      ],
      "text/plain": [
       "   game_id  minute    player  team1score  team2score  total_goals  overtime\n",
       "0        1    18.0  Schiavio           1           0            8       0.0\n",
       "1        1    20.0      Orsi           2           0            8       0.0\n",
       "2        1    29.0  Schiavio           3           0            8       0.0\n",
       "3        1    57.0   Donelli           3           1            8       0.0\n",
       "4        1    63.0   Ferrari           4           1            8       0.0"
      ]
     },
     "execution_count": 363,
     "metadata": {},
     "output_type": "execute_result"
    }
   ],
   "source": [
    "df.head()"
   ]
  },
  {
   "cell_type": "code",
   "execution_count": 364,
   "metadata": {},
   "outputs": [
    {
     "data": {
      "text/plain": [
       "<matplotlib.axes._subplots.AxesSubplot at 0x1a267c7dd8>"
      ]
     },
     "execution_count": 364,
     "metadata": {},
     "output_type": "execute_result"
    },
    {
     "data": {
      "image/png": "[encoded data removed]",
      "text/plain": [
       "<Figure size 432x288 with 1 Axes>"
      ]
     },
     "metadata": {
      "needs_background": "light"
     },
     "output_type": "display_data"
    }
   ],
   "source": [
    "df.groupby('game_id').max()['total_goals'].hist()"
   ]
  },
  {
   "cell_type": "code",
   "execution_count": 365,
   "metadata": {},
   "outputs": [
    {
     "data": {
      "text/plain": [
       "<matplotlib.axes._subplots.AxesSubplot at 0x1a2666db70>"
      ]
     },
     "execution_count": 365,
     "metadata": {},
     "output_type": "execute_result"
    },
    {
     "data": {
      "image/png": "[encoded data removed]",
      "text/plain": [
       "<Figure size 432x288 with 1 Axes>"
      ]
     },
     "metadata": {
      "needs_background": "light"
     },
     "output_type": "display_data"
    }
   ],
   "source": [
    "df.groupby('game_id').max()['overtime'].hist()"
   ]
  },
  {
   "cell_type": "code",
   "execution_count": 366,
   "metadata": {},
   "outputs": [
    {
     "data": {
      "text/plain": [
       "0.0    678\n",
       "1.0     31\n",
       "Name: overtime, dtype: int64"
      ]
     },
     "execution_count": 366,
     "metadata": {},
     "output_type": "execute_result"
    }
   ],
   "source": [
    "df.groupby('game_id').max()['overtime'].value_counts()"
   ]
  },
  {
   "cell_type": "code",
   "execution_count": 367,
   "metadata": {},
   "outputs": [],
   "source": [
    "players = df['player'].value_counts(ascending=False)\n",
    "players_dict = {player: i+1 for i, player in enumerate(players.index)}\n"
   ]
  },
  {
   "cell_type": "code",
   "execution_count": 368,
   "metadata": {},
   "outputs": [],
   "source": [
    "player_rank = [players_dict[player] for player in df['player']]\n",
    "df['player_rank'] = player_rank"
   ]
  },
  {
   "cell_type": "code",
   "execution_count": 369,
   "metadata": {},
   "outputs": [],
   "source": [
    "games = {}\n",
    "for game in df['game_id'].unique():\n",
    "    times = []\n",
    "    for time in df[df['game_id']==game]['minute'].values:\n",
    "        times.append(time)\n",
    "    games[game] = times\n",
    "# games    \n",
    "goal_intervals = {}\n",
    "for game,goals in games.items():\n",
    "    a = np.array(goals[:-1])\n",
    "    b = np.array(goals[1:])\n",
    "    intervals = b - a\n",
    "\n",
    "    goal_intervals[game] = intervals   \n",
    "\n",
    "# goal_intervals\n",
    "\n",
    "df['avg_goal_freq'] = 0\n",
    "for game,intervals in goal_intervals.items():\n",
    "    indexes = df[df['game_id']==game].index\n",
    "    if (len(intervals) == 0):\n",
    "        df.loc[indexes, 'avg_goal_freq'] = np.inf\n",
    "    else:\n",
    "        df.loc[indexes, 'avg_goal_freq'] = np.mean(intervals)"
   ]
  },
  {
   "cell_type": "code",
   "execution_count": 370,
   "metadata": {},
   "outputs": [
    {
     "data": {
      "text/plain": [
       "0"
      ]
     },
     "execution_count": 370,
     "metadata": {},
     "output_type": "execute_result"
    }
   ],
   "source": [
    "df['avg_goal_freq'].isnull().sum()"
   ]
  },
  {
   "cell_type": "code",
   "execution_count": 371,
   "metadata": {},
   "outputs": [],
   "source": [
    "df['score_diff']= df['team1score'] - df['team2score']\n",
    "\n",
    "score_diff=df[df['score_diff']==0].groupby(['game_id']).size().sort_values(ascending=False)\n",
    "\n",
    "df['score_tied_count']=0\n",
    "for id, values in score_diff.items():\n",
    "    #print(values)\n",
    "    \n",
    "    indexes=df[df['game_id']==id].index\n",
    "    df.loc[indexes, 'score_tied_count'] = values"
   ]
  },
  {
   "cell_type": "code",
   "execution_count": 372,
   "metadata": {},
   "outputs": [],
   "source": [
    "# excitement = 0.3*1/rank + 0.1*goals in game + 0.1*overtime + 0.3*1/interval + 0.2*num_ties\n",
    "weight_rank = 0.3\n",
    "weight_goals = 0.1\n",
    "weight_over = 0.1\n",
    "weight_interval = 0.3\n",
    "weight_ties = 0.2\n",
    "excitement = weight_rank/df['player_rank'] + weight_goals*df['total_goals'] + weight_over*df['overtime'] + weight_interval/df['avg_goal_freq'] + weight_ties*df['score_tied_count']"
   ]
  },
  {
   "cell_type": "code",
   "execution_count": 373,
   "metadata": {},
   "outputs": [],
   "source": [
    "df['excitement'] = excitement"
   ]
  },
  {
   "cell_type": "code",
   "execution_count": 374,
   "metadata": {},
   "outputs": [
    {
     "data": {
      "text/html": [
       "<div>\n",
       "<style scoped>\n",
       "    .dataframe tbody tr th:only-of-type {\n",
       "        vertical-align: middle;\n",
       "    }\n",
       "\n",
       "    .dataframe tbody tr th {\n",
       "        vertical-align: top;\n",
       "    }\n",
       "\n",
       "    .dataframe thead th {\n",
       "        text-align: right;\n",
       "    }\n",
       "</style>\n",
       "<table border=\"1\" class=\"dataframe\">\n",
       "  <thead>\n",
       "    <tr style=\"text-align: right;\">\n",
       "      <th></th>\n",
       "      <th>game_id</th>\n",
       "      <th>minute</th>\n",
       "      <th>player</th>\n",
       "      <th>team1score</th>\n",
       "      <th>team2score</th>\n",
       "      <th>total_goals</th>\n",
       "      <th>overtime</th>\n",
       "      <th>player_rank</th>\n",
       "      <th>avg_goal_freq</th>\n",
       "      <th>score_diff</th>\n",
       "      <th>score_tied_count</th>\n",
       "      <th>excitement</th>\n",
       "    </tr>\n",
       "  </thead>\n",
       "  <tbody>\n",
       "    <tr>\n",
       "      <th>654</th>\n",
       "      <td>276</td>\n",
       "      <td>18.0</td>\n",
       "      <td>LeÃ´nidas</td>\n",
       "      <td>1</td>\n",
       "      <td>0</td>\n",
       "      <td>11</td>\n",
       "      <td>1.0</td>\n",
       "      <td>19</td>\n",
       "      <td>10.0</td>\n",
       "      <td>1</td>\n",
       "      <td>3</td>\n",
       "      <td>1.845789</td>\n",
       "    </tr>\n",
       "    <tr>\n",
       "      <th>655</th>\n",
       "      <td>276</td>\n",
       "      <td>23.0</td>\n",
       "      <td>Scherfke [p.]</td>\n",
       "      <td>1</td>\n",
       "      <td>1</td>\n",
       "      <td>11</td>\n",
       "      <td>1.0</td>\n",
       "      <td>566</td>\n",
       "      <td>10.0</td>\n",
       "      <td>0</td>\n",
       "      <td>3</td>\n",
       "      <td>1.830530</td>\n",
       "    </tr>\n",
       "    <tr>\n",
       "      <th>656</th>\n",
       "      <td>276</td>\n",
       "      <td>25.0</td>\n",
       "      <td>Romeu</td>\n",
       "      <td>2</td>\n",
       "      <td>1</td>\n",
       "      <td>11</td>\n",
       "      <td>1.0</td>\n",
       "      <td>202</td>\n",
       "      <td>10.0</td>\n",
       "      <td>1</td>\n",
       "      <td>3</td>\n",
       "      <td>1.831485</td>\n",
       "    </tr>\n",
       "    <tr>\n",
       "      <th>657</th>\n",
       "      <td>276</td>\n",
       "      <td>44.0</td>\n",
       "      <td>PerÃ¡cio</td>\n",
       "      <td>3</td>\n",
       "      <td>1</td>\n",
       "      <td>11</td>\n",
       "      <td>1.0</td>\n",
       "      <td>145</td>\n",
       "      <td>10.0</td>\n",
       "      <td>2</td>\n",
       "      <td>3</td>\n",
       "      <td>1.832069</td>\n",
       "    </tr>\n",
       "    <tr>\n",
       "      <th>658</th>\n",
       "      <td>276</td>\n",
       "      <td>53.0</td>\n",
       "      <td>Wilimowski</td>\n",
       "      <td>3</td>\n",
       "      <td>2</td>\n",
       "      <td>11</td>\n",
       "      <td>1.0</td>\n",
       "      <td>93</td>\n",
       "      <td>10.0</td>\n",
       "      <td>1</td>\n",
       "      <td>3</td>\n",
       "      <td>1.833226</td>\n",
       "    </tr>\n",
       "    <tr>\n",
       "      <th>659</th>\n",
       "      <td>276</td>\n",
       "      <td>59.0</td>\n",
       "      <td>Wilimowski</td>\n",
       "      <td>3</td>\n",
       "      <td>3</td>\n",
       "      <td>11</td>\n",
       "      <td>1.0</td>\n",
       "      <td>93</td>\n",
       "      <td>10.0</td>\n",
       "      <td>0</td>\n",
       "      <td>3</td>\n",
       "      <td>1.833226</td>\n",
       "    </tr>\n",
       "    <tr>\n",
       "      <th>660</th>\n",
       "      <td>276</td>\n",
       "      <td>71.0</td>\n",
       "      <td>PerÃ¡cio</td>\n",
       "      <td>4</td>\n",
       "      <td>3</td>\n",
       "      <td>11</td>\n",
       "      <td>1.0</td>\n",
       "      <td>145</td>\n",
       "      <td>10.0</td>\n",
       "      <td>1</td>\n",
       "      <td>3</td>\n",
       "      <td>1.832069</td>\n",
       "    </tr>\n",
       "    <tr>\n",
       "      <th>661</th>\n",
       "      <td>276</td>\n",
       "      <td>89.0</td>\n",
       "      <td>Wilimowski</td>\n",
       "      <td>4</td>\n",
       "      <td>4</td>\n",
       "      <td>11</td>\n",
       "      <td>1.0</td>\n",
       "      <td>93</td>\n",
       "      <td>10.0</td>\n",
       "      <td>0</td>\n",
       "      <td>3</td>\n",
       "      <td>1.833226</td>\n",
       "    </tr>\n",
       "    <tr>\n",
       "      <th>662</th>\n",
       "      <td>276</td>\n",
       "      <td>93.0</td>\n",
       "      <td>LeÃ´nidas</td>\n",
       "      <td>5</td>\n",
       "      <td>4</td>\n",
       "      <td>11</td>\n",
       "      <td>1.0</td>\n",
       "      <td>19</td>\n",
       "      <td>10.0</td>\n",
       "      <td>1</td>\n",
       "      <td>3</td>\n",
       "      <td>1.845789</td>\n",
       "    </tr>\n",
       "    <tr>\n",
       "      <th>663</th>\n",
       "      <td>276</td>\n",
       "      <td>104.0</td>\n",
       "      <td>LeÃ´nidas</td>\n",
       "      <td>6</td>\n",
       "      <td>4</td>\n",
       "      <td>11</td>\n",
       "      <td>1.0</td>\n",
       "      <td>19</td>\n",
       "      <td>10.0</td>\n",
       "      <td>2</td>\n",
       "      <td>3</td>\n",
       "      <td>1.845789</td>\n",
       "    </tr>\n",
       "    <tr>\n",
       "      <th>664</th>\n",
       "      <td>276</td>\n",
       "      <td>118.0</td>\n",
       "      <td>Wilimowski</td>\n",
       "      <td>6</td>\n",
       "      <td>5</td>\n",
       "      <td>11</td>\n",
       "      <td>1.0</td>\n",
       "      <td>93</td>\n",
       "      <td>10.0</td>\n",
       "      <td>1</td>\n",
       "      <td>3</td>\n",
       "      <td>1.833226</td>\n",
       "    </tr>\n",
       "  </tbody>\n",
       "</table>\n",
       "</div>"
      ],
      "text/plain": [
       "     game_id  minute         player  team1score  team2score  total_goals  \\\n",
       "654      276    18.0      LeÃ´nidas           1           0           11   \n",
       "655      276    23.0  Scherfke [p.]           1           1           11   \n",
       "656      276    25.0          Romeu           2           1           11   \n",
       "657      276    44.0       PerÃ¡cio           3           1           11   \n",
       "658      276    53.0     Wilimowski           3           2           11   \n",
       "659      276    59.0     Wilimowski           3           3           11   \n",
       "660      276    71.0       PerÃ¡cio           4           3           11   \n",
       "661      276    89.0     Wilimowski           4           4           11   \n",
       "662      276    93.0      LeÃ´nidas           5           4           11   \n",
       "663      276   104.0      LeÃ´nidas           6           4           11   \n",
       "664      276   118.0     Wilimowski           6           5           11   \n",
       "\n",
       "     overtime  player_rank  avg_goal_freq  score_diff  score_tied_count  \\\n",
       "654       1.0           19           10.0           1                 3   \n",
       "655       1.0          566           10.0           0                 3   \n",
       "656       1.0          202           10.0           1                 3   \n",
       "657       1.0          145           10.0           2                 3   \n",
       "658       1.0           93           10.0           1                 3   \n",
       "659       1.0           93           10.0           0                 3   \n",
       "660       1.0          145           10.0           1                 3   \n",
       "661       1.0           93           10.0           0                 3   \n",
       "662       1.0           19           10.0           1                 3   \n",
       "663       1.0           19           10.0           2                 3   \n",
       "664       1.0           93           10.0           1                 3   \n",
       "\n",
       "     excitement  \n",
       "654    1.845789  \n",
       "655    1.830530  \n",
       "656    1.831485  \n",
       "657    1.832069  \n",
       "658    1.833226  \n",
       "659    1.833226  \n",
       "660    1.832069  \n",
       "661    1.833226  \n",
       "662    1.845789  \n",
       "663    1.845789  \n",
       "664    1.833226  "
      ]
     },
     "execution_count": 374,
     "metadata": {},
     "output_type": "execute_result"
    }
   ],
   "source": [
    "df[df['game_id'] == 276]"
   ]
  },
  {
   "cell_type": "code",
   "execution_count": 375,
   "metadata": {},
   "outputs": [
    {
     "data": {
      "text/html": [
       "<div>\n",
       "<style scoped>\n",
       "    .dataframe tbody tr th:only-of-type {\n",
       "        vertical-align: middle;\n",
       "    }\n",
       "\n",
       "    .dataframe tbody tr th {\n",
       "        vertical-align: top;\n",
       "    }\n",
       "\n",
       "    .dataframe thead th {\n",
       "        text-align: right;\n",
       "    }\n",
       "</style>\n",
       "<table border=\"1\" class=\"dataframe\">\n",
       "  <thead>\n",
       "    <tr style=\"text-align: right;\">\n",
       "      <th></th>\n",
       "      <th>minute</th>\n",
       "      <th>player</th>\n",
       "      <th>team1score</th>\n",
       "      <th>team2score</th>\n",
       "      <th>total_goals</th>\n",
       "      <th>overtime</th>\n",
       "      <th>player_rank</th>\n",
       "      <th>avg_goal_freq</th>\n",
       "      <th>score_diff</th>\n",
       "      <th>score_tied_count</th>\n",
       "      <th>excitement</th>\n",
       "    </tr>\n",
       "    <tr>\n",
       "      <th>game_id</th>\n",
       "      <th></th>\n",
       "      <th></th>\n",
       "      <th></th>\n",
       "      <th></th>\n",
       "      <th></th>\n",
       "      <th></th>\n",
       "      <th></th>\n",
       "      <th></th>\n",
       "      <th></th>\n",
       "      <th></th>\n",
       "      <th></th>\n",
       "    </tr>\n",
       "  </thead>\n",
       "  <tbody>\n",
       "    <tr>\n",
       "      <th>276</th>\n",
       "      <td>118.0</td>\n",
       "      <td>Wilimowski</td>\n",
       "      <td>6</td>\n",
       "      <td>5</td>\n",
       "      <td>11</td>\n",
       "      <td>1.0</td>\n",
       "      <td>566</td>\n",
       "      <td>10.000000</td>\n",
       "      <td>2</td>\n",
       "      <td>3</td>\n",
       "      <td>1.845789</td>\n",
       "    </tr>\n",
       "    <tr>\n",
       "      <th>21</th>\n",
       "      <td>83.0</td>\n",
       "      <td>Wisnieski</td>\n",
       "      <td>7</td>\n",
       "      <td>3</td>\n",
       "      <td>10</td>\n",
       "      <td>0.0</td>\n",
       "      <td>1014</td>\n",
       "      <td>7.000000</td>\n",
       "      <td>4</td>\n",
       "      <td>3</td>\n",
       "      <td>1.717857</td>\n",
       "    </tr>\n",
       "    <tr>\n",
       "      <th>610</th>\n",
       "      <td>111.0</td>\n",
       "      <td>Schnellinger</td>\n",
       "      <td>4</td>\n",
       "      <td>3</td>\n",
       "      <td>7</td>\n",
       "      <td>1.0</td>\n",
       "      <td>1131</td>\n",
       "      <td>17.166667</td>\n",
       "      <td>1</td>\n",
       "      <td>3</td>\n",
       "      <td>1.717476</td>\n",
       "    </tr>\n",
       "    <tr>\n",
       "      <th>818</th>\n",
       "      <td>93.0</td>\n",
       "      <td>Lofthouse</td>\n",
       "      <td>4</td>\n",
       "      <td>4</td>\n",
       "      <td>8</td>\n",
       "      <td>1.0</td>\n",
       "      <td>1086</td>\n",
       "      <td>12.714286</td>\n",
       "      <td>2</td>\n",
       "      <td>3</td>\n",
       "      <td>1.525310</td>\n",
       "    </tr>\n",
       "    <tr>\n",
       "      <th>830</th>\n",
       "      <td>77.0</td>\n",
       "      <td>Wagner</td>\n",
       "      <td>7</td>\n",
       "      <td>5</td>\n",
       "      <td>12</td>\n",
       "      <td>0.0</td>\n",
       "      <td>385</td>\n",
       "      <td>5.545455</td>\n",
       "      <td>2</td>\n",
       "      <td>1</td>\n",
       "      <td>1.464443</td>\n",
       "    </tr>\n",
       "  </tbody>\n",
       "</table>\n",
       "</div>"
      ],
      "text/plain": [
       "         minute        player  team1score  team2score  total_goals  overtime  \\\n",
       "game_id                                                                        \n",
       "276       118.0    Wilimowski           6           5           11       1.0   \n",
       "21         83.0     Wisnieski           7           3           10       0.0   \n",
       "610       111.0  Schnellinger           4           3            7       1.0   \n",
       "818        93.0     Lofthouse           4           4            8       1.0   \n",
       "830        77.0        Wagner           7           5           12       0.0   \n",
       "\n",
       "         player_rank  avg_goal_freq  score_diff  score_tied_count  excitement  \n",
       "game_id                                                                        \n",
       "276              566      10.000000           2                 3    1.845789  \n",
       "21              1014       7.000000           4                 3    1.717857  \n",
       "610             1131      17.166667           1                 3    1.717476  \n",
       "818             1086      12.714286           2                 3    1.525310  \n",
       "830              385       5.545455           2                 1    1.464443  "
      ]
     },
     "execution_count": 375,
     "metadata": {},
     "output_type": "execute_result"
    }
   ],
   "source": [
    "df.groupby('game_id').max().sort_values('excitement', ascending=False).head()"
   ]
  },
  {
   "cell_type": "code",
   "execution_count": 376,
   "metadata": {},
   "outputs": [
    {
     "data": {
      "text/html": [
       "<div>\n",
       "<style scoped>\n",
       "    .dataframe tbody tr th:only-of-type {\n",
       "        vertical-align: middle;\n",
       "    }\n",
       "\n",
       "    .dataframe tbody tr th {\n",
       "        vertical-align: top;\n",
       "    }\n",
       "\n",
       "    .dataframe thead th {\n",
       "        text-align: right;\n",
       "    }\n",
       "</style>\n",
       "<table border=\"1\" class=\"dataframe\">\n",
       "  <thead>\n",
       "    <tr style=\"text-align: right;\">\n",
       "      <th></th>\n",
       "      <th>minute</th>\n",
       "      <th>player</th>\n",
       "      <th>team1score</th>\n",
       "      <th>team2score</th>\n",
       "      <th>total_goals</th>\n",
       "      <th>overtime</th>\n",
       "      <th>player_rank</th>\n",
       "      <th>avg_goal_freq</th>\n",
       "      <th>score_diff</th>\n",
       "      <th>score_tied_count</th>\n",
       "      <th>excitement</th>\n",
       "    </tr>\n",
       "    <tr>\n",
       "      <th>game_id</th>\n",
       "      <th></th>\n",
       "      <th></th>\n",
       "      <th></th>\n",
       "      <th></th>\n",
       "      <th></th>\n",
       "      <th></th>\n",
       "      <th></th>\n",
       "      <th></th>\n",
       "      <th></th>\n",
       "      <th></th>\n",
       "      <th></th>\n",
       "    </tr>\n",
       "  </thead>\n",
       "  <tbody>\n",
       "    <tr>\n",
       "      <th>94</th>\n",
       "      <td>48.0</td>\n",
       "      <td>Oganesian</td>\n",
       "      <td>0</td>\n",
       "      <td>1</td>\n",
       "      <td>1</td>\n",
       "      <td>0.0</td>\n",
       "      <td>1180</td>\n",
       "      <td>inf</td>\n",
       "      <td>-1</td>\n",
       "      <td>0</td>\n",
       "      <td>0.100254</td>\n",
       "    </tr>\n",
       "    <tr>\n",
       "      <th>683</th>\n",
       "      <td>80.0</td>\n",
       "      <td>Å tibrÃ¡nyi</td>\n",
       "      <td>1</td>\n",
       "      <td>0</td>\n",
       "      <td>1</td>\n",
       "      <td>0.0</td>\n",
       "      <td>1183</td>\n",
       "      <td>inf</td>\n",
       "      <td>1</td>\n",
       "      <td>0</td>\n",
       "      <td>0.100254</td>\n",
       "    </tr>\n",
       "    <tr>\n",
       "      <th>530</th>\n",
       "      <td>44.0</td>\n",
       "      <td>KakÃ¡</td>\n",
       "      <td>1</td>\n",
       "      <td>0</td>\n",
       "      <td>1</td>\n",
       "      <td>0.0</td>\n",
       "      <td>1205</td>\n",
       "      <td>inf</td>\n",
       "      <td>1</td>\n",
       "      <td>0</td>\n",
       "      <td>0.100249</td>\n",
       "    </tr>\n",
       "    <tr>\n",
       "      <th>313</th>\n",
       "      <td>11.0</td>\n",
       "      <td>Houghton</td>\n",
       "      <td>0</td>\n",
       "      <td>1</td>\n",
       "      <td>1</td>\n",
       "      <td>0.0</td>\n",
       "      <td>1209</td>\n",
       "      <td>inf</td>\n",
       "      <td>-1</td>\n",
       "      <td>0</td>\n",
       "      <td>0.100248</td>\n",
       "    </tr>\n",
       "    <tr>\n",
       "      <th>317</th>\n",
       "      <td>84.0</td>\n",
       "      <td>Rekdal</td>\n",
       "      <td>1</td>\n",
       "      <td>0</td>\n",
       "      <td>1</td>\n",
       "      <td>0.0</td>\n",
       "      <td>1215</td>\n",
       "      <td>inf</td>\n",
       "      <td>1</td>\n",
       "      <td>0</td>\n",
       "      <td>0.100247</td>\n",
       "    </tr>\n",
       "  </tbody>\n",
       "</table>\n",
       "</div>"
      ],
      "text/plain": [
       "         minute       player  team1score  team2score  total_goals  overtime  \\\n",
       "game_id                                                                       \n",
       "94         48.0    Oganesian           0           1            1       0.0   \n",
       "683        80.0  Å tibrÃ¡nyi           1           0            1       0.0   \n",
       "530        44.0        KakÃ¡           1           0            1       0.0   \n",
       "313        11.0     Houghton           0           1            1       0.0   \n",
       "317        84.0       Rekdal           1           0            1       0.0   \n",
       "\n",
       "         player_rank  avg_goal_freq  score_diff  score_tied_count  excitement  \n",
       "game_id                                                                        \n",
       "94              1180            inf          -1                 0    0.100254  \n",
       "683             1183            inf           1                 0    0.100254  \n",
       "530             1205            inf           1                 0    0.100249  \n",
       "313             1209            inf          -1                 0    0.100248  \n",
       "317             1215            inf           1                 0    0.100247  "
      ]
     },
     "execution_count": 376,
     "metadata": {},
     "output_type": "execute_result"
    }
   ],
   "source": [
    "df.groupby('game_id').max().sort_values('excitement', ascending=False).tail()"
   ]
  },
  {
   "cell_type": "code",
   "execution_count": 377,
   "metadata": {},
   "outputs": [
    {
     "data": {
      "text/html": [
       "<div>\n",
       "<style scoped>\n",
       "    .dataframe tbody tr th:only-of-type {\n",
       "        vertical-align: middle;\n",
       "    }\n",
       "\n",
       "    .dataframe tbody tr th {\n",
       "        vertical-align: top;\n",
       "    }\n",
       "\n",
       "    .dataframe thead th {\n",
       "        text-align: right;\n",
       "    }\n",
       "</style>\n",
       "<table border=\"1\" class=\"dataframe\">\n",
       "  <thead>\n",
       "    <tr style=\"text-align: right;\">\n",
       "      <th></th>\n",
       "      <th>game_id</th>\n",
       "      <th>minute</th>\n",
       "      <th>player</th>\n",
       "      <th>team1score</th>\n",
       "      <th>team2score</th>\n",
       "      <th>total_goals</th>\n",
       "      <th>overtime</th>\n",
       "      <th>player_rank</th>\n",
       "      <th>avg_goal_freq</th>\n",
       "      <th>score_diff</th>\n",
       "      <th>score_tied_count</th>\n",
       "      <th>excitement</th>\n",
       "    </tr>\n",
       "  </thead>\n",
       "  <tbody>\n",
       "    <tr>\n",
       "      <th>0</th>\n",
       "      <td>1</td>\n",
       "      <td>18.0</td>\n",
       "      <td>Schiavio</td>\n",
       "      <td>1</td>\n",
       "      <td>0</td>\n",
       "      <td>8</td>\n",
       "      <td>0.0</td>\n",
       "      <td>101</td>\n",
       "      <td>10.285714</td>\n",
       "      <td>1</td>\n",
       "      <td>0</td>\n",
       "      <td>0.832137</td>\n",
       "    </tr>\n",
       "    <tr>\n",
       "      <th>1</th>\n",
       "      <td>1</td>\n",
       "      <td>20.0</td>\n",
       "      <td>Orsi</td>\n",
       "      <td>2</td>\n",
       "      <td>0</td>\n",
       "      <td>8</td>\n",
       "      <td>0.0</td>\n",
       "      <td>201</td>\n",
       "      <td>10.285714</td>\n",
       "      <td>2</td>\n",
       "      <td>0</td>\n",
       "      <td>0.830659</td>\n",
       "    </tr>\n",
       "    <tr>\n",
       "      <th>2</th>\n",
       "      <td>1</td>\n",
       "      <td>29.0</td>\n",
       "      <td>Schiavio</td>\n",
       "      <td>3</td>\n",
       "      <td>0</td>\n",
       "      <td>8</td>\n",
       "      <td>0.0</td>\n",
       "      <td>101</td>\n",
       "      <td>10.285714</td>\n",
       "      <td>3</td>\n",
       "      <td>0</td>\n",
       "      <td>0.832137</td>\n",
       "    </tr>\n",
       "    <tr>\n",
       "      <th>3</th>\n",
       "      <td>1</td>\n",
       "      <td>57.0</td>\n",
       "      <td>Donelli</td>\n",
       "      <td>3</td>\n",
       "      <td>1</td>\n",
       "      <td>8</td>\n",
       "      <td>0.0</td>\n",
       "      <td>809</td>\n",
       "      <td>10.285714</td>\n",
       "      <td>2</td>\n",
       "      <td>0</td>\n",
       "      <td>0.829537</td>\n",
       "    </tr>\n",
       "    <tr>\n",
       "      <th>4</th>\n",
       "      <td>1</td>\n",
       "      <td>63.0</td>\n",
       "      <td>Ferrari</td>\n",
       "      <td>4</td>\n",
       "      <td>1</td>\n",
       "      <td>8</td>\n",
       "      <td>0.0</td>\n",
       "      <td>309</td>\n",
       "      <td>10.285714</td>\n",
       "      <td>3</td>\n",
       "      <td>0</td>\n",
       "      <td>0.830138</td>\n",
       "    </tr>\n",
       "  </tbody>\n",
       "</table>\n",
       "</div>"
      ],
      "text/plain": [
       "   game_id  minute    player  team1score  team2score  total_goals  overtime  \\\n",
       "0        1    18.0  Schiavio           1           0            8       0.0   \n",
       "1        1    20.0      Orsi           2           0            8       0.0   \n",
       "2        1    29.0  Schiavio           3           0            8       0.0   \n",
       "3        1    57.0   Donelli           3           1            8       0.0   \n",
       "4        1    63.0   Ferrari           4           1            8       0.0   \n",
       "\n",
       "   player_rank  avg_goal_freq  score_diff  score_tied_count  excitement  \n",
       "0          101      10.285714           1                 0    0.832137  \n",
       "1          201      10.285714           2                 0    0.830659  \n",
       "2          101      10.285714           3                 0    0.832137  \n",
       "3          809      10.285714           2                 0    0.829537  \n",
       "4          309      10.285714           3                 0    0.830138  "
      ]
     },
     "execution_count": 377,
     "metadata": {},
     "output_type": "execute_result"
    }
   ],
   "source": [
    "df.head()"
   ]
  },
  {
   "cell_type": "code",
   "execution_count": 378,
   "metadata": {},
   "outputs": [
    {
     "data": {
      "image/png": "[encoded data removed]",
      "text/plain": [
       "<Figure size 720x432 with 1 Axes>"
      ]
     },
     "metadata": {
      "needs_background": "light"
     },
     "output_type": "display_data"
    }
   ],
   "source": [
    "interval = [value if value != np.inf else np.nan for value in df['avg_goal_freq'] ]\n",
    "df['interval'] = interval\n",
    "df.groupby('game_id').max()['interval'].hist(figsize=(10,6))\n",
    "# group_game.groupby('interval').size().sort_values().plot(kind='barh', figsize=(10,6))\n",
    "plt.title('Distribution of average time between goals', fontsize=20)\n",
    "plt.ylabel('Number of games', fontsize=20)\n",
    "plt.xlabel('Average time interval between goals in each game', fontsize=20)\n",
    "# plt.yticks([0,1], ['overtime', 'no overtime'], fontsize=15)\n",
    "plt.show()"
   ]
  },
  {
   "cell_type": "code",
   "execution_count": 379,
   "metadata": {},
   "outputs": [
    {
     "data": {
      "image/png": "[encoded data removed]",
      "text/plain": [
       "<Figure size 720x432 with 1 Axes>"
      ]
     },
     "metadata": {
      "needs_background": "light"
     },
     "output_type": "display_data"
    }
   ],
   "source": [
    "group_game = df.groupby('game_id').max().reset_index()\n",
    "group_game.groupby('overtime').size().sort_values().plot(kind='barh', figsize=(10,6))\n",
    "# plt.figure(figsize=(10,5))\n",
    "# df['score_tied_count'].plot(kind='barh')\n",
    "plt.title('Number of games with overtime', fontsize=20)\n",
    "plt.xlabel('Number of games', fontsize=20)\n",
    "plt.ylabel('', fontsize=20)\n",
    "plt.yticks([0,1], ['overtime', 'no overtime'], fontsize=15)\n",
    "plt.show()"
   ]
  },
  {
   "cell_type": "code",
   "execution_count": 380,
   "metadata": {},
   "outputs": [
    {
     "data": {
      "image/png": "[encoded data removed]",
      "text/plain": [
       "<Figure size 720x432 with 1 Axes>"
      ]
     },
     "metadata": {
      "needs_background": "light"
     },
     "output_type": "display_data"
    }
   ],
   "source": [
    "group_game = df.groupby('game_id').max().reset_index()\n",
    "group_game.groupby('total_goals').size().sort_values().plot(kind='barh', figsize=(10,6))\n",
    "# plt.figure(figsize=(10,5))\n",
    "# df['score_tied_count'].plot(kind='barh')\n",
    "plt.title('Total goals in each game', fontsize=20)\n",
    "plt.xlabel('Number of games', fontsize=20)\n",
    "plt.ylabel('Total goals', fontsize=15)\n",
    "plt.show()"
   ]
  },
  {
   "cell_type": "code",
   "execution_count": 381,
   "metadata": {},
   "outputs": [
    {
     "data": {
      "image/png": "[encoded data removed]",
      "text/plain": [
       "<Figure size 720x360 with 1 Axes>"
      ]
     },
     "metadata": {
      "needs_background": "light"
     },
     "output_type": "display_data"
    }
   ],
   "source": [
    "group_game = df.groupby('game_id').max().reset_index()\n",
    "group_game.groupby('score_tied_count').size().sort_values().plot(kind='barh', figsize=(10,5))\n",
    "# plt.figure(figsize=(10,5))\n",
    "# df['score_tied_count'].plot(kind='barh')\n",
    "plt.title('Number of times the game was tied during game', fontsize=20)\n",
    "plt.xlabel('Number of games', fontsize=20)\n",
    "plt.ylabel('Number of ties during the game', fontsize=15)\n",
    "plt.show()"
   ]
  },
  {
   "cell_type": "code",
   "execution_count": 382,
   "metadata": {},
   "outputs": [
    {
     "data": {
      "image/png": "[encoded data removed]",
      "text/plain": [
       "<Figure size 720x360 with 1 Axes>"
      ]
     },
     "metadata": {
      "needs_background": "light"
     },
     "output_type": "display_data"
    }
   ],
   "source": [
    "top_game = df[df['game_id'] == 276]\n",
    "bottom_game = df[df['game_id'] == 317]\n",
    "plt.figure(figsize=(10,5))\n",
    "plt.plot(top_game['minute'], top_game['excitement'], marker='o', markersize=10, )\n",
    "# plt.plot(bottom_game['minute'], bottom_game['excitement'])\n",
    "plt.title('Excitement over time', fontsize=20)\n",
    "plt.xlabel('Minute', fontsize=20)\n",
    "plt.ylabel('Excitement', fontsize=20)\n",
    "plt.show()"
   ]
  },
  {
   "cell_type": "code",
   "execution_count": 383,
   "metadata": {},
   "outputs": [
    {
     "data": {
      "image/png": "[encoded data removed]",
      "text/plain": [
       "<Figure size 720x360 with 1 Axes>"
      ]
     },
     "metadata": {
      "needs_background": "light"
     },
     "output_type": "display_data"
    }
   ],
   "source": [
    "plt.figure(figsize=(10,5))\n",
    "df['excitement'].hist()\n",
    "plt.title('Distribution of excitement metric', fontsize=20)\n",
    "plt.xlabel('Excitement', fontsize=20)\n",
    "plt.ylabel('Number of games', fontsize=20)\n",
    "# plt.axvline(x=0.40493222, linestyle='--', color='k')\n",
    "plt.axvline(x=0.52411499, linestyle='--', color='k')\n",
    "plt.axvline(x=0.72968576, linestyle='--', color='k')\n",
    "plt.show()"
   ]
  },
  {
   "cell_type": "code",
   "execution_count": 384,
   "metadata": {},
   "outputs": [
    {
     "data": {
      "text/plain": [
       "array([0.40493222, 0.52411499, 0.72968576])"
      ]
     },
     "execution_count": 384,
     "metadata": {},
     "output_type": "execute_result"
    }
   ],
   "source": [
    "np.percentile(df['excitement'], [25,50,75])"
   ]
  },
  {
   "cell_type": "code",
   "execution_count": 385,
   "metadata": {},
   "outputs": [
    {
     "data": {
      "text/plain": [
       "0.5735933724013914"
      ]
     },
     "execution_count": 385,
     "metadata": {},
     "output_type": "execute_result"
    }
   ],
   "source": [
    "np.mean(df['excitement'])"
   ]
  },
  {
   "cell_type": "code",
   "execution_count": 386,
   "metadata": {},
   "outputs": [
    {
     "data": {
      "text/plain": [
       "0.5241149853606601"
      ]
     },
     "execution_count": 386,
     "metadata": {},
     "output_type": "execute_result"
    }
   ],
   "source": [
    "np.median(df['excitement'])"
   ]
  },
  {
   "cell_type": "code",
   "execution_count": null,
   "metadata": {},
   "outputs": [],
   "source": []
  }
 ],
 "metadata": {
  "kernelspec": {
   "display_name": "Python 3",
   "language": "python",
   "name": "python3"
  },
  "language_info": {
   "codemirror_mode": {
    "name": "ipython",
    "version": 3
   },
   "file_extension": ".py",
   "mimetype": "text/x-python",
   "name": "python",
   "nbconvert_exporter": "python",
   "pygments_lexer": "ipython3",
   "version": "3.7.1"
  }
 },
 "nbformat": 4,
 "nbformat_minor": 2
}

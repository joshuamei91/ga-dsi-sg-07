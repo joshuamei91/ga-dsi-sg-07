{
 "cells": [
  {
   "cell_type": "code",
   "execution_count": 1,
   "metadata": {},
   "outputs": [],
   "source": [
    "import os\n",
    "import math\n",
    "import time\n",
    "import pickle\n",
    "import json\n",
    "import spacy\n",
    "import requests\n",
    "import itertools\n",
    "import numpy as np\n",
    "import pandas as pd\n",
    "import seaborn as sns\n",
    "from time import sleep\n",
    "import matplotlib.pyplot as plt\n",
    "from bs4 import BeautifulSoup\n",
    "from selenium import webdriver\n",
    "from scrapy.selector import Selector\n",
    "\n",
    "from nltk.corpus import stopwords\n",
    "from sklearn.pipeline import Pipeline\n",
    "from sklearn.base import BaseEstimator, TransformerMixin\n",
    "from sklearn.preprocessing import StandardScaler\n",
    "from sklearn.feature_selection import SelectKBest\n",
    "from sklearn.feature_extraction.text import CountVectorizer, TfidfVectorizer\n",
    "from sklearn.model_selection import train_test_split, cross_val_score, GridSearchCV, KFold, StratifiedKFold\n",
    "from sklearn.svm import LinearSVC\n",
    "from sklearn.linear_model import LogisticRegression\n",
    "from sklearn.naive_bayes import MultinomialNB, BernoulliNB, GaussianNB\n",
    "from sklearn.ensemble import RandomForestClassifier, AdaBoostClassifier\n",
    "from sklearn.tree import DecisionTreeClassifier\n",
    "from imblearn.over_sampling import SMOTE, SVMSMOTE\n",
    "from sklearn.metrics import accuracy_score, classification_report, roc_curve, f1_score, precision_score, recall_score, roc_auc_score, confusion_matrix\n",
    "\n",
    "plt.style.use('fivethirtyeight')\n",
    "%matplotlib inline"
   ]
  },
  {
   "cell_type": "code",
   "execution_count": 2,
   "metadata": {},
   "outputs": [],
   "source": [
    "def save_file(obj, name) :\n",
    "    '''\n",
    "        Function to save data as pickle file\n",
    "    '''\n",
    "    with open('data/'+ name + '.pkl', 'wb') as f:\n",
    "        pickle.dump(obj, f)\n",
    "\n",
    "def load_file(name):\n",
    "    '''\n",
    "        Function to load data from pickle file\n",
    "    '''\n",
    "    with open('data/' + name + '.pkl', 'rb') as f:\n",
    "        return pickle.load(f)"
   ]
  },
  {
   "cell_type": "code",
   "execution_count": 3,
   "metadata": {},
   "outputs": [],
   "source": [
    "search_terms = ['data scientist', 'data analyst', 'data engineer', 'data architect', 'machine learning', 'business analyst', 'business intelligence',\n",
    "               'data visualisation', 'data consultant', 'deep learning', 'big data', 'data analytics', 'business analytics', 'data science']"
   ]
  },
  {
   "cell_type": "code",
   "execution_count": 4,
   "metadata": {},
   "outputs": [],
   "source": [
    "def get_job_from_api(search_term, jobs_per_page=50):\n",
    "    '''\n",
    "        Function to retrieve jobs from the mycareersfuture api\n",
    "    '''\n",
    "    num_jobs = 0\n",
    "    url = f\"https://api.mycareersfuture.sg/jobs?search={search_term}&limit={jobs_per_page}&page=0&sortBy=new_posting_date\"\n",
    "    response = requests.get(url)\n",
    "    if (response.status_code == 200):\n",
    "        jobs = json.loads(response.text)\n",
    "        num_jobs = jobs['count']\n",
    "    \n",
    "    jobs_data = []\n",
    "    if (num_jobs > 0):\n",
    "        for page in range(math.ceil(num_jobs/jobs_per_page)):\n",
    "            url = f\"https://api.mycareersfuture.sg/jobs?search={search_term}&limit={jobs_per_page}&page={page}&sortBy=new_posting_date\"\n",
    "            response = requests.get(url)\n",
    "            if (response.status_code == 200):\n",
    "                jobs = json.loads(response.text)\n",
    "                jobs_data.extend(jobs['jobs'])\n",
    "    \n",
    "    return jobs_data"
   ]
  },
  {
   "cell_type": "code",
   "execution_count": 5,
   "metadata": {},
   "outputs": [],
   "source": [
    "## Run this cell to retrieve the job data from the api and save to file\n",
    "\n",
    "# job_data_file = load_file('job_data')\n",
    "# for job in search_terms:\n",
    "#     job_data = get_job_from_api(job)\n",
    "#     job_data_file.extend(job_data)\n",
    "\n",
    "# temp_job_df = pd.DataFrame(job_data_file)\n",
    "# temp_job_df.drop_duplicates('uuid', inplace=True)\n",
    "# save_file(temp_job_df.to_dict('records'), 'job_data')"
   ]
  },
  {
   "cell_type": "code",
   "execution_count": 6,
   "metadata": {},
   "outputs": [],
   "source": [
    "# load data\n",
    "jobs = pd.DataFrame(load_file('job_data'))"
   ]
  },
  {
   "cell_type": "markdown",
   "metadata": {},
   "source": [
    "**Initial cleaning**\n",
    "\n",
    "From the job titles below, we can see that some of the jobs retrieved are not data-related and some jobs are posted multiple times as well. Let's clean this up a little before scraping more details for each job."
   ]
  },
  {
   "cell_type": "code",
   "execution_count": 7,
   "metadata": {},
   "outputs": [
    {
     "data": {
      "text/plain": [
       "Business Analyst                                                                              87\n",
       "Data Scientist                                                                                57\n",
       "Research Fellow                                                                               34\n",
       "Data Engineer                                                                                 30\n",
       "Data Engineer (5 days, Orchard, $3500-4000)                                                   23\n",
       "Senior Business Analyst                                                                       21\n",
       "Research Associate                                                                            17\n",
       "Data Analyst                                                                                  17\n",
       "Key Account Manager ($3500 – 5500, 5 Days, River Valley)                                      16\n",
       "Manager                                                                                       13\n",
       "Business System Analyst                                                                       13\n",
       "Research Assistant                                                                            11\n",
       "Senior Manager                                                                                11\n",
       "Software Engineer                                                                             10\n",
       "Project Officer                                                                                9\n",
       "Senior Data Scientist                                                                          7\n",
       "Data Architect                                                                                 7\n",
       "Outsystem Developer                                                                            6\n",
       "Machine Learning Engineer                                                                      6\n",
       "Application Developer                                                                          6\n",
       "Senior Database Consultant - Big Data Engineer                                                 6\n",
       "Scientist (Deep Learning 2.0), I2R/A*STAR                                                      6\n",
       "Software Developer                                                                             6\n",
       "Senior Data Analyst                                                                            5\n",
       "Research Scientist, IHPC                                                                       5\n",
       "IT Business Analyst                                                                            5\n",
       "Senior Software Engineer                                                                       5\n",
       "Human Resource Executive                                                                       4\n",
       "Business Development Analyst                                                                   4\n",
       "Information Technology Business Analyst                                                        4\n",
       "                                                                                              ..\n",
       "Analyst, Static Data Maintenance Specialist, SG-Wealth Mgmt Ops, T&O (WD03266)                 1\n",
       "Data Scientist Analyst                                                                         1\n",
       "HR Executive                                                                                   1\n",
       "Junior Data Analyst - SQL (Training Program for 15th April to 14th Jan 2020)                   1\n",
       "Sales Development Representative (Japanese)                                                    1\n",
       "AVP, Investment Advisory – Business Infrastructure and Strategy, Private Banking (WD02311)     1\n",
       "Information Technology Manager                                                                 1\n",
       "Data Migration Manager                                                                         1\n",
       "Data Engineer/ Scientist                                                                       1\n",
       "Data Engineer,  Information Technology Group (ITG)                                             1\n",
       "Predictive/Data Analyst                                                                        1\n",
       "Director of Applications                                                                       1\n",
       "Head of Strategy and Data                                                                      1\n",
       "Senior / Early Childhood Officer (Information Systems)                                         1\n",
       "Software Engineer in Machine Learning                                                          1\n",
       "IT Quant                                                                                       1\n",
       "AVP, Finance Analyst and Business Management Support, Technology Services, T&O (WD02054)       1\n",
       "Analytics Business Development Manager/Senior Manager                                          1\n",
       "Senior Executive, Data Warehouse Management                                                    1\n",
       "Regional Program Manager                                                                       1\n",
       "Warehouse Operation Executive                                                                  1\n",
       "Business System Analyst Lead (Ref 23001)                                                       1\n",
       "Business/Systems Analyst                                                                       1\n",
       "DATA SCIENTISTS                                                                                1\n",
       "Senior Executive, Finance (Procurement)                                                        1\n",
       "Regional Operations Manager – Special Projects                                                 1\n",
       "Software Analyst                                                                               1\n",
       "Associate/AVP, Facilities Management                                                           1\n",
       "Data Statistician                                                                              1\n",
       "Senior Manager / Director , Product Management                                                 1\n",
       "Name: job_title, Length: 1119, dtype: int64"
      ]
     },
     "execution_count": 7,
     "metadata": {},
     "output_type": "execute_result"
    }
   ],
   "source": [
    "jobs['job_title'].value_counts()"
   ]
  },
  {
   "cell_type": "markdown",
   "metadata": {},
   "source": [
    "There are some fields in the data that might be useful in filtering out the data-related jobs. I am going to use the `job_title_score` and `job_description_score` (which I think are scores to indicate how relevant the job title and description are with reference to the search term)."
   ]
  },
  {
   "cell_type": "code",
   "execution_count": 8,
   "metadata": {},
   "outputs": [],
   "source": [
    "# filter jobs that have job_title_score equals 1 or job_description_score >= 1\n",
    "jobs = jobs[(jobs['job_title_score'] == 1) | (jobs['job_description_score'] >= 1)]"
   ]
  },
  {
   "cell_type": "code",
   "execution_count": 9,
   "metadata": {},
   "outputs": [
    {
     "data": {
      "text/plain": [
       "Business Analyst                                                                                        87\n",
       "Data Scientist                                                                                          57\n",
       "Research Fellow                                                                                         33\n",
       "Data Engineer                                                                                           27\n",
       "Data Engineer (5 days, Orchard, $3500-4000)                                                             23\n",
       "Senior Business Analyst                                                                                 21\n",
       "Research Associate                                                                                      17\n",
       "Data Analyst                                                                                            17\n",
       "Key Account Manager ($3500 – 5500, 5 Days, River Valley)                                                16\n",
       "Manager                                                                                                 13\n",
       "Business System Analyst                                                                                 13\n",
       "Research Assistant                                                                                      11\n",
       "Senior Manager                                                                                          11\n",
       "Software Engineer                                                                                        9\n",
       "Project Officer                                                                                          9\n",
       "Data Architect                                                                                           7\n",
       "Senior Data Scientist                                                                                    7\n",
       "Machine Learning Engineer                                                                                6\n",
       "Scientist (Deep Learning 2.0), I2R/A*STAR                                                                6\n",
       "Senior Database Consultant - Big Data Engineer                                                           6\n",
       "Senior Software Engineer                                                                                 5\n",
       "IT Business Analyst                                                                                      5\n",
       "Research Scientist, IHPC                                                                                 5\n",
       "Senior Data Analyst                                                                                      5\n",
       "Big Data Developer                                                                                       4\n",
       "Project Manager                                                                                          4\n",
       "Application Developer                                                                                    4\n",
       "Senior Data Engineer                                                                                     4\n",
       "Key Account Manager - IT solutions ($3500 – 5500, 5 Days, River Valley)                                  4\n",
       "Business Development Analyst                                                                             4\n",
       "                                                                                                        ..\n",
       "Business Analyst (Financial Consolidator)                                                                1\n",
       "Senior Associate, Senior Data Analyst, Middle Office Technology, Technology and Operations-(WD03337)     1\n",
       "Data Engineer,  Information Technology Group (ITG)                                                       1\n",
       "Business Analyst, Vendor Operations Trust & Safety - Singapore                                           1\n",
       "Finance & Control Director                                                                               1\n",
       "Director of Applications                                                                                 1\n",
       "Head of Strategy and Data                                                                                1\n",
       "Senior / Early Childhood Officer (Information Systems)                                                   1\n",
       "Analyst, Static Data Maintenance Specialist, SG-Wealth Mgmt Ops, T&O (WD03266)                           1\n",
       "Business System Analyst  (Ref 22804)                                                                     1\n",
       "Software Engineer in Machine Learning                                                                    1\n",
       "BII, Postdoctoral Research fellow                                                                        1\n",
       "Analytics Business Development Manager/Senior Manager                                                    1\n",
       "Warehouse Operation Executive                                                                            1\n",
       "Assistant/ Engineer – Data Generation                                                                    1\n",
       "Business/Systems Analyst                                                                                 1\n",
       "DATA SCIENTISTS                                                                                          1\n",
       "Senior Executive, Finance (Procurement)                                                                  1\n",
       "Regional Operations Manager – Special Projects                                                           1\n",
       "Sr Data Analyst                                                                                          1\n",
       "Associate/AVP, Facilities Management                                                                     1\n",
       "IT Quant                                                                                                 1\n",
       "Research Analyst                                                                                         1\n",
       "Presales - Consultant BI                                                                                 1\n",
       "Business System Analyst Lead (Ref 23001)                                                                 1\n",
       "Product Manager, Smart Nation Platform Solutions                                                         1\n",
       "Recruitment Consultant - Technology ( Cyber Security)                                                    1\n",
       "data science & data management lead                                                                      1\n",
       "Business Intelligence Analyst - Machine Engineering                                                      1\n",
       "Senior Manager / Director , Product Management                                                           1\n",
       "Name: job_title, Length: 1004, dtype: int64"
      ]
     },
     "execution_count": 9,
     "metadata": {},
     "output_type": "execute_result"
    }
   ],
   "source": [
    "# results after filtering\n",
    "jobs['job_title'].value_counts()"
   ]
  },
  {
   "cell_type": "code",
   "execution_count": 10,
   "metadata": {},
   "outputs": [],
   "source": [
    "def remove_duplicate_job_posts(job_title, remove_all=False):\n",
    "    index = jobs[jobs['job_title'] == job_title].index\n",
    "    if (remove_all):\n",
    "        jobs.drop(index, inplace=True)        \n",
    "    else:\n",
    "        jobs.drop(index[1:], inplace=True)"
   ]
  },
  {
   "cell_type": "code",
   "execution_count": 11,
   "metadata": {},
   "outputs": [],
   "source": [
    "# remove duplicate job posts\n",
    "duplicate_jobs = ['Data Engineer (5 days, Orchard, $3500-4000)', 'Senior Database Consultant - Big Data Engineer',\n",
    "                  'Scientist (Deep Learning 2.0), I2R/A*STAR']\n",
    "for job in duplicate_jobs:\n",
    "    remove_duplicate_job_posts(job)"
   ]
  },
  {
   "cell_type": "code",
   "execution_count": 12,
   "metadata": {},
   "outputs": [],
   "source": [
    "# remove non-data related jobs\n",
    "non_data_jobs = ['Key Account Manager ($3500 – 5500, 5 Days, River Valley)', 'Manager', 'Project Officer', 'Software Engineer', 'Senior Software Engineer',\n",
    "                'Application Developer', 'Project Manager', 'Appplication Developer', 'Chief Financial Officer', 'VP, Sales', 'MANAGERIAL/SENIOR MANAGEMENT',\n",
    "                'Director of Sales Engineering, APJ', 'FPGA Application Developer (AI Platform)', 'Senior Technology Specialist',\n",
    "                 'Digital Marketing Manager - APJ','Regional Sales Operations Lead, APAC', 'PRODUCT MANAGER (DEX)',\n",
    "                'Channel Partner Recruitment Manager', 'APJ Media Manager', 'Product Designer', 'APJ Media Manager',\n",
    "                'Project Manager, Systems Integration (3-year contract), Centre for Teaching Excellence',\n",
    "                'Internship with Sport Singapore', 'Scrum Master', 'Human Resource & Administrative Officer',\n",
    "                'Logistic and Procurement Executive', 'recuritment consultant manager', 'Case Manager',\n",
    "                'Sales Development Representative (Japanese)', 'Sales Development Representative (Korean)',\n",
    "                'Full Stack Developer', 'Software Developer', 'Scrum Master - Cybersecurity', 'Delivery Manager',\n",
    "                'Human Resource Executive', 'Key Account Manager - IT solutions ($3500 – 5500, 5 Days, River Valley)',\n",
    "                'Senior Manager', 'Research Fellow', 'Research Associate', 'Research Assistant',\n",
    "                'Research Fellow (1-year contract),\\xa0 Living Analytics Research Centre', 'HR Practitioner'\n",
    "                'Research Scientist (1-year contract),\\xa0  Living Analytics Research Centre', \n",
    "                 'Senior Research Fellow', 'Java Robotics Developer']\n",
    "for job in non_data_jobs:\n",
    "    remove_duplicate_job_posts(job, remove_all=True)"
   ]
  },
  {
   "cell_type": "markdown",
   "metadata": {},
   "source": [
    "**Retrieve more details for each job using another api**"
   ]
  },
  {
   "cell_type": "code",
   "execution_count": 13,
   "metadata": {},
   "outputs": [],
   "source": [
    "def get_job_details_from_api(uuid):\n",
    "    url = f\"https://api.mycareersfuture.sg/v2/jobs/{uuid}\"\n",
    "    response = requests.get(url)\n",
    "    if (response.status_code == 200):\n",
    "        return json.loads(response.text)\n",
    "    else:\n",
    "        print (f\"{uuid} with status code: {response.status_code}\")"
   ]
  },
  {
   "cell_type": "code",
   "execution_count": 14,
   "metadata": {},
   "outputs": [],
   "source": [
    "## Run this cell to retrieve the job details from the api and save to file\n",
    "\n",
    "# job_details_list = []\n",
    "# for i, uuid in enumerate(jobs['uuid']):\n",
    "#     details = get_job_details_from_api(uuid)\n",
    "#     job_details_list.append(details)\n",
    "#     if (i%50 == 49):\n",
    "#         sleep(1)\n",
    "#     if (i%200 == 199):\n",
    "#         print (f\"-------Retrieved {i+1} entries-------\")\n",
    "# save_file(job_details_list, 'job_details_list')"
   ]
  },
  {
   "cell_type": "code",
   "execution_count": 15,
   "metadata": {},
   "outputs": [],
   "source": [
    "# load job details file\n",
    "job_details = pd.DataFrame(load_file('job_details_list'))"
   ]
  },
  {
   "cell_type": "code",
   "execution_count": 16,
   "metadata": {},
   "outputs": [
    {
     "data": {
      "text/plain": [
       "Index(['_links', 'address', 'applicationUrl', 'categories', 'description',\n",
       "       'employmentTypes', 'hiringCompany', 'metadata',\n",
       "       'minimumYearsExperience', 'numberOfVacancies', 'otherRequirements',\n",
       "       'positionLevels', 'postedCompany', 'psdUrl', 'salary', 'schemes',\n",
       "       'shiftPattern', 'skills', 'sourceCode', 'ssocCode', 'status', 'title',\n",
       "       'uuid', 'workingHours'],\n",
       "      dtype='object')"
      ]
     },
     "execution_count": 16,
     "metadata": {},
     "output_type": "execute_result"
    }
   ],
   "source": [
    "job_details.columns"
   ]
  },
  {
   "cell_type": "markdown",
   "metadata": {},
   "source": [
    "Nothing interesting in the `workingHours` column."
   ]
  },
  {
   "cell_type": "code",
   "execution_count": 17,
   "metadata": {},
   "outputs": [
    {
     "data": {
      "text/plain": [
       "array([None], dtype=object)"
      ]
     },
     "execution_count": 17,
     "metadata": {},
     "output_type": "execute_result"
    }
   ],
   "source": [
    "job_details['workingHours'].unique()"
   ]
  },
  {
   "cell_type": "markdown",
   "metadata": {},
   "source": [
    "Going to keep the job details that are useful and merge it into the `jobs` dataframe.\n",
    "\n",
    "> I chose not to keep the skills column because I realised that the skills, which are proposed by a skills recommender system (JobKred), do not really match the requirements of the job. For example, a data scientist role at a bank which required skills such as Spark, SQL, Python etc was not tagged with these skills. Instead,\n",
    "skills such as Financial Reporting and Mergers & Acquisitions were tagged."
   ]
  },
  {
   "cell_type": "code",
   "execution_count": 18,
   "metadata": {},
   "outputs": [],
   "source": [
    "relevant_job_details = ['uuid', 'otherRequirements']"
   ]
  },
  {
   "cell_type": "code",
   "execution_count": 19,
   "metadata": {},
   "outputs": [
    {
     "data": {
      "text/html": [
       "<div>\n",
       "<style scoped>\n",
       "    .dataframe tbody tr th:only-of-type {\n",
       "        vertical-align: middle;\n",
       "    }\n",
       "\n",
       "    .dataframe tbody tr th {\n",
       "        vertical-align: top;\n",
       "    }\n",
       "\n",
       "    .dataframe thead th {\n",
       "        text-align: right;\n",
       "    }\n",
       "</style>\n",
       "<table border=\"1\" class=\"dataframe\">\n",
       "  <thead>\n",
       "    <tr style=\"text-align: right;\">\n",
       "      <th></th>\n",
       "      <th>uuid</th>\n",
       "      <th>otherRequirements</th>\n",
       "    </tr>\n",
       "  </thead>\n",
       "  <tbody>\n",
       "    <tr>\n",
       "      <th>0</th>\n",
       "      <td>8adb5c22263d490fd19ff2b6362b9be4</td>\n",
       "      <td>&lt;ul&gt; \\t&lt;li&gt; \\t&lt;p&gt;Solid programming skills and ...</td>\n",
       "    </tr>\n",
       "    <tr>\n",
       "      <th>1</th>\n",
       "      <td>cee58da0b16561b6d739767873dc8bd1</td>\n",
       "      <td>&lt;ul&gt; \\t&lt;li&gt; \\t&lt;p&gt;Solid programming skills and ...</td>\n",
       "    </tr>\n",
       "    <tr>\n",
       "      <th>2</th>\n",
       "      <td>8dba1deab655a0a840105310f2308dc2</td>\n",
       "      <td>&lt;ul&gt; \\t&lt;li&gt; \\t&lt;p&gt;Solid programming skills and ...</td>\n",
       "    </tr>\n",
       "    <tr>\n",
       "      <th>3</th>\n",
       "      <td>1cd7eaa9c04792e882aad755fce1d921</td>\n",
       "      <td>&lt;ul&gt; \\t&lt;li&gt; \\t&lt;p&gt;Solid programming skills and ...</td>\n",
       "    </tr>\n",
       "    <tr>\n",
       "      <th>4</th>\n",
       "      <td>3e44f41193fa546b0269a694af5bdf16</td>\n",
       "      <td>&lt;ul&gt;   &lt;li&gt;Degree in a quantitative subject (e...</td>\n",
       "    </tr>\n",
       "  </tbody>\n",
       "</table>\n",
       "</div>"
      ],
      "text/plain": [
       "                               uuid  \\\n",
       "0  8adb5c22263d490fd19ff2b6362b9be4   \n",
       "1  cee58da0b16561b6d739767873dc8bd1   \n",
       "2  8dba1deab655a0a840105310f2308dc2   \n",
       "3  1cd7eaa9c04792e882aad755fce1d921   \n",
       "4  3e44f41193fa546b0269a694af5bdf16   \n",
       "\n",
       "                                   otherRequirements  \n",
       "0  <ul> \\t<li> \\t<p>Solid programming skills and ...  \n",
       "1  <ul> \\t<li> \\t<p>Solid programming skills and ...  \n",
       "2  <ul> \\t<li> \\t<p>Solid programming skills and ...  \n",
       "3  <ul> \\t<li> \\t<p>Solid programming skills and ...  \n",
       "4  <ul>   <li>Degree in a quantitative subject (e...  "
      ]
     },
     "execution_count": 19,
     "metadata": {},
     "output_type": "execute_result"
    }
   ],
   "source": [
    "job_details = job_details[relevant_job_details]\n",
    "job_details.head()"
   ]
  },
  {
   "cell_type": "markdown",
   "metadata": {},
   "source": [
    "**Merge the two dataframes**"
   ]
  },
  {
   "cell_type": "code",
   "execution_count": 20,
   "metadata": {},
   "outputs": [
    {
     "data": {
      "text/html": [
       "<div>\n",
       "<style scoped>\n",
       "    .dataframe tbody tr th:only-of-type {\n",
       "        vertical-align: middle;\n",
       "    }\n",
       "\n",
       "    .dataframe tbody tr th {\n",
       "        vertical-align: top;\n",
       "    }\n",
       "\n",
       "    .dataframe thead th {\n",
       "        text-align: right;\n",
       "    }\n",
       "</style>\n",
       "<table border=\"1\" class=\"dataframe\">\n",
       "  <thead>\n",
       "    <tr style=\"text-align: right;\">\n",
       "      <th></th>\n",
       "      <th>categories</th>\n",
       "      <th>company_description</th>\n",
       "      <th>company_name_score</th>\n",
       "      <th>created_on</th>\n",
       "      <th>district_ids</th>\n",
       "      <th>employer_name</th>\n",
       "      <th>employment_types</th>\n",
       "      <th>exact_company_score</th>\n",
       "      <th>exact_string_score</th>\n",
       "      <th>expiry_date</th>\n",
       "      <th>...</th>\n",
       "      <th>original_posting_date</th>\n",
       "      <th>position_levels</th>\n",
       "      <th>presumed_salary</th>\n",
       "      <th>salary_type</th>\n",
       "      <th>schemes</th>\n",
       "      <th>skills</th>\n",
       "      <th>total_number_job_application</th>\n",
       "      <th>total_number_of_view</th>\n",
       "      <th>uuid</th>\n",
       "      <th>otherRequirements</th>\n",
       "    </tr>\n",
       "  </thead>\n",
       "  <tbody>\n",
       "    <tr>\n",
       "      <th>0</th>\n",
       "      <td>[Information Technology]</td>\n",
       "      <td>&lt;p&gt;Traveloka is a technology company based in ...</td>\n",
       "      <td>0</td>\n",
       "      <td>2019-04-24T16:00:00.000Z</td>\n",
       "      <td>[2]</td>\n",
       "      <td>TRAVELOKA SERVICES PTE. LTD.</td>\n",
       "      <td>[Permanent]</td>\n",
       "      <td>0</td>\n",
       "      <td>1</td>\n",
       "      <td>2019-05-24T16:00:00.000Z</td>\n",
       "      <td>...</td>\n",
       "      <td>2019-04-24T16:00:00.000Z</td>\n",
       "      <td>[Executive]</td>\n",
       "      <td>15000</td>\n",
       "      <td>Monthly</td>\n",
       "      <td>[CSP]</td>\n",
       "      <td>[{'id': 8523, 'skill': 'SQL'}, {'id': 8355, 's...</td>\n",
       "      <td>0</td>\n",
       "      <td>4</td>\n",
       "      <td>8adb5c22263d490fd19ff2b6362b9be4</td>\n",
       "      <td>&lt;ul&gt; \\t&lt;li&gt; \\t&lt;p&gt;Solid programming skills and ...</td>\n",
       "    </tr>\n",
       "    <tr>\n",
       "      <th>1</th>\n",
       "      <td>[Information Technology]</td>\n",
       "      <td>&lt;p&gt;Traveloka is a technology company based in ...</td>\n",
       "      <td>0</td>\n",
       "      <td>2019-04-24T16:00:00.000Z</td>\n",
       "      <td>[2]</td>\n",
       "      <td>TRAVELOKA SERVICES PTE. LTD.</td>\n",
       "      <td>[Permanent]</td>\n",
       "      <td>0</td>\n",
       "      <td>1</td>\n",
       "      <td>2019-05-24T16:00:00.000Z</td>\n",
       "      <td>...</td>\n",
       "      <td>2019-04-24T16:00:00.000Z</td>\n",
       "      <td>[Executive]</td>\n",
       "      <td>10700</td>\n",
       "      <td>Monthly</td>\n",
       "      <td>[CSP]</td>\n",
       "      <td>[{'id': 8523, 'skill': 'SQL'}, {'id': 8355, 's...</td>\n",
       "      <td>0</td>\n",
       "      <td>2</td>\n",
       "      <td>cee58da0b16561b6d739767873dc8bd1</td>\n",
       "      <td>&lt;ul&gt; \\t&lt;li&gt; \\t&lt;p&gt;Solid programming skills and ...</td>\n",
       "    </tr>\n",
       "    <tr>\n",
       "      <th>2</th>\n",
       "      <td>[Information Technology]</td>\n",
       "      <td>&lt;p&gt;Traveloka is a technology company based in ...</td>\n",
       "      <td>0</td>\n",
       "      <td>2019-04-24T16:00:00.000Z</td>\n",
       "      <td>[2]</td>\n",
       "      <td>TRAVELOKA SERVICES PTE. LTD.</td>\n",
       "      <td>[Permanent]</td>\n",
       "      <td>0</td>\n",
       "      <td>1</td>\n",
       "      <td>2019-05-24T16:00:00.000Z</td>\n",
       "      <td>...</td>\n",
       "      <td>2019-04-24T16:00:00.000Z</td>\n",
       "      <td>[Executive]</td>\n",
       "      <td>7600</td>\n",
       "      <td>Monthly</td>\n",
       "      <td>[CSP]</td>\n",
       "      <td>[{'id': 8523, 'skill': 'SQL'}, {'id': 8355, 's...</td>\n",
       "      <td>0</td>\n",
       "      <td>0</td>\n",
       "      <td>8dba1deab655a0a840105310f2308dc2</td>\n",
       "      <td>&lt;ul&gt; \\t&lt;li&gt; \\t&lt;p&gt;Solid programming skills and ...</td>\n",
       "    </tr>\n",
       "    <tr>\n",
       "      <th>3</th>\n",
       "      <td>[Information Technology]</td>\n",
       "      <td>&lt;p&gt;Traveloka is a technology company based in ...</td>\n",
       "      <td>0</td>\n",
       "      <td>2019-04-24T16:00:00.000Z</td>\n",
       "      <td>[2]</td>\n",
       "      <td>TRAVELOKA SERVICES PTE. LTD.</td>\n",
       "      <td>[Permanent]</td>\n",
       "      <td>0</td>\n",
       "      <td>1</td>\n",
       "      <td>2019-05-24T16:00:00.000Z</td>\n",
       "      <td>...</td>\n",
       "      <td>2019-04-24T16:00:00.000Z</td>\n",
       "      <td>[Fresh/entry level]</td>\n",
       "      <td>6000</td>\n",
       "      <td>Monthly</td>\n",
       "      <td>[CSP]</td>\n",
       "      <td>[{'id': 8523, 'skill': 'SQL'}, {'id': 8355, 's...</td>\n",
       "      <td>0</td>\n",
       "      <td>1</td>\n",
       "      <td>1cd7eaa9c04792e882aad755fce1d921</td>\n",
       "      <td>&lt;ul&gt; \\t&lt;li&gt; \\t&lt;p&gt;Solid programming skills and ...</td>\n",
       "    </tr>\n",
       "    <tr>\n",
       "      <th>4</th>\n",
       "      <td>[Banking and Finance]</td>\n",
       "      <td>&lt;p&gt;\\r\\n\\tThe OCBC Bank group of businesses com...</td>\n",
       "      <td>0</td>\n",
       "      <td>2019-04-24T16:00:00.000Z</td>\n",
       "      <td>[1]</td>\n",
       "      <td>OVERSEA-CHINESE BANKING CORPORATION LIMITED</td>\n",
       "      <td>[Permanent]</td>\n",
       "      <td>0</td>\n",
       "      <td>1</td>\n",
       "      <td>2019-05-24T16:00:00.000Z</td>\n",
       "      <td>...</td>\n",
       "      <td>2019-04-24T16:00:00.000Z</td>\n",
       "      <td>[Professional]</td>\n",
       "      <td>8000</td>\n",
       "      <td>Monthly</td>\n",
       "      <td>[CSP]</td>\n",
       "      <td>[{'id': 2239, 'skill': 'Data Management'}, {'i...</td>\n",
       "      <td>0</td>\n",
       "      <td>5</td>\n",
       "      <td>3e44f41193fa546b0269a694af5bdf16</td>\n",
       "      <td>&lt;ul&gt;   &lt;li&gt;Degree in a quantitative subject (e...</td>\n",
       "    </tr>\n",
       "  </tbody>\n",
       "</table>\n",
       "<p>5 rows × 40 columns</p>\n",
       "</div>"
      ],
      "text/plain": [
       "                 categories  \\\n",
       "0  [Information Technology]   \n",
       "1  [Information Technology]   \n",
       "2  [Information Technology]   \n",
       "3  [Information Technology]   \n",
       "4     [Banking and Finance]   \n",
       "\n",
       "                                 company_description  company_name_score  \\\n",
       "0  <p>Traveloka is a technology company based in ...                   0   \n",
       "1  <p>Traveloka is a technology company based in ...                   0   \n",
       "2  <p>Traveloka is a technology company based in ...                   0   \n",
       "3  <p>Traveloka is a technology company based in ...                   0   \n",
       "4  <p>\\r\\n\\tThe OCBC Bank group of businesses com...                   0   \n",
       "\n",
       "                 created_on district_ids  \\\n",
       "0  2019-04-24T16:00:00.000Z          [2]   \n",
       "1  2019-04-24T16:00:00.000Z          [2]   \n",
       "2  2019-04-24T16:00:00.000Z          [2]   \n",
       "3  2019-04-24T16:00:00.000Z          [2]   \n",
       "4  2019-04-24T16:00:00.000Z          [1]   \n",
       "\n",
       "                                 employer_name employment_types  \\\n",
       "0                 TRAVELOKA SERVICES PTE. LTD.      [Permanent]   \n",
       "1                 TRAVELOKA SERVICES PTE. LTD.      [Permanent]   \n",
       "2                 TRAVELOKA SERVICES PTE. LTD.      [Permanent]   \n",
       "3                 TRAVELOKA SERVICES PTE. LTD.      [Permanent]   \n",
       "4  OVERSEA-CHINESE BANKING CORPORATION LIMITED      [Permanent]   \n",
       "\n",
       "   exact_company_score  exact_string_score               expiry_date  \\\n",
       "0                    0                   1  2019-05-24T16:00:00.000Z   \n",
       "1                    0                   1  2019-05-24T16:00:00.000Z   \n",
       "2                    0                   1  2019-05-24T16:00:00.000Z   \n",
       "3                    0                   1  2019-05-24T16:00:00.000Z   \n",
       "4                    0                   1  2019-05-24T16:00:00.000Z   \n",
       "\n",
       "                         ...                          \\\n",
       "0                        ...                           \n",
       "1                        ...                           \n",
       "2                        ...                           \n",
       "3                        ...                           \n",
       "4                        ...                           \n",
       "\n",
       "      original_posting_date      position_levels  presumed_salary  \\\n",
       "0  2019-04-24T16:00:00.000Z          [Executive]            15000   \n",
       "1  2019-04-24T16:00:00.000Z          [Executive]            10700   \n",
       "2  2019-04-24T16:00:00.000Z          [Executive]             7600   \n",
       "3  2019-04-24T16:00:00.000Z  [Fresh/entry level]             6000   \n",
       "4  2019-04-24T16:00:00.000Z       [Professional]             8000   \n",
       "\n",
       "   salary_type  schemes                                             skills  \\\n",
       "0      Monthly    [CSP]  [{'id': 8523, 'skill': 'SQL'}, {'id': 8355, 's...   \n",
       "1      Monthly    [CSP]  [{'id': 8523, 'skill': 'SQL'}, {'id': 8355, 's...   \n",
       "2      Monthly    [CSP]  [{'id': 8523, 'skill': 'SQL'}, {'id': 8355, 's...   \n",
       "3      Monthly    [CSP]  [{'id': 8523, 'skill': 'SQL'}, {'id': 8355, 's...   \n",
       "4      Monthly    [CSP]  [{'id': 2239, 'skill': 'Data Management'}, {'i...   \n",
       "\n",
       "  total_number_job_application  total_number_of_view  \\\n",
       "0                            0                     4   \n",
       "1                            0                     2   \n",
       "2                            0                     0   \n",
       "3                            0                     1   \n",
       "4                            0                     5   \n",
       "\n",
       "                               uuid  \\\n",
       "0  8adb5c22263d490fd19ff2b6362b9be4   \n",
       "1  cee58da0b16561b6d739767873dc8bd1   \n",
       "2  8dba1deab655a0a840105310f2308dc2   \n",
       "3  1cd7eaa9c04792e882aad755fce1d921   \n",
       "4  3e44f41193fa546b0269a694af5bdf16   \n",
       "\n",
       "                                   otherRequirements  \n",
       "0  <ul> \\t<li> \\t<p>Solid programming skills and ...  \n",
       "1  <ul> \\t<li> \\t<p>Solid programming skills and ...  \n",
       "2  <ul> \\t<li> \\t<p>Solid programming skills and ...  \n",
       "3  <ul> \\t<li> \\t<p>Solid programming skills and ...  \n",
       "4  <ul>   <li>Degree in a quantitative subject (e...  \n",
       "\n",
       "[5 rows x 40 columns]"
      ]
     },
     "execution_count": 20,
     "metadata": {},
     "output_type": "execute_result"
    }
   ],
   "source": [
    "jobs_before_cleaning = jobs.merge(job_details, on='uuid')\n",
    "jobs_before_cleaning.head()"
   ]
  },
  {
   "cell_type": "markdown",
   "metadata": {},
   "source": [
    "<h2> Data cleaning </h2>"
   ]
  },
  {
   "cell_type": "markdown",
   "metadata": {},
   "source": [
    "**Drop rows which do not have salary**\n",
    "\n",
    "There is a small proportion of the data that does not have salary information. I am dropping these rows because the salary information is needed as the target variable later."
   ]
  },
  {
   "cell_type": "code",
   "execution_count": 21,
   "metadata": {},
   "outputs": [],
   "source": [
    "jobs = jobs_before_cleaning[(~jobs_before_cleaning['max_monthly_salary'].isnull()) & (~jobs_before_cleaning['min_monthly_salary'].isnull())]"
   ]
  },
  {
   "cell_type": "code",
   "execution_count": 22,
   "metadata": {},
   "outputs": [
    {
     "data": {
      "text/plain": [
       "(1246, 40)"
      ]
     },
     "execution_count": 22,
     "metadata": {},
     "output_type": "execute_result"
    }
   ],
   "source": [
    "jobs.shape"
   ]
  },
  {
   "cell_type": "markdown",
   "metadata": {},
   "source": [
    "**Keep relevant columns**"
   ]
  },
  {
   "cell_type": "code",
   "execution_count": 23,
   "metadata": {},
   "outputs": [
    {
     "data": {
      "text/plain": [
       "Index(['categories', 'company_description', 'company_name_score', 'created_on',\n",
       "       'district_ids', 'employer_name', 'employment_types',\n",
       "       'exact_company_score', 'exact_string_score', 'expiry_date',\n",
       "       'hidden_name', 'hiring_employer_name', 'is_hide_employer_name',\n",
       "       'is_hide_hiring_employer_name', 'is_hide_salary', 'is_posted_on_behalf',\n",
       "       'job_description', 'job_description_score', 'job_post_id', 'job_title',\n",
       "       'job_title_score', 'logo_file_name', 'logo_upload_path', 'logo_url',\n",
       "       'matched_skills_score', 'max_monthly_salary', 'min_monthly_salary',\n",
       "       'min_years_experience', 'modified_on', 'new_posting_date',\n",
       "       'original_posting_date', 'position_levels', 'presumed_salary',\n",
       "       'salary_type', 'schemes', 'skills', 'total_number_job_application',\n",
       "       'total_number_of_view', 'uuid', 'otherRequirements'],\n",
       "      dtype='object')"
      ]
     },
     "execution_count": 23,
     "metadata": {},
     "output_type": "execute_result"
    }
   ],
   "source": [
    "jobs.columns"
   ]
  },
  {
   "cell_type": "code",
   "execution_count": 24,
   "metadata": {},
   "outputs": [],
   "source": [
    "relevant_columns = ['uuid', 'employer_name', 'employment_types',\n",
    "       'job_description', 'job_title', 'max_monthly_salary', 'min_monthly_salary', 'salary_type',\n",
    "       'min_years_experience', 'position_levels', 'otherRequirements', 'categories', 'district_ids']"
   ]
  },
  {
   "cell_type": "code",
   "execution_count": 25,
   "metadata": {},
   "outputs": [],
   "source": [
    "jobs = jobs[relevant_columns]"
   ]
  },
  {
   "cell_type": "markdown",
   "metadata": {},
   "source": [
    "**Data dictionary**\n",
    "\n",
    "* **uuid**: unique id for job post (string)\n",
    "* **employer_name**: name of employer (string)\n",
    "* **employment_types**: list of employment types eg. permanent, contract (list of strings)\n",
    "* **job_description**: description of job (string)\n",
    "* **job_title**: job title (string)\n",
    "* **max_monthly_salary**: maximum value of the monthly salary range (float)\n",
    "* **min_monthly_salary**: minimum value of the monthly salary range (float)\n",
    "* **salary_type**: either monthly or annually (string)\n",
    "* **min_years_experience**: minimum number of years of experience (float)\n",
    "* **position_levels**: list of position levels for the job eg. executive, senior management (list of strings)\n",
    "* **otherRequirements**: skills / requirements of the job (string)\n",
    "* **categories**: list of industry type (list of strings)\n",
    "* **district_ids**: list of singapore district ids that the company operates in (list of int)"
   ]
  },
  {
   "cell_type": "code",
   "execution_count": 26,
   "metadata": {},
   "outputs": [
    {
     "name": "stdout",
     "output_type": "stream",
     "text": [
      "<class 'pandas.core.frame.DataFrame'>\n",
      "Int64Index: 1246 entries, 0 to 1334\n",
      "Data columns (total 13 columns):\n",
      "uuid                    1246 non-null object\n",
      "employer_name           1128 non-null object\n",
      "employment_types        1246 non-null object\n",
      "job_description         1246 non-null object\n",
      "job_title               1246 non-null object\n",
      "max_monthly_salary      1246 non-null float64\n",
      "min_monthly_salary      1246 non-null float64\n",
      "salary_type             1246 non-null object\n",
      "min_years_experience    119 non-null float64\n",
      "position_levels         1214 non-null object\n",
      "otherRequirements       1164 non-null object\n",
      "categories              1246 non-null object\n",
      "district_ids            1163 non-null object\n",
      "dtypes: float64(3), object(10)\n",
      "memory usage: 136.3+ KB\n"
     ]
    }
   ],
   "source": [
    "jobs.info()"
   ]
  },
  {
   "cell_type": "markdown",
   "metadata": {},
   "source": [
    "**Actions to take:**\n",
    "\n",
    "* `employer_name`: Fill in null values with 'NA'\n",
    "* `min_years_experience`: Not very useful because it contains more than 90% `None` values. Drop column.\n",
    "* `position_levels`: Fill in null values with most common position level.\n",
    "* `otherRequirements`: Fill in null values with 'NA'\n",
    "* `district_ids`: Check if there is district in `address` and try to fill in."
   ]
  },
  {
   "cell_type": "markdown",
   "metadata": {},
   "source": [
    "**Fill in missing employer name**"
   ]
  },
  {
   "cell_type": "code",
   "execution_count": 27,
   "metadata": {},
   "outputs": [],
   "source": [
    "jobs.loc[jobs['employer_name'].isnull(), 'employer_name'] = 'NA'"
   ]
  },
  {
   "cell_type": "markdown",
   "metadata": {},
   "source": [
    "**Drop `min_years_experience` because it has more than 90% `None` values**"
   ]
  },
  {
   "cell_type": "code",
   "execution_count": 28,
   "metadata": {},
   "outputs": [],
   "source": [
    "jobs.drop('min_years_experience', axis=1, inplace=True)"
   ]
  },
  {
   "cell_type": "markdown",
   "metadata": {},
   "source": [
    "**Fill in missing position levels**\n",
    "\n",
    "Fill in the missing position level with 'Professional' which is the most common value"
   ]
  },
  {
   "cell_type": "code",
   "execution_count": 29,
   "metadata": {},
   "outputs": [],
   "source": [
    "jobs['position_levels'] = [value[0] if value != None else 'Professional' for value in jobs['position_levels']]"
   ]
  },
  {
   "cell_type": "code",
   "execution_count": 30,
   "metadata": {},
   "outputs": [
    {
     "data": {
      "text/plain": [
       "Professional         405\n",
       "Executive            253\n",
       "Manager              141\n",
       "Senior Executive     135\n",
       "Middle Management    114\n",
       "Senior Management     72\n",
       "Fresh/entry level     47\n",
       "Junior Executive      42\n",
       "Non-executive         37\n",
       "Name: position_levels, dtype: int64"
      ]
     },
     "execution_count": 30,
     "metadata": {},
     "output_type": "execute_result"
    }
   ],
   "source": [
    "jobs['position_levels'].value_counts()"
   ]
  },
  {
   "cell_type": "markdown",
   "metadata": {},
   "source": [
    "**Fill in missing requirements**"
   ]
  },
  {
   "cell_type": "code",
   "execution_count": 31,
   "metadata": {},
   "outputs": [],
   "source": [
    "jobs.loc[jobs['otherRequirements'].isnull(), 'otherRequirements'] = 'NA'"
   ]
  },
  {
   "cell_type": "markdown",
   "metadata": {},
   "source": [
    "**Create dummy variables for district values**"
   ]
  },
  {
   "cell_type": "code",
   "execution_count": 32,
   "metadata": {},
   "outputs": [],
   "source": [
    "def unique_district_ids(district_ids):\n",
    "    '''\n",
    "        Function to find the set of unique district ids\n",
    "    '''\n",
    "    all_ids = []\n",
    "    for district_id in district_ids:\n",
    "        if (district_id):\n",
    "            all_ids.extend(district_id)\n",
    "    return set(all_ids)"
   ]
  },
  {
   "cell_type": "code",
   "execution_count": 33,
   "metadata": {},
   "outputs": [],
   "source": [
    "unique_districts = unique_district_ids(jobs['district_ids'])"
   ]
  },
  {
   "cell_type": "code",
   "execution_count": 34,
   "metadata": {},
   "outputs": [],
   "source": [
    "# initialize the dummy variable columns for each district id\n",
    "for district_id in unique_districts:\n",
    "    jobs[f\"district_{district_id}\"] = np.zeros(jobs.shape[0])"
   ]
  },
  {
   "cell_type": "code",
   "execution_count": 35,
   "metadata": {},
   "outputs": [],
   "source": [
    "# each district id in singapore maps to a region\n",
    "region_district_map = {\n",
    "    'north': [19, 20, 25, 26, 27, 28],\n",
    "    'south': [3, 4, 5],\n",
    "    'east': [6, 7, 14, 15, 16, 17, 18],\n",
    "    'west': [21, 22, 23, 24],\n",
    "    'central': [1, 2, 8, 9, 10, 11, 12, 13],\n",
    "    'islandwide': [9999]\n",
    "}"
   ]
  },
  {
   "cell_type": "code",
   "execution_count": 36,
   "metadata": {},
   "outputs": [],
   "source": [
    "# initialize the dummy variable columns for each region\n",
    "for key in region_district_map.keys():\n",
    "    jobs[key] = np.zeros(jobs.shape[0])"
   ]
  },
  {
   "cell_type": "code",
   "execution_count": 37,
   "metadata": {},
   "outputs": [],
   "source": [
    "def find_region_from_district(district_id):\n",
    "    '''\n",
    "        Function to find the corresponding region from the district id\n",
    "    '''\n",
    "    for region, ids in region_district_map.items():\n",
    "        if district_id in ids:\n",
    "            return region"
   ]
  },
  {
   "cell_type": "code",
   "execution_count": 38,
   "metadata": {},
   "outputs": [],
   "source": [
    "def fill_districts(row):\n",
    "    '''\n",
    "        Function to fill in the dummy variable columns created\n",
    "    '''\n",
    "    ids = row['district_ids']\n",
    "    if (ids): # if district ids are present in the district_ids column\n",
    "        for district in ids:\n",
    "            row[f\"district_{district}\"] = 1 # fill in the district id dummy variable\n",
    "            row[find_region_from_district(district)] = 1 # fill in the region dummy variable\n",
    "\n",
    "    return row   "
   ]
  },
  {
   "cell_type": "code",
   "execution_count": 39,
   "metadata": {},
   "outputs": [],
   "source": [
    "jobs = jobs.apply(fill_districts, axis=1)\n",
    "jobs.drop(['district_ids'], axis=1, inplace=True)"
   ]
  },
  {
   "cell_type": "code",
   "execution_count": 40,
   "metadata": {},
   "outputs": [
    {
     "data": {
      "text/html": [
       "<div>\n",
       "<style scoped>\n",
       "    .dataframe tbody tr th:only-of-type {\n",
       "        vertical-align: middle;\n",
       "    }\n",
       "\n",
       "    .dataframe tbody tr th {\n",
       "        vertical-align: top;\n",
       "    }\n",
       "\n",
       "    .dataframe thead th {\n",
       "        text-align: right;\n",
       "    }\n",
       "</style>\n",
       "<table border=\"1\" class=\"dataframe\">\n",
       "  <thead>\n",
       "    <tr style=\"text-align: right;\">\n",
       "      <th></th>\n",
       "      <th>uuid</th>\n",
       "      <th>employer_name</th>\n",
       "      <th>employment_types</th>\n",
       "      <th>job_description</th>\n",
       "      <th>job_title</th>\n",
       "      <th>max_monthly_salary</th>\n",
       "      <th>min_monthly_salary</th>\n",
       "      <th>salary_type</th>\n",
       "      <th>position_levels</th>\n",
       "      <th>otherRequirements</th>\n",
       "      <th>...</th>\n",
       "      <th>district_25</th>\n",
       "      <th>district_26</th>\n",
       "      <th>district_27</th>\n",
       "      <th>district_28</th>\n",
       "      <th>north</th>\n",
       "      <th>south</th>\n",
       "      <th>east</th>\n",
       "      <th>west</th>\n",
       "      <th>central</th>\n",
       "      <th>islandwide</th>\n",
       "    </tr>\n",
       "  </thead>\n",
       "  <tbody>\n",
       "    <tr>\n",
       "      <th>0</th>\n",
       "      <td>8adb5c22263d490fd19ff2b6362b9be4</td>\n",
       "      <td>TRAVELOKA SERVICES PTE. LTD.</td>\n",
       "      <td>[Permanent]</td>\n",
       "      <td>&lt;p&gt;Job Description&lt;/p&gt;  &lt;p&gt;As a Data scientist...</td>\n",
       "      <td>Senior Level Data Scientist</td>\n",
       "      <td>15000.0</td>\n",
       "      <td>8300.0</td>\n",
       "      <td>Monthly</td>\n",
       "      <td>Executive</td>\n",
       "      <td>&lt;ul&gt; \\t&lt;li&gt; \\t&lt;p&gt;Solid programming skills and ...</td>\n",
       "      <td>...</td>\n",
       "      <td>0.0</td>\n",
       "      <td>0.0</td>\n",
       "      <td>0.0</td>\n",
       "      <td>0.0</td>\n",
       "      <td>0.0</td>\n",
       "      <td>0.0</td>\n",
       "      <td>0.0</td>\n",
       "      <td>0.0</td>\n",
       "      <td>1.0</td>\n",
       "      <td>0.0</td>\n",
       "    </tr>\n",
       "    <tr>\n",
       "      <th>1</th>\n",
       "      <td>cee58da0b16561b6d739767873dc8bd1</td>\n",
       "      <td>TRAVELOKA SERVICES PTE. LTD.</td>\n",
       "      <td>[Permanent]</td>\n",
       "      <td>&lt;p&gt;As a Data scientist, you will be applying m...</td>\n",
       "      <td>Mid - Senior Level Data Scientist</td>\n",
       "      <td>10700.0</td>\n",
       "      <td>6100.0</td>\n",
       "      <td>Monthly</td>\n",
       "      <td>Executive</td>\n",
       "      <td>&lt;ul&gt; \\t&lt;li&gt; \\t&lt;p&gt;Solid programming skills and ...</td>\n",
       "      <td>...</td>\n",
       "      <td>0.0</td>\n",
       "      <td>0.0</td>\n",
       "      <td>0.0</td>\n",
       "      <td>0.0</td>\n",
       "      <td>0.0</td>\n",
       "      <td>0.0</td>\n",
       "      <td>0.0</td>\n",
       "      <td>0.0</td>\n",
       "      <td>1.0</td>\n",
       "      <td>0.0</td>\n",
       "    </tr>\n",
       "    <tr>\n",
       "      <th>2</th>\n",
       "      <td>8dba1deab655a0a840105310f2308dc2</td>\n",
       "      <td>TRAVELOKA SERVICES PTE. LTD.</td>\n",
       "      <td>[Permanent]</td>\n",
       "      <td>&lt;p&gt;As a Data scientist, you will be applying m...</td>\n",
       "      <td>Mid Level Data Scientist</td>\n",
       "      <td>7600.0</td>\n",
       "      <td>4300.0</td>\n",
       "      <td>Monthly</td>\n",
       "      <td>Executive</td>\n",
       "      <td>&lt;ul&gt; \\t&lt;li&gt; \\t&lt;p&gt;Solid programming skills and ...</td>\n",
       "      <td>...</td>\n",
       "      <td>0.0</td>\n",
       "      <td>0.0</td>\n",
       "      <td>0.0</td>\n",
       "      <td>0.0</td>\n",
       "      <td>0.0</td>\n",
       "      <td>0.0</td>\n",
       "      <td>0.0</td>\n",
       "      <td>0.0</td>\n",
       "      <td>1.0</td>\n",
       "      <td>0.0</td>\n",
       "    </tr>\n",
       "    <tr>\n",
       "      <th>3</th>\n",
       "      <td>1cd7eaa9c04792e882aad755fce1d921</td>\n",
       "      <td>TRAVELOKA SERVICES PTE. LTD.</td>\n",
       "      <td>[Permanent]</td>\n",
       "      <td>&lt;p&gt;As a Data scientist, you will be applying m...</td>\n",
       "      <td>Junior - Mid Level Data Scientist</td>\n",
       "      <td>6000.0</td>\n",
       "      <td>3000.0</td>\n",
       "      <td>Monthly</td>\n",
       "      <td>Fresh/entry level</td>\n",
       "      <td>&lt;ul&gt; \\t&lt;li&gt; \\t&lt;p&gt;Solid programming skills and ...</td>\n",
       "      <td>...</td>\n",
       "      <td>0.0</td>\n",
       "      <td>0.0</td>\n",
       "      <td>0.0</td>\n",
       "      <td>0.0</td>\n",
       "      <td>0.0</td>\n",
       "      <td>0.0</td>\n",
       "      <td>0.0</td>\n",
       "      <td>0.0</td>\n",
       "      <td>1.0</td>\n",
       "      <td>0.0</td>\n",
       "    </tr>\n",
       "    <tr>\n",
       "      <th>4</th>\n",
       "      <td>3e44f41193fa546b0269a694af5bdf16</td>\n",
       "      <td>OVERSEA-CHINESE BANKING CORPORATION LIMITED</td>\n",
       "      <td>[Permanent]</td>\n",
       "      <td>&lt;ul&gt;   &lt;li&gt;Develop data science solutions to s...</td>\n",
       "      <td>Data Scientist</td>\n",
       "      <td>8000.0</td>\n",
       "      <td>4800.0</td>\n",
       "      <td>Monthly</td>\n",
       "      <td>Professional</td>\n",
       "      <td>&lt;ul&gt;   &lt;li&gt;Degree in a quantitative subject (e...</td>\n",
       "      <td>...</td>\n",
       "      <td>0.0</td>\n",
       "      <td>0.0</td>\n",
       "      <td>0.0</td>\n",
       "      <td>0.0</td>\n",
       "      <td>0.0</td>\n",
       "      <td>0.0</td>\n",
       "      <td>0.0</td>\n",
       "      <td>0.0</td>\n",
       "      <td>1.0</td>\n",
       "      <td>0.0</td>\n",
       "    </tr>\n",
       "  </tbody>\n",
       "</table>\n",
       "<p>5 rows × 45 columns</p>\n",
       "</div>"
      ],
      "text/plain": [
       "                               uuid  \\\n",
       "0  8adb5c22263d490fd19ff2b6362b9be4   \n",
       "1  cee58da0b16561b6d739767873dc8bd1   \n",
       "2  8dba1deab655a0a840105310f2308dc2   \n",
       "3  1cd7eaa9c04792e882aad755fce1d921   \n",
       "4  3e44f41193fa546b0269a694af5bdf16   \n",
       "\n",
       "                                 employer_name employment_types  \\\n",
       "0                 TRAVELOKA SERVICES PTE. LTD.      [Permanent]   \n",
       "1                 TRAVELOKA SERVICES PTE. LTD.      [Permanent]   \n",
       "2                 TRAVELOKA SERVICES PTE. LTD.      [Permanent]   \n",
       "3                 TRAVELOKA SERVICES PTE. LTD.      [Permanent]   \n",
       "4  OVERSEA-CHINESE BANKING CORPORATION LIMITED      [Permanent]   \n",
       "\n",
       "                                     job_description  \\\n",
       "0  <p>Job Description</p>  <p>As a Data scientist...   \n",
       "1  <p>As a Data scientist, you will be applying m...   \n",
       "2  <p>As a Data scientist, you will be applying m...   \n",
       "3  <p>As a Data scientist, you will be applying m...   \n",
       "4  <ul>   <li>Develop data science solutions to s...   \n",
       "\n",
       "                           job_title  max_monthly_salary  min_monthly_salary  \\\n",
       "0        Senior Level Data Scientist             15000.0              8300.0   \n",
       "1  Mid - Senior Level Data Scientist             10700.0              6100.0   \n",
       "2           Mid Level Data Scientist              7600.0              4300.0   \n",
       "3  Junior - Mid Level Data Scientist              6000.0              3000.0   \n",
       "4                     Data Scientist              8000.0              4800.0   \n",
       "\n",
       "  salary_type    position_levels  \\\n",
       "0     Monthly          Executive   \n",
       "1     Monthly          Executive   \n",
       "2     Monthly          Executive   \n",
       "3     Monthly  Fresh/entry level   \n",
       "4     Monthly       Professional   \n",
       "\n",
       "                                   otherRequirements     ...     district_25  \\\n",
       "0  <ul> \\t<li> \\t<p>Solid programming skills and ...     ...             0.0   \n",
       "1  <ul> \\t<li> \\t<p>Solid programming skills and ...     ...             0.0   \n",
       "2  <ul> \\t<li> \\t<p>Solid programming skills and ...     ...             0.0   \n",
       "3  <ul> \\t<li> \\t<p>Solid programming skills and ...     ...             0.0   \n",
       "4  <ul>   <li>Degree in a quantitative subject (e...     ...             0.0   \n",
       "\n",
       "   district_26  district_27  district_28  north  south  east  west  central  \\\n",
       "0          0.0          0.0          0.0    0.0    0.0   0.0   0.0      1.0   \n",
       "1          0.0          0.0          0.0    0.0    0.0   0.0   0.0      1.0   \n",
       "2          0.0          0.0          0.0    0.0    0.0   0.0   0.0      1.0   \n",
       "3          0.0          0.0          0.0    0.0    0.0   0.0   0.0      1.0   \n",
       "4          0.0          0.0          0.0    0.0    0.0   0.0   0.0      1.0   \n",
       "\n",
       "   islandwide  \n",
       "0         0.0  \n",
       "1         0.0  \n",
       "2         0.0  \n",
       "3         0.0  \n",
       "4         0.0  \n",
       "\n",
       "[5 rows x 45 columns]"
      ]
     },
     "execution_count": 40,
     "metadata": {},
     "output_type": "execute_result"
    }
   ],
   "source": [
    "jobs.head()"
   ]
  },
  {
   "cell_type": "markdown",
   "metadata": {},
   "source": [
    "**Convert annual salary to monthly salary**\n",
    "\n",
    "This is to ensure fair comparison among the jobs."
   ]
  },
  {
   "cell_type": "code",
   "execution_count": 41,
   "metadata": {},
   "outputs": [
    {
     "data": {
      "text/plain": [
       "array(['Monthly', 'Annually'], dtype=object)"
      ]
     },
     "execution_count": 41,
     "metadata": {},
     "output_type": "execute_result"
    }
   ],
   "source": [
    "jobs['salary_type'].unique()"
   ]
  },
  {
   "cell_type": "code",
   "execution_count": 42,
   "metadata": {},
   "outputs": [],
   "source": [
    "jobs.loc[jobs['salary_type'] == 'Annually', ['max_monthly_salary', 'min_monthly_salary']] = \\\n",
    "    jobs[jobs['salary_type'] == 'Annually'][['max_monthly_salary', 'min_monthly_salary']]/12"
   ]
  },
  {
   "cell_type": "code",
   "execution_count": 43,
   "metadata": {},
   "outputs": [],
   "source": [
    "jobs.drop('salary_type', axis=1, inplace=True)"
   ]
  },
  {
   "cell_type": "markdown",
   "metadata": {},
   "source": [
    "**Create dummy variables for industry type**"
   ]
  },
  {
   "cell_type": "code",
   "execution_count": 44,
   "metadata": {},
   "outputs": [],
   "source": [
    "# Find the set of unique industry types\n",
    "job_categories = []\n",
    "for cat in jobs['categories']:\n",
    "    job_categories.extend(cat)"
   ]
  },
  {
   "cell_type": "code",
   "execution_count": 45,
   "metadata": {},
   "outputs": [
    {
     "data": {
      "text/plain": [
       "array(['Accounting / Auditing / Taxation', 'Admin / Secretarial',\n",
       "       'Advertising / Media ', 'Architecture / Interior Design',\n",
       "       'Banking and Finance', 'Building and Construction', 'Consulting ',\n",
       "       'Customer Service', 'Design', 'Education and Training',\n",
       "       'Engineering', 'Environment / Health  ', 'Events / Promotions ',\n",
       "       'F&B', 'General Management', 'General Work',\n",
       "       'Healthcare / Pharmaceutical', 'Human Resources ',\n",
       "       'Information Technology', 'Insurance', 'Legal',\n",
       "       'Logistics / Supply Chain', 'Manufacturing',\n",
       "       'Marketing / Public Relations ', 'Others', 'Professional Services',\n",
       "       'Public / Civil Service', 'Purchasing / Merchandising',\n",
       "       'Real Estate / Property Management', 'Risk Management',\n",
       "       'Sales / Retail ', 'Sciences / Laboratory / R&D',\n",
       "       'Social Services', 'Telecommunications', 'Travel / Tourism'],\n",
       "      dtype='<U33')"
      ]
     },
     "execution_count": 45,
     "metadata": {},
     "output_type": "execute_result"
    }
   ],
   "source": [
    "np.unique(job_categories)"
   ]
  },
  {
   "cell_type": "code",
   "execution_count": 46,
   "metadata": {},
   "outputs": [],
   "source": [
    "# Initialize dummy variable columns for industry types\n",
    "for cat in np.unique(job_categories):\n",
    "    jobs[cat] = np.zeros(jobs.shape[0])"
   ]
  },
  {
   "cell_type": "code",
   "execution_count": 47,
   "metadata": {},
   "outputs": [],
   "source": [
    "def fill_industries(row):\n",
    "    for cat in row['categories']:\n",
    "        row[cat] = 1\n",
    "    return row"
   ]
  },
  {
   "cell_type": "code",
   "execution_count": 48,
   "metadata": {},
   "outputs": [],
   "source": [
    "jobs = jobs.apply(fill_industries, axis=1)\n",
    "jobs.drop('categories', axis=1, inplace=True)"
   ]
  },
  {
   "cell_type": "markdown",
   "metadata": {},
   "source": [
    "**Cleaning employment types**"
   ]
  },
  {
   "cell_type": "code",
   "execution_count": 49,
   "metadata": {},
   "outputs": [],
   "source": [
    "employment_type = []\n",
    "for employment in jobs['employment_types']:\n",
    "    if len(employment) == 1:\n",
    "        employment_type.append(employment[0])\n",
    "    else:\n",
    "        if \"Permanent\" in employment:\n",
    "            employment_type.append(\"Permanent\")\n",
    "        elif \"Internship\" in employment:\n",
    "            employment_type.append(\"Internship\")\n",
    "        elif \"Contract\" in employment:\n",
    "            employment_type.append(\"Contract\")\n",
    "        elif \"Full Time\" in employment:\n",
    "            employment_type.append(\"Full Time\")"
   ]
  },
  {
   "cell_type": "code",
   "execution_count": 50,
   "metadata": {},
   "outputs": [],
   "source": [
    "jobs['employment_types'] = employment_type"
   ]
  },
  {
   "cell_type": "code",
   "execution_count": 51,
   "metadata": {},
   "outputs": [
    {
     "data": {
      "text/plain": [
       "Permanent     561\n",
       "Full Time     433\n",
       "Contract      242\n",
       "Internship      6\n",
       "Temporary       4\n",
       "Name: employment_types, dtype: int64"
      ]
     },
     "execution_count": 51,
     "metadata": {},
     "output_type": "execute_result"
    }
   ],
   "source": [
    "jobs['employment_types'].value_counts()"
   ]
  },
  {
   "cell_type": "markdown",
   "metadata": {},
   "source": [
    "**Cleaning text features**"
   ]
  },
  {
   "cell_type": "code",
   "execution_count": 52,
   "metadata": {},
   "outputs": [],
   "source": [
    "# python -m spacy download en_core_web_sm\n",
    "nlp = spacy.load(\"en_core_web_sm\")"
   ]
  },
  {
   "cell_type": "code",
   "execution_count": 53,
   "metadata": {},
   "outputs": [],
   "source": [
    "def strip_html_tags(text):\n",
    "    soup = BeautifulSoup(text, \"html.parser\")\n",
    "    return soup.get_text()"
   ]
  },
  {
   "cell_type": "code",
   "execution_count": 54,
   "metadata": {},
   "outputs": [],
   "source": [
    "def clean_text(text):\n",
    "    text = strip_html_tags(text) # strip out html tags\n",
    "    text = text.lower() # change to lower case\n",
    "    text = nlp(text) # process text to get lemma\n",
    "    \n",
    "    # -PRON- is spacy's custom pronoun lemma. Keep the original word if it is a pronoun.\n",
    "    # Keep the word 'data' instead of converting to 'datum'\n",
    "    return ' '.join([word.lemma_ if word.lemma_ not in ['-PRON-', 'datum'] else word.text for word in text]) "
   ]
  },
  {
   "cell_type": "code",
   "execution_count": 55,
   "metadata": {},
   "outputs": [],
   "source": [
    "jobs['job_description'] = jobs['job_description'].map(clean_text)"
   ]
  },
  {
   "cell_type": "code",
   "execution_count": 56,
   "metadata": {},
   "outputs": [],
   "source": [
    "jobs['otherRequirements'] = jobs['otherRequirements'].map(clean_text)"
   ]
  },
  {
   "cell_type": "markdown",
   "metadata": {},
   "source": [
    "<h2> Question 1 - Factors that impact salary </h2>\n",
    "\n",
    "<h3> EDA </h3>\n",
    "\n",
    "**Distribution of salary**"
   ]
  },
  {
   "cell_type": "code",
   "execution_count": 57,
   "metadata": {},
   "outputs": [
    {
     "data": {
      "text/html": [
       "<div>\n",
       "<style scoped>\n",
       "    .dataframe tbody tr th:only-of-type {\n",
       "        vertical-align: middle;\n",
       "    }\n",
       "\n",
       "    .dataframe tbody tr th {\n",
       "        vertical-align: top;\n",
       "    }\n",
       "\n",
       "    .dataframe thead th {\n",
       "        text-align: right;\n",
       "    }\n",
       "</style>\n",
       "<table border=\"1\" class=\"dataframe\">\n",
       "  <thead>\n",
       "    <tr style=\"text-align: right;\">\n",
       "      <th></th>\n",
       "      <th>min_monthly_salary</th>\n",
       "      <th>max_monthly_salary</th>\n",
       "    </tr>\n",
       "  </thead>\n",
       "  <tbody>\n",
       "    <tr>\n",
       "      <th>count</th>\n",
       "      <td>1246.000000</td>\n",
       "      <td>1246.000000</td>\n",
       "    </tr>\n",
       "    <tr>\n",
       "      <th>mean</th>\n",
       "      <td>5511.676833</td>\n",
       "      <td>8888.277421</td>\n",
       "    </tr>\n",
       "    <tr>\n",
       "      <th>std</th>\n",
       "      <td>2591.419102</td>\n",
       "      <td>4581.707979</td>\n",
       "    </tr>\n",
       "    <tr>\n",
       "      <th>min</th>\n",
       "      <td>0.000000</td>\n",
       "      <td>0.000000</td>\n",
       "    </tr>\n",
       "    <tr>\n",
       "      <th>25%</th>\n",
       "      <td>4000.000000</td>\n",
       "      <td>6000.000000</td>\n",
       "    </tr>\n",
       "    <tr>\n",
       "      <th>50%</th>\n",
       "      <td>5000.000000</td>\n",
       "      <td>8000.000000</td>\n",
       "    </tr>\n",
       "    <tr>\n",
       "      <th>75%</th>\n",
       "      <td>7000.000000</td>\n",
       "      <td>11000.000000</td>\n",
       "    </tr>\n",
       "    <tr>\n",
       "      <th>max</th>\n",
       "      <td>17000.000000</td>\n",
       "      <td>70000.000000</td>\n",
       "    </tr>\n",
       "  </tbody>\n",
       "</table>\n",
       "</div>"
      ],
      "text/plain": [
       "       min_monthly_salary  max_monthly_salary\n",
       "count         1246.000000         1246.000000\n",
       "mean          5511.676833         8888.277421\n",
       "std           2591.419102         4581.707979\n",
       "min              0.000000            0.000000\n",
       "25%           4000.000000         6000.000000\n",
       "50%           5000.000000         8000.000000\n",
       "75%           7000.000000        11000.000000\n",
       "max          17000.000000        70000.000000"
      ]
     },
     "execution_count": 57,
     "metadata": {},
     "output_type": "execute_result"
    }
   ],
   "source": [
    "jobs[['min_monthly_salary', 'max_monthly_salary']].describe()"
   ]
  },
  {
   "cell_type": "code",
   "execution_count": 58,
   "metadata": {},
   "outputs": [
    {
     "data": {
      "image/png": "[encoded data removed]",
      "text/plain": [
       "<Figure size 1080x288 with 2 Axes>"
      ]
     },
     "metadata": {
      "needs_background": "light"
     },
     "output_type": "display_data"
    }
   ],
   "source": [
    "plt.figure(figsize=(15,4))\n",
    "plt.subplot(121)\n",
    "sns.boxplot(jobs['min_monthly_salary'])\n",
    "plt.title('Distribution of min month salary')\n",
    "plt.subplot(122)\n",
    "sns.boxplot(jobs['max_monthly_salary'])\n",
    "plt.title('Distribution of max month salary')\n",
    "plt.show()"
   ]
  },
  {
   "cell_type": "markdown",
   "metadata": {},
   "source": [
    "There are 2 extreme outliers in the `max_monthly_salaries`. Hence, as a conservative estimate for the job salary, I will be taking the median `min_monthly_salary` as the threshold to determine whether the salary is low or high. Taking the median salary would also create an equal class distribution between the low and high salary classes."
   ]
  },
  {
   "cell_type": "code",
   "execution_count": 59,
   "metadata": {},
   "outputs": [],
   "source": [
    "# create target variable is_high_salary\n",
    "jobs['is_high_salary'] = [1 if value > jobs['min_monthly_salary'].median() else 0 for value in jobs['min_monthly_salary']]"
   ]
  },
  {
   "cell_type": "markdown",
   "metadata": {},
   "source": [
    "**Distribution of employment type in each class**"
   ]
  },
  {
   "cell_type": "markdown",
   "metadata": {},
   "source": [
    "From the distribution in each class, we can see that high salary jobs have 3 times as many permanent positions as compared to contract positions. However, for low salary jobs, there are less than 2 times as many permanent positions as compared to contract positions. Employment type might be a good predictor of each class."
   ]
  },
  {
   "cell_type": "code",
   "execution_count": 60,
   "metadata": {},
   "outputs": [
    {
     "data": {
      "image/png": "[encoded data removed]",
      "text/plain": [
       "<Figure size 864x432 with 2 Axes>"
      ]
     },
     "metadata": {
      "needs_background": "light"
     },
     "output_type": "display_data"
    }
   ],
   "source": [
    "g = sns.catplot(y=\"employment_types\", col=\"is_high_salary\",\n",
    "                data=jobs, saturation=.5,\n",
    "                kind=\"count\", ci=None, aspect=1, height=6, orient=\"h\")\n",
    "plt.show()"
   ]
  },
  {
   "cell_type": "markdown",
   "metadata": {},
   "source": [
    "**Distribution of position level in each class**"
   ]
  },
  {
   "cell_type": "markdown",
   "metadata": {},
   "source": [
    "From the plots, we can see that high salary jobs have more manager and senior management positions and fewer executive, entry level, non-executive and junior executive positions. Both classes have a high number of professional positions."
   ]
  },
  {
   "cell_type": "code",
   "execution_count": 61,
   "metadata": {},
   "outputs": [
    {
     "data": {
      "image/png": "[encoded data removed]",
      "text/plain": [
       "<Figure size 1152x288 with 2 Axes>"
      ]
     },
     "metadata": {
      "needs_background": "light"
     },
     "output_type": "display_data"
    }
   ],
   "source": [
    "g = sns.catplot(y=\"position_levels\", col=\"is_high_salary\",\n",
    "                data=jobs, saturation=.5,\n",
    "                kind=\"count\", ci=None, aspect=2, height=4, orient=\"h\")\n",
    "g.set_xticklabels(rotation=30)\n",
    "plt.show()"
   ]
  },
  {
   "cell_type": "markdown",
   "metadata": {},
   "source": [
    "**Most frequent words for each class**"
   ]
  },
  {
   "cell_type": "code",
   "execution_count": 62,
   "metadata": {},
   "outputs": [],
   "source": [
    "stopword_list = stopwords.words('english')\n",
    "\n",
    "# remove negation terms\n",
    "stopword_list.remove('no')\n",
    "stopword_list.remove('not')\n"
   ]
  },
  {
   "cell_type": "code",
   "execution_count": 63,
   "metadata": {},
   "outputs": [],
   "source": [
    "cvt = CountVectorizer(stop_words=stopword_list, ngram_range=(1,1))\n",
    "counts = cvt.fit_transform(jobs['job_description'])\n"
   ]
  },
  {
   "cell_type": "code",
   "execution_count": 64,
   "metadata": {},
   "outputs": [],
   "source": [
    "job_desc_counts = pd.DataFrame(counts.toarray(), columns=cvt.get_feature_names())\n"
   ]
  },
  {
   "cell_type": "code",
   "execution_count": 65,
   "metadata": {},
   "outputs": [],
   "source": [
    "job_desc_counts['is_high_salary'] = jobs['is_high_salary']\n"
   ]
  },
  {
   "cell_type": "code",
   "execution_count": 66,
   "metadata": {},
   "outputs": [
    {
     "data": {
      "text/html": [
       "<div>\n",
       "<style scoped>\n",
       "    .dataframe tbody tr th:only-of-type {\n",
       "        vertical-align: middle;\n",
       "    }\n",
       "\n",
       "    .dataframe tbody tr th {\n",
       "        vertical-align: top;\n",
       "    }\n",
       "\n",
       "    .dataframe thead th {\n",
       "        text-align: right;\n",
       "    }\n",
       "</style>\n",
       "<table border=\"1\" class=\"dataframe\">\n",
       "  <thead>\n",
       "    <tr style=\"text-align: right;\">\n",
       "      <th></th>\n",
       "      <th>000</th>\n",
       "      <th>01</th>\n",
       "      <th>05</th>\n",
       "      <th>06c2859</th>\n",
       "      <th>07</th>\n",
       "      <th>10</th>\n",
       "      <th>100</th>\n",
       "      <th>1000</th>\n",
       "      <th>1000s</th>\n",
       "      <th>100gb</th>\n",
       "      <th>...</th>\n",
       "      <th>zenika</th>\n",
       "      <th>zeppelin</th>\n",
       "      <th>zero</th>\n",
       "      <th>zigbee</th>\n",
       "      <th>zilingo</th>\n",
       "      <th>zini</th>\n",
       "      <th>zinier</th>\n",
       "      <th>zone</th>\n",
       "      <th>zookeeper</th>\n",
       "      <th>is_high_salary</th>\n",
       "    </tr>\n",
       "  </thead>\n",
       "  <tbody>\n",
       "    <tr>\n",
       "      <th>0</th>\n",
       "      <td>0</td>\n",
       "      <td>0</td>\n",
       "      <td>0</td>\n",
       "      <td>0</td>\n",
       "      <td>0</td>\n",
       "      <td>0</td>\n",
       "      <td>0</td>\n",
       "      <td>0</td>\n",
       "      <td>0</td>\n",
       "      <td>0</td>\n",
       "      <td>...</td>\n",
       "      <td>0</td>\n",
       "      <td>0</td>\n",
       "      <td>0</td>\n",
       "      <td>0</td>\n",
       "      <td>0</td>\n",
       "      <td>0</td>\n",
       "      <td>0</td>\n",
       "      <td>0</td>\n",
       "      <td>0</td>\n",
       "      <td>1.0</td>\n",
       "    </tr>\n",
       "    <tr>\n",
       "      <th>1</th>\n",
       "      <td>0</td>\n",
       "      <td>0</td>\n",
       "      <td>0</td>\n",
       "      <td>0</td>\n",
       "      <td>0</td>\n",
       "      <td>0</td>\n",
       "      <td>0</td>\n",
       "      <td>0</td>\n",
       "      <td>0</td>\n",
       "      <td>0</td>\n",
       "      <td>...</td>\n",
       "      <td>0</td>\n",
       "      <td>0</td>\n",
       "      <td>0</td>\n",
       "      <td>0</td>\n",
       "      <td>0</td>\n",
       "      <td>0</td>\n",
       "      <td>0</td>\n",
       "      <td>0</td>\n",
       "      <td>0</td>\n",
       "      <td>1.0</td>\n",
       "    </tr>\n",
       "    <tr>\n",
       "      <th>2</th>\n",
       "      <td>0</td>\n",
       "      <td>0</td>\n",
       "      <td>0</td>\n",
       "      <td>0</td>\n",
       "      <td>0</td>\n",
       "      <td>0</td>\n",
       "      <td>0</td>\n",
       "      <td>0</td>\n",
       "      <td>0</td>\n",
       "      <td>0</td>\n",
       "      <td>...</td>\n",
       "      <td>0</td>\n",
       "      <td>0</td>\n",
       "      <td>0</td>\n",
       "      <td>0</td>\n",
       "      <td>0</td>\n",
       "      <td>0</td>\n",
       "      <td>0</td>\n",
       "      <td>0</td>\n",
       "      <td>0</td>\n",
       "      <td>0.0</td>\n",
       "    </tr>\n",
       "    <tr>\n",
       "      <th>3</th>\n",
       "      <td>0</td>\n",
       "      <td>0</td>\n",
       "      <td>0</td>\n",
       "      <td>0</td>\n",
       "      <td>0</td>\n",
       "      <td>0</td>\n",
       "      <td>0</td>\n",
       "      <td>0</td>\n",
       "      <td>0</td>\n",
       "      <td>0</td>\n",
       "      <td>...</td>\n",
       "      <td>0</td>\n",
       "      <td>0</td>\n",
       "      <td>0</td>\n",
       "      <td>0</td>\n",
       "      <td>0</td>\n",
       "      <td>0</td>\n",
       "      <td>0</td>\n",
       "      <td>0</td>\n",
       "      <td>0</td>\n",
       "      <td>0.0</td>\n",
       "    </tr>\n",
       "    <tr>\n",
       "      <th>4</th>\n",
       "      <td>0</td>\n",
       "      <td>0</td>\n",
       "      <td>0</td>\n",
       "      <td>0</td>\n",
       "      <td>0</td>\n",
       "      <td>0</td>\n",
       "      <td>0</td>\n",
       "      <td>0</td>\n",
       "      <td>0</td>\n",
       "      <td>0</td>\n",
       "      <td>...</td>\n",
       "      <td>0</td>\n",
       "      <td>0</td>\n",
       "      <td>0</td>\n",
       "      <td>0</td>\n",
       "      <td>0</td>\n",
       "      <td>0</td>\n",
       "      <td>0</td>\n",
       "      <td>0</td>\n",
       "      <td>0</td>\n",
       "      <td>0.0</td>\n",
       "    </tr>\n",
       "  </tbody>\n",
       "</table>\n",
       "<p>5 rows × 7024 columns</p>\n",
       "</div>"
      ],
      "text/plain": [
       "   000  01  05  06c2859  07  10  100  1000  1000s  100gb       ...        \\\n",
       "0    0   0   0        0   0   0    0     0      0      0       ...         \n",
       "1    0   0   0        0   0   0    0     0      0      0       ...         \n",
       "2    0   0   0        0   0   0    0     0      0      0       ...         \n",
       "3    0   0   0        0   0   0    0     0      0      0       ...         \n",
       "4    0   0   0        0   0   0    0     0      0      0       ...         \n",
       "\n",
       "   zenika  zeppelin  zero  zigbee  zilingo  zini  zinier  zone  zookeeper  \\\n",
       "0       0         0     0       0        0     0       0     0          0   \n",
       "1       0         0     0       0        0     0       0     0          0   \n",
       "2       0         0     0       0        0     0       0     0          0   \n",
       "3       0         0     0       0        0     0       0     0          0   \n",
       "4       0         0     0       0        0     0       0     0          0   \n",
       "\n",
       "   is_high_salary  \n",
       "0             1.0  \n",
       "1             1.0  \n",
       "2             0.0  \n",
       "3             0.0  \n",
       "4             0.0  \n",
       "\n",
       "[5 rows x 7024 columns]"
      ]
     },
     "execution_count": 66,
     "metadata": {},
     "output_type": "execute_result"
    }
   ],
   "source": [
    "job_desc_counts.head()\n"
   ]
  },
  {
   "cell_type": "markdown",
   "metadata": {},
   "source": [
    "From a simple count of the most frequent words in the job description, it seems like both classes have a very similar set of words. However, the individual words do not really convey much meaning."
   ]
  },
  {
   "cell_type": "code",
   "execution_count": 67,
   "metadata": {},
   "outputs": [],
   "source": [
    "def plot_freq_words(job_desc_counts):\n",
    "    job_desc_grouped = job_desc_counts.groupby('is_high_salary').sum().T\n",
    "    job_desc_low = job_desc_grouped[0.0].sort_values(ascending=False)\n",
    "    job_desc_high = job_desc_grouped[1.0].sort_values(ascending=False)\n",
    "    plt.figure(figsize=(16,8))\n",
    "    plt.subplot(121)\n",
    "    sns.barplot(x=job_desc_low.values[0:20], y=job_desc_low.index[0:20])\n",
    "    plt.title(\"Low salary\")\n",
    "    plt.xlabel('frequency')\n",
    "    plt.subplot(122)\n",
    "    sns.barplot(x=job_desc_high.values[0:20], y=job_desc_high.index[0:20])\n",
    "    plt.title(\"High salary\")\n",
    "    plt.xlabel('frequency')\n",
    "    plt.show()"
   ]
  },
  {
   "cell_type": "code",
   "execution_count": 68,
   "metadata": {},
   "outputs": [
    {
     "data": {
      "image/png": "[encoded data removed]",
      "text/plain": [
       "<Figure size 1152x576 with 2 Axes>"
      ]
     },
     "metadata": {
      "needs_background": "light"
     },
     "output_type": "display_data"
    }
   ],
   "source": [
    "plot_freq_words(job_desc_counts)"
   ]
  },
  {
   "cell_type": "markdown",
   "metadata": {},
   "source": [
    "The bi-gram counts show more meaningful phrases and we can see that machine learning, big data and deep learning appear frequently in job descriptions for both salary classes. In addtion, we see that the jobs also require people to work closely in teams to use data to meet business needs."
   ]
  },
  {
   "cell_type": "code",
   "execution_count": 69,
   "metadata": {},
   "outputs": [],
   "source": [
    "# get bi-grams\n",
    "cvt = CountVectorizer(stop_words=stopword_list, ngram_range=(2,2))\n",
    "counts = cvt.fit_transform(jobs['job_description'])"
   ]
  },
  {
   "cell_type": "code",
   "execution_count": 70,
   "metadata": {},
   "outputs": [
    {
     "data": {
      "image/png": "[encoded data removed]",
      "text/plain": [
       "<Figure size 1152x576 with 2 Axes>"
      ]
     },
     "metadata": {
      "needs_background": "light"
     },
     "output_type": "display_data"
    }
   ],
   "source": [
    "job_desc_counts = pd.DataFrame(counts.toarray(), columns=cvt.get_feature_names())\n",
    "job_desc_counts['is_high_salary'] = jobs['is_high_salary']\n",
    "plot_freq_words(job_desc_counts)"
   ]
  },
  {
   "cell_type": "markdown",
   "metadata": {},
   "source": [
    "Let's take a look at the TF-IDF frequencies. Even after taking into acount the inverse document frequency, it seems like the most frequent bi-grams are similar to the ones above."
   ]
  },
  {
   "cell_type": "code",
   "execution_count": 71,
   "metadata": {},
   "outputs": [],
   "source": [
    "tfidf = TfidfVectorizer(stop_words=stopword_list, ngram_range=(2,2))\n",
    "counts = tfidf.fit_transform(jobs['job_description'])"
   ]
  },
  {
   "cell_type": "code",
   "execution_count": 72,
   "metadata": {},
   "outputs": [
    {
     "data": {
      "image/png": "[encoded data removed]",
      "text/plain": [
       "<Figure size 1152x576 with 2 Axes>"
      ]
     },
     "metadata": {
      "needs_background": "light"
     },
     "output_type": "display_data"
    }
   ],
   "source": [
    "job_desc_counts = pd.DataFrame(counts.toarray(), columns=tfidf.get_feature_names())\n",
    "job_desc_counts['is_high_salary'] = jobs['is_high_salary']\n",
    "plot_freq_words(job_desc_counts)"
   ]
  },
  {
   "cell_type": "markdown",
   "metadata": {},
   "source": [
    "**Create dummy variables for employment types**"
   ]
  },
  {
   "cell_type": "code",
   "execution_count": 73,
   "metadata": {},
   "outputs": [],
   "source": [
    "employment_dummies = pd.get_dummies(jobs['employment_types']).drop('Contract', axis=1)\n",
    "jobs = pd.concat([jobs, employment_dummies], axis=1)\n",
    "jobs.drop('employment_types', axis=1, inplace=True)"
   ]
  },
  {
   "cell_type": "markdown",
   "metadata": {},
   "source": [
    "**Create dummy variables for position levels**"
   ]
  },
  {
   "cell_type": "code",
   "execution_count": 74,
   "metadata": {},
   "outputs": [],
   "source": [
    "position_dummies = pd.get_dummies(jobs['position_levels']).drop('Fresh/entry level', axis=1)\n",
    "jobs = pd.concat([jobs, position_dummies], axis=1)\n",
    "jobs.drop('position_levels', axis=1, inplace=True)"
   ]
  },
  {
   "cell_type": "markdown",
   "metadata": {},
   "source": [
    "### Modelling\n",
    "\n",
    "**Train test split**"
   ]
  },
  {
   "cell_type": "code",
   "execution_count": 75,
   "metadata": {},
   "outputs": [],
   "source": [
    "X_train, X_test, y_train, y_test = train_test_split(jobs.drop('is_high_salary', axis=1), jobs['is_high_salary'], \n",
    "                                                    test_size=0.3, stratify=jobs['is_high_salary'], random_state=33)"
   ]
  },
  {
   "cell_type": "code",
   "execution_count": 76,
   "metadata": {},
   "outputs": [],
   "source": [
    "predictors = ['north', 'south', 'east', 'west',\n",
    "       'central', 'islandwide', 'Accounting / Auditing / Taxation',\n",
    "       'Admin / Secretarial', 'Advertising / Media ',\n",
    "       'Architecture / Interior Design', 'Banking and Finance',\n",
    "       'Building and Construction', 'Consulting ', 'Customer Service',\n",
    "       'Design', 'Education and Training', 'Engineering',\n",
    "       'Environment / Health  ', 'Events / Promotions ', 'F&B',\n",
    "       'General Management', 'General Work', 'Healthcare / Pharmaceutical',\n",
    "       'Human Resources ', 'Information Technology', 'Insurance', 'Legal',\n",
    "       'Logistics / Supply Chain', 'Manufacturing',\n",
    "       'Marketing / Public Relations ', 'Others', 'Professional Services',\n",
    "       'Public / Civil Service', 'Purchasing / Merchandising',\n",
    "       'Real Estate / Property Management', 'Risk Management',\n",
    "       'Sales / Retail ', 'Sciences / Laboratory / R&D', 'Social Services',\n",
    "       'Telecommunications', 'Travel / Tourism', 'Full Time',\n",
    "       'Internship', 'Permanent', 'Temporary', 'Executive', 'Junior Executive', 'Manager',\n",
    "       'Middle Management', 'Non-executive', 'Professional',\n",
    "       'Senior Executive', 'Senior Management', 'job_description', 'otherRequirements']"
   ]
  },
  {
   "cell_type": "markdown",
   "metadata": {},
   "source": [
    "**Adding text features to the non-text predictors**"
   ]
  },
  {
   "cell_type": "code",
   "execution_count": 77,
   "metadata": {},
   "outputs": [],
   "source": [
    "# Custom transformer to add vectorize text and add it to the other predictors\n",
    "class XWithText(BaseEstimator, TransformerMixin):\n",
    "    def __init__(self, max_features = None, ngram_range=(1,1), max_df=1.0, min_df=1, use_idf=False):\n",
    "        self.stop_words = stopword_list\n",
    "        self.ngram_range = ngram_range\n",
    "        self.max_df = max_df\n",
    "        self.min_df = min_df\n",
    "        self.max_features = max_features\n",
    "        self.use_idf = use_idf\n",
    "        self.vectorizer = TfidfVectorizer(stop_words=stopword_list, ngram_range=self.ngram_range, max_df=self.max_df,min_df=self.min_df, \n",
    "                                          max_features=self.max_features, use_idf=self.use_idf)\n",
    "        self.columns = []\n",
    "    def fit(self, X, y=None):\n",
    "        summary = X['job_description'] + X['otherRequirements']\n",
    "        self.vectorizer.fit(summary)\n",
    "        columns = X.columns.tolist()\n",
    "        columns.remove('job_description')\n",
    "        columns.remove('otherRequirements')\n",
    "        columns.extend(self.vectorizer.get_feature_names())\n",
    "        self.columns = columns # save the list of columns so that it can accessed later\n",
    "        return self\n",
    "    def transform(self, X):\n",
    "        summary = X['job_description'] + X['otherRequirements']\n",
    "        counts = self.vectorizer.transform(summary)\n",
    "        X = np.hstack((X.drop(['job_description','otherRequirements'], axis=1).values, counts.toarray()))\n",
    "        return X"
   ]
  },
  {
   "cell_type": "code",
   "execution_count": 78,
   "metadata": {},
   "outputs": [
    {
     "data": {
      "text/plain": [
       "(872, 98260)"
      ]
     },
     "execution_count": 78,
     "metadata": {},
     "output_type": "execute_result"
    }
   ],
   "source": [
    "# code to test my custom transformer\n",
    "mytransformer = XWithText(ngram_range=(1,2))\n",
    "mytransformer.fit(X_train[predictors])\n",
    "transformed = mytransformer.transform(X_train[predictors])\n",
    "transformed.shape"
   ]
  },
  {
   "cell_type": "code",
   "execution_count": 79,
   "metadata": {},
   "outputs": [
    {
     "data": {
      "text/plain": [
       "98260"
      ]
     },
     "execution_count": 79,
     "metadata": {},
     "output_type": "execute_result"
    }
   ],
   "source": [
    "len(mytransformer.columns)"
   ]
  },
  {
   "cell_type": "code",
   "execution_count": 80,
   "metadata": {},
   "outputs": [],
   "source": [
    "def test_models(train_model, param_grid, X, y, cv=3, verbose=False):\n",
    "    '''\n",
    "        Function to search through models with different parameters\n",
    "        \n",
    "        Paramters\n",
    "        ----------\n",
    "        train_model: estimator object used as classifier\n",
    "        param_grid: dictionary of parameter values\n",
    "        X: DataFrame\n",
    "            Training design matrix \n",
    "        y: Series\n",
    "            Training labels\n",
    "        verbose: boolean, False by default\n",
    "            If True, print progress of the training\n",
    "    '''\n",
    "    # create combinations\n",
    "    param_names, values = zip(*param_grid.items())\n",
    "    combinations = itertools.product(*values)\n",
    "    \n",
    "    num_combinations = 1\n",
    "    for v in values:\n",
    "        num_combinations *= len(v)\n",
    "    \n",
    "    cv_results = []\n",
    "    \n",
    "    start = time.time()\n",
    "    for index, params in enumerate(combinations):\n",
    "        \n",
    "        # run model\n",
    "        model_params = dict(zip(param_names, params))\n",
    "        scores = train_model(X, y, cv, False, **model_params)\n",
    "        \n",
    "        # save cv score\n",
    "        cv_results.append({'params': model_params, 'cv_score': scores, 'mean_score': np.mean(scores), \n",
    "                           'std_score': np.std(scores)})\n",
    "        \n",
    "        if (verbose) & (index%10 == 9):\n",
    "            print (f\"Done {index+1} out of {num_combinations} in {np.round((time.time()-start)/60, 2)} min\")\n",
    "            \n",
    "    return cv_results"
   ]
  },
  {
   "cell_type": "markdown",
   "metadata": {},
   "source": [
    "**Logistic regression model**\n",
    "\n",
    "I am using the custom transformer to vectorize the text data in `job_description` and `otherRequirements` and combine them with the non-text features. These features are standardized because I am using logistic regression with regularization. Then, I chose to use SelectKBest features to limit the number of features used in the training. This is for practical reasons to limit the training time and because the slight improvement in performance does not justify the much longer training time.\n",
    "\n",
    "I also used the Area Under ROC as the scoring metric to optimize the classifier. This is because I am interested in classifiying both classes correctly and it allows me to evaluate the models independent of the threshold."
   ]
  },
  {
   "cell_type": "code",
   "execution_count": 81,
   "metadata": {},
   "outputs": [],
   "source": [
    "def train_logistic(X, y, cv, return_train, ngram_range, use_idf, kbest_k, logr_C):\n",
    "    '''\n",
    "        Function to train logistic regression models\n",
    "        \n",
    "        Parameters\n",
    "        -----------\n",
    "        X: DataFrame\n",
    "            Training design matrix\n",
    "        y: Series\n",
    "            Training labels\n",
    "        cv: int\n",
    "            Number of cross validation folds\n",
    "        return_train: boolean\n",
    "            If True, return the transformers and estimator after fitting. If False, return cross validation scores.\n",
    "        ngram_range: tuple\n",
    "            ngram_range parameter for TdidfVectorizer in the custom transformer\n",
    "        use_idf: boolean\n",
    "            use_idf parameter for TdidfVectorizer in the custom transformer\n",
    "        kbest_k: int\n",
    "            k parameter for SelectKBest\n",
    "        logr_C: float\n",
    "            C parameter for LogisticRegression\n",
    "    '''\n",
    "    # transform X to get the text features\n",
    "    text_transfomer = XWithText(ngram_range=ngram_range, use_idf=use_idf)\n",
    "    text_transfomer.fit(X)\n",
    "    new_X = text_transfomer.transform(X)\n",
    "    # standardize data to use in logistic regression with regularization\n",
    "    ss = StandardScaler()\n",
    "    ss.fit(new_X)\n",
    "    Xs = ss.transform(new_X)\n",
    "    # select k best features\n",
    "    kbest = SelectKBest(k=kbest_k)\n",
    "    X_best = kbest.fit_transform(Xs, y)\n",
    "    # estimator\n",
    "    logr = LogisticRegression(random_state=42, solver='liblinear', C=logr_C)\n",
    "    if (return_train): # return fitted transformers and estimator\n",
    "        logr.fit(X_best, y)\n",
    "        return {'text_transformer': text_transfomer, 'ss': ss, 'kbest': kbest, 'estimator': logr}\n",
    "    \n",
    "    # return cv scores\n",
    "    return cross_val_score(logr, X_best, y, cv=cv, n_jobs=-1, scoring='roc_auc')\n"
   ]
  },
  {
   "cell_type": "code",
   "execution_count": 82,
   "metadata": {},
   "outputs": [],
   "source": [
    "def best_params(model_list):\n",
    "    '''\n",
    "        Function that returns the best parameters for the model with best mean score\n",
    "    '''\n",
    "    sorted_list = sorted(model_list, key=lambda k: -k['mean_score']) \n",
    "    return sorted_list[0]"
   ]
  },
  {
   "cell_type": "code",
   "execution_count": 83,
   "metadata": {},
   "outputs": [],
   "source": [
    "## run this cell to load the results without having to search through the parameters\n",
    "\n",
    "models_result = load_file('models_result')"
   ]
  },
  {
   "cell_type": "code",
   "execution_count": 84,
   "metadata": {},
   "outputs": [],
   "source": [
    "## run this cell to search through the parameters\n",
    "\n",
    "# params_logistic = {'ngram_range': [(1,1), (1,2)], 'use_idf': [False, True], \n",
    "#              'kbest_k':[1000,2000,3000], 'logr_C':np.logspace(-4,1,5)}\n",
    "# log_models_result = test_models(train_logistic, params_logistic, X_train[predictors], y_train, cv=3, verbose=True)"
   ]
  },
  {
   "cell_type": "code",
   "execution_count": 85,
   "metadata": {},
   "outputs": [
    {
     "data": {
      "text/plain": [
       "{'params': {'ngram_range': (1, 2),\n",
       "  'use_idf': False,\n",
       "  'kbest_k': 3000,\n",
       "  'logr_C': 0.0017782794100389228},\n",
       " 'cv_score': array([0.93511741, 0.95432075, 0.95302334]),\n",
       " 'mean_score': 0.9474871681117522,\n",
       " 'std_score': 0.008762764666027842}"
      ]
     },
     "execution_count": 85,
     "metadata": {},
     "output_type": "execute_result"
    }
   ],
   "source": [
    "log_models_result = models_result['log_models_result']\n",
    "best_params(log_models_result)\n"
   ]
  },
  {
   "cell_type": "markdown",
   "metadata": {},
   "source": [
    "**Random forest model**\n",
    "\n",
    "I tried the random forest model because it is one of the simpler ensemble models without that many hyper parameters to tune. The advantage of the random forest is that builds many decision trees and averages the results which reduces the variance while giving better model performance over a single decision tree. Furthermore, it also gives feature importance which would be useful for determining the factors that affect salary class. I did not standardize the features because the scale of each feature can be different when using decision trees."
   ]
  },
  {
   "cell_type": "code",
   "execution_count": 86,
   "metadata": {},
   "outputs": [],
   "source": [
    "def train_rf(X, y, cv, return_train, ngram_range, use_idf, kbest_k, rf_n_estimators, rf_max_depth, rf_min_samples_split):\n",
    "    '''\n",
    "        Function to train random forest models\n",
    "        \n",
    "        Parameters\n",
    "        -----------\n",
    "        X: DataFrame\n",
    "            Training design matrix\n",
    "        y: Series\n",
    "            Training labels\n",
    "        cv: int\n",
    "            Number of cross validation folds\n",
    "        return_train: boolean\n",
    "            If True, return the transformers and estimator after fitting. If False, return cross validation scores.\n",
    "        ngram_range: tuple\n",
    "            ngram_range parameter for TdidfVectorizer in the custom transformer\n",
    "        use_idf: boolean\n",
    "            use_idf parameter for TdidfVectorizer in the custom transformer\n",
    "        kbest_k: int\n",
    "            k parameter for SelectKBest\n",
    "        rf_n_estimators: int\n",
    "            n_estimators parameter for RandomForestClassifier\n",
    "        rf_max_depth: int\n",
    "            max_depth parameter for RandomForestClassifier\n",
    "        rf_min_samples_split: int\n",
    "            min_samples_split parameter for RandomForestClassifier\n",
    "    '''\n",
    "    text_transfomer = XWithText(ngram_range=ngram_range, use_idf=use_idf)\n",
    "    text_transfomer.fit(X, y)\n",
    "    new_X = text_transfomer.transform(X)\n",
    "    kbest = SelectKBest(k=kbest_k)\n",
    "    X_best = kbest.fit_transform(new_X, y)\n",
    "    \n",
    "    rf = RandomForestClassifier(random_state=42, n_estimators=rf_n_estimators, max_depth=rf_max_depth, \n",
    "                                min_samples_split=rf_min_samples_split)\n",
    "    if (return_train):\n",
    "        rf.fit(X_best, y)\n",
    "        return {'text_transformer': text_transfomer, 'kbest': kbest, 'estimator': rf}\n",
    "    return cross_val_score(rf, X_best, y, cv=cv, n_jobs=-1, scoring='roc_auc')\n"
   ]
  },
  {
   "cell_type": "code",
   "execution_count": 87,
   "metadata": {},
   "outputs": [],
   "source": [
    "## run this cell to search through the parameters\n",
    "\n",
    "# params_rf = {'ngram_range': [(1,1), (1,2)], 'use_idf': [False, True], \n",
    "#              'kbest_k':[2000,3000], 'rf_n_estimators':[50,70,90], 'rf_max_depth':[10,None], \n",
    "#              'rf_min_samples_split': [2,5]}\n",
    "# rf_models_result = test_models(train_rf, params_rf, X_train[predictors], y_train, cv=3, verbose=1)"
   ]
  },
  {
   "cell_type": "code",
   "execution_count": 88,
   "metadata": {},
   "outputs": [
    {
     "data": {
      "text/plain": [
       "{'params': {'ngram_range': (1, 2),\n",
       "  'use_idf': True,\n",
       "  'kbest_k': 2000,\n",
       "  'rf_n_estimators': 70,\n",
       "  'rf_max_depth': 10,\n",
       "  'rf_min_samples_split': 5},\n",
       " 'cv_score': array([0.81623728, 0.79232817, 0.85316207]),\n",
       " 'mean_score': 0.8205758424113306,\n",
       " 'std_score': 0.025024099661048668}"
      ]
     },
     "execution_count": 88,
     "metadata": {},
     "output_type": "execute_result"
    }
   ],
   "source": [
    "rf_models_result = models_result['rf_models_result']\n",
    "best_params(rf_models_result)\n"
   ]
  },
  {
   "cell_type": "markdown",
   "metadata": {},
   "source": [
    "**Multinomial Naive Bayes**\n",
    "\n",
    "I tried out the Multinomial Naive Bayes model because it works more efficiently on word frequencies and the other features are all dummy variables. In addition, the model provides the feature probabiilty given a class, which can be used to determine the factors that affect salary class."
   ]
  },
  {
   "cell_type": "code",
   "execution_count": 89,
   "metadata": {},
   "outputs": [],
   "source": [
    "def train_mnb(X, y, cv, return_train, ngram_range, use_idf, kbest_k):\n",
    "    '''\n",
    "        Function to train random forest models\n",
    "        \n",
    "        Parameters\n",
    "        -----------\n",
    "        X: DataFrame\n",
    "            Training design matrix\n",
    "        y: Series\n",
    "            Training labels\n",
    "        cv: int\n",
    "            Number of cross validation folds\n",
    "        return_train: boolean\n",
    "            If True, return the transformers and estimator after fitting. If False, return cross validation scores.\n",
    "        ngram_range: tuple\n",
    "            ngram_range parameter for TdidfVectorizer in the custom transformer\n",
    "        use_idf: boolean\n",
    "            use_idf parameter for TdidfVectorizer in the custom transformer\n",
    "        kbest_k: int\n",
    "            k parameter for SelectKBest\n",
    "    '''\n",
    "    text_transfomer = XWithText(ngram_range=ngram_range, use_idf=use_idf)\n",
    "    text_transfomer.fit(X)\n",
    "    new_X = text_transfomer.transform(X)\n",
    "    kbest = SelectKBest(k=kbest_k)\n",
    "    X_best = kbest.fit_transform(new_X, y)\n",
    "    mnb = MultinomialNB()\n",
    "    \n",
    "    if (return_train):\n",
    "        mnb.fit(X_best, y)\n",
    "        return {'text_transformer': text_transfomer, 'kbest': kbest, 'estimator': mnb}\n",
    "    return cross_val_score(mnb, X_best, y, cv=cv, n_jobs=-1, scoring='roc_auc')\n",
    "    "
   ]
  },
  {
   "cell_type": "code",
   "execution_count": 90,
   "metadata": {},
   "outputs": [],
   "source": [
    "## run this cell to search through the parameters\n",
    "\n",
    "# params_mnb = {'ngram_range': [(1,1),(1,2),(1,3)], 'use_idf': [False, True], 'kbest_k':[2000,3000]}\n",
    "# mnb_models_result = test_models(train_mnb, params_mnb, X_train_ds[predictors_ds], y_train_ds, \n",
    "#                                    cv=3, verbose=1)"
   ]
  },
  {
   "cell_type": "code",
   "execution_count": 91,
   "metadata": {},
   "outputs": [
    {
     "data": {
      "text/plain": [
       "{'params': {'ngram_range': (1, 1), 'use_idf': True, 'kbest_k': 2000},\n",
       " 'cv_score': array([0.81374378, 0.78407426, 0.92509363]),\n",
       " 'mean_score': 0.8409705563535521,\n",
       " 'std_score': 0.06070469069030953}"
      ]
     },
     "execution_count": 91,
     "metadata": {},
     "output_type": "execute_result"
    }
   ],
   "source": [
    "mnb_models_result = models_result['mnb_models_result']\n",
    "best_params(mnb_models_result)\n"
   ]
  },
  {
   "cell_type": "markdown",
   "metadata": {},
   "source": [
    "**Summary of results**\n",
    "\n",
    "Mean AUC score:\n",
    "- Logistic regression: 0.95\n",
    "- Random forest: 0.82\n",
    "- Multinomial Naive Bayes: 0.84\n",
    "\n",
    "The best model is the logistic regression model. Let's try evaluating the model on the test set."
   ]
  },
  {
   "cell_type": "code",
   "execution_count": 92,
   "metadata": {},
   "outputs": [
    {
     "name": "stderr",
     "output_type": "stream",
     "text": [
      "/Users/joshuamei/anaconda3/lib/python3.7/site-packages/sklearn/feature_selection/univariate_selection.py:114: UserWarning: Features [18 38] are constant.\n",
      "  UserWarning)\n",
      "/Users/joshuamei/anaconda3/lib/python3.7/site-packages/sklearn/feature_selection/univariate_selection.py:115: RuntimeWarning: divide by zero encountered in true_divide\n",
      "  f = msb / msw\n",
      "/Users/joshuamei/anaconda3/lib/python3.7/site-packages/sklearn/feature_selection/univariate_selection.py:115: RuntimeWarning: invalid value encountered in true_divide\n",
      "  f = msb / msw\n"
     ]
    }
   ],
   "source": [
    "# train model on all the training data\n",
    "model_log = train_logistic(X_train[predictors], y_train, cv=3, return_train=True, **best_params(log_models_result)['params'])\n"
   ]
  },
  {
   "cell_type": "code",
   "execution_count": 93,
   "metadata": {},
   "outputs": [],
   "source": [
    "# evaluate logistic model with test data\n",
    "def test_best_model(model, X, y, scoring=None):\n",
    "    new_X = model['text_transformer'].transform(X)\n",
    "    Xs = model['ss'].transform(new_X)\n",
    "    X_best = model['kbest'].transform(Xs)\n",
    "    if scoring=='roc_auc':\n",
    "        y_scores = model['estimator'].predict_proba(X_best)\n",
    "        return roc_auc_score(y, y_scores[:,1])\n",
    "    elif scoring=='classification_report':\n",
    "        y_pred = model['estimator'].predict(X_best)\n",
    "        return classification_report(y, y_pred)\n",
    "    elif scoring=='confusion':\n",
    "        y_pred = model['estimator'].predict(X_best)\n",
    "        return confusion_matrix(y, y_pred)\n",
    "    \n",
    "    return model['estimator'].score(X_best, y)"
   ]
  },
  {
   "cell_type": "markdown",
   "metadata": {},
   "source": [
    "The AUC score on the test data is 0.80 which is much lower than the score obtained from the cross validation. This means that the model does not generalize well to new data. This could be due to overfitting of the model on the training data because of many redundant features. Another reason could be the noise in the data from irrelevant job postings that were not cleaned, which could affect the training of the model. However, this is still much better than a baseline model (AUC = 0.5) of randomly guessing the salary class.\n",
    "\n",
    "> More data collection, data cleaning and model parameter tuning could be done given more time."
   ]
  },
  {
   "cell_type": "code",
   "execution_count": 94,
   "metadata": {},
   "outputs": [
    {
     "name": "stdout",
     "output_type": "stream",
     "text": [
      "auc: 0.8025910907888305\n"
     ]
    }
   ],
   "source": [
    "test_score = test_best_model(model_log, X_test[predictors], y_test, scoring='roc_auc')\n",
    "print ('auc:', test_score)"
   ]
  },
  {
   "cell_type": "code",
   "execution_count": 95,
   "metadata": {},
   "outputs": [
    {
     "name": "stdout",
     "output_type": "stream",
     "text": [
      "accuracy: 0.7352941176470589\n"
     ]
    }
   ],
   "source": [
    "test_score = test_best_model(model_log, X_test[predictors], y_test)\n",
    "print (\"accuracy:\", test_score)"
   ]
  },
  {
   "cell_type": "code",
   "execution_count": 96,
   "metadata": {
    "scrolled": false
   },
   "outputs": [
    {
     "name": "stdout",
     "output_type": "stream",
     "text": [
      "              precision    recall  f1-score   support\n",
      "\n",
      "           0       0.76      0.74      0.75       201\n",
      "           1       0.71      0.73      0.72       173\n",
      "\n",
      "   micro avg       0.74      0.74      0.74       374\n",
      "   macro avg       0.73      0.74      0.73       374\n",
      "weighted avg       0.74      0.74      0.74       374\n",
      "\n"
     ]
    }
   ],
   "source": [
    "test_score = test_best_model(model_log, X_test[predictors], y_test, scoring='classification_report')\n",
    "print (test_score)"
   ]
  },
  {
   "cell_type": "code",
   "execution_count": 97,
   "metadata": {},
   "outputs": [],
   "source": [
    "def get_coef(model):\n",
    "    coef = model['estimator'].coef_.reshape(-1)\n",
    "    mask = model['kbest'].get_support()\n",
    "    features = np.asarray(model['text_transformer'].columns)[mask]\n",
    "    return pd.DataFrame({'features': features, 'coef': coef, 'coef_abs': np.abs(coef)})"
   ]
  },
  {
   "cell_type": "markdown",
   "metadata": {},
   "source": [
    "**Factors that affect salary class**\n",
    "\n",
    "The top few factors are actually the position levels: manager and senior management have positive coefficients, which means the odds of being in the high salary class are higher as compared to fresh/entry level (reference). Executive and junior executive have negative coefficients, which means that the odds of being in the high salary class are lower as compared to fresh/entry level. The coefficients of these factors make sense as we would expect manager and senior management to get high salaries. \n",
    "\n",
    "For example,\n",
    "\n",
    "$$\\frac{odds(high\\ salary|Manager)}{odds(high\\ salary|Fresh)} = exp({\\frac{Manager\\ coef}{Manager\\ std\\ dev}}) = 1.17$$\n",
    "\n",
    "This means that the odds of being a high paying job given that it is a Manager position is 1.17 times the odds of being a high paying job given that it is a Fresh/Entry position.\n",
    "\n",
    "Other factors that affect salary class include words/skills like management experience, 10 years experience, experience with technology, programming ability, spark and python. "
   ]
  },
  {
   "cell_type": "code",
   "execution_count": 98,
   "metadata": {
    "scrolled": true
   },
   "outputs": [
    {
     "data": {
      "text/html": [
       "<div>\n",
       "<style scoped>\n",
       "    .dataframe tbody tr th:only-of-type {\n",
       "        vertical-align: middle;\n",
       "    }\n",
       "\n",
       "    .dataframe tbody tr th {\n",
       "        vertical-align: top;\n",
       "    }\n",
       "\n",
       "    .dataframe thead th {\n",
       "        text-align: right;\n",
       "    }\n",
       "</style>\n",
       "<table border=\"1\" class=\"dataframe\">\n",
       "  <thead>\n",
       "    <tr style=\"text-align: right;\">\n",
       "      <th></th>\n",
       "      <th>features</th>\n",
       "      <th>coef</th>\n",
       "      <th>coef_abs</th>\n",
       "    </tr>\n",
       "  </thead>\n",
       "  <tbody>\n",
       "    <tr>\n",
       "      <th>7</th>\n",
       "      <td>Executive</td>\n",
       "      <td>-0.054712</td>\n",
       "      <td>0.054712</td>\n",
       "    </tr>\n",
       "    <tr>\n",
       "      <th>9</th>\n",
       "      <td>Manager</td>\n",
       "      <td>0.052884</td>\n",
       "      <td>0.052884</td>\n",
       "    </tr>\n",
       "    <tr>\n",
       "      <th>10</th>\n",
       "      <td>Senior Management</td>\n",
       "      <td>0.052394</td>\n",
       "      <td>0.052394</td>\n",
       "    </tr>\n",
       "    <tr>\n",
       "      <th>11</th>\n",
       "      <td>10</td>\n",
       "      <td>0.046788</td>\n",
       "      <td>0.046788</td>\n",
       "    </tr>\n",
       "    <tr>\n",
       "      <th>8</th>\n",
       "      <td>Junior Executive</td>\n",
       "      <td>-0.043067</td>\n",
       "      <td>0.043067</td>\n",
       "    </tr>\n",
       "    <tr>\n",
       "      <th>13</th>\n",
       "      <td>10 year</td>\n",
       "      <td>0.042008</td>\n",
       "      <td>0.042008</td>\n",
       "    </tr>\n",
       "    <tr>\n",
       "      <th>1165</th>\n",
       "      <td>grant</td>\n",
       "      <td>0.031477</td>\n",
       "      <td>0.031477</td>\n",
       "    </tr>\n",
       "    <tr>\n",
       "      <th>186</th>\n",
       "      <td>apac</td>\n",
       "      <td>0.031012</td>\n",
       "      <td>0.031012</td>\n",
       "    </tr>\n",
       "    <tr>\n",
       "      <th>2646</th>\n",
       "      <td>task</td>\n",
       "      <td>-0.030124</td>\n",
       "      <td>0.030124</td>\n",
       "    </tr>\n",
       "    <tr>\n",
       "      <th>768</th>\n",
       "      <td>diploma</td>\n",
       "      <td>-0.029750</td>\n",
       "      <td>0.029750</td>\n",
       "    </tr>\n",
       "    <tr>\n",
       "      <th>1030</th>\n",
       "      <td>feed</td>\n",
       "      <td>0.029614</td>\n",
       "      <td>0.029614</td>\n",
       "    </tr>\n",
       "    <tr>\n",
       "      <th>1657</th>\n",
       "      <td>minimum 10</td>\n",
       "      <td>0.029556</td>\n",
       "      <td>0.029556</td>\n",
       "    </tr>\n",
       "    <tr>\n",
       "      <th>1555</th>\n",
       "      <td>management experience</td>\n",
       "      <td>0.029474</td>\n",
       "      <td>0.029474</td>\n",
       "    </tr>\n",
       "    <tr>\n",
       "      <th>1854</th>\n",
       "      <td>outline</td>\n",
       "      <td>0.028686</td>\n",
       "      <td>0.028686</td>\n",
       "    </tr>\n",
       "    <tr>\n",
       "      <th>1082</th>\n",
       "      <td>fresh</td>\n",
       "      <td>-0.028352</td>\n",
       "      <td>0.028352</td>\n",
       "    </tr>\n",
       "    <tr>\n",
       "      <th>1373</th>\n",
       "      <td>internship</td>\n",
       "      <td>-0.028136</td>\n",
       "      <td>0.028136</td>\n",
       "    </tr>\n",
       "    <tr>\n",
       "      <th>4</th>\n",
       "      <td>Public / Civil Service</td>\n",
       "      <td>-0.027984</td>\n",
       "      <td>0.027984</td>\n",
       "    </tr>\n",
       "    <tr>\n",
       "      <th>444</th>\n",
       "      <td>clearly</td>\n",
       "      <td>-0.027910</td>\n",
       "      <td>0.027910</td>\n",
       "    </tr>\n",
       "    <tr>\n",
       "      <th>2355</th>\n",
       "      <td>self</td>\n",
       "      <td>-0.027661</td>\n",
       "      <td>0.027661</td>\n",
       "    </tr>\n",
       "    <tr>\n",
       "      <th>1411</th>\n",
       "      <td>junior staff</td>\n",
       "      <td>0.027636</td>\n",
       "      <td>0.027636</td>\n",
       "    </tr>\n",
       "    <tr>\n",
       "      <th>2654</th>\n",
       "      <td>team define</td>\n",
       "      <td>0.027333</td>\n",
       "      <td>0.027333</td>\n",
       "    </tr>\n",
       "    <tr>\n",
       "      <th>377</th>\n",
       "      <td>bw</td>\n",
       "      <td>0.027312</td>\n",
       "      <td>0.027312</td>\n",
       "    </tr>\n",
       "    <tr>\n",
       "      <th>851</th>\n",
       "      <td>effort</td>\n",
       "      <td>0.027096</td>\n",
       "      <td>0.027096</td>\n",
       "    </tr>\n",
       "    <tr>\n",
       "      <th>1531</th>\n",
       "      <td>maintenance</td>\n",
       "      <td>-0.027091</td>\n",
       "      <td>0.027091</td>\n",
       "    </tr>\n",
       "    <tr>\n",
       "      <th>693</th>\n",
       "      <td>degree equivalent</td>\n",
       "      <td>-0.027080</td>\n",
       "      <td>0.027080</td>\n",
       "    </tr>\n",
       "    <tr>\n",
       "      <th>1083</th>\n",
       "      <td>fresh graduate</td>\n",
       "      <td>-0.026943</td>\n",
       "      <td>0.026943</td>\n",
       "    </tr>\n",
       "    <tr>\n",
       "      <th>2687</th>\n",
       "      <td>technique develop</td>\n",
       "      <td>0.026923</td>\n",
       "      <td>0.026923</td>\n",
       "    </tr>\n",
       "    <tr>\n",
       "      <th>1303</th>\n",
       "      <td>industry minimum</td>\n",
       "      <td>0.026863</td>\n",
       "      <td>0.026863</td>\n",
       "    </tr>\n",
       "    <tr>\n",
       "      <th>969</th>\n",
       "      <td>experience</td>\n",
       "      <td>0.026769</td>\n",
       "      <td>0.026769</td>\n",
       "    </tr>\n",
       "    <tr>\n",
       "      <th>686</th>\n",
       "      <td>define</td>\n",
       "      <td>0.026482</td>\n",
       "      <td>0.026482</td>\n",
       "    </tr>\n",
       "    <tr>\n",
       "      <th>2072</th>\n",
       "      <td>program ability</td>\n",
       "      <td>0.026147</td>\n",
       "      <td>0.026147</td>\n",
       "    </tr>\n",
       "    <tr>\n",
       "      <th>2997</th>\n",
       "      <td>yet</td>\n",
       "      <td>-0.026008</td>\n",
       "      <td>0.026008</td>\n",
       "    </tr>\n",
       "    <tr>\n",
       "      <th>922</th>\n",
       "      <td>environment strong</td>\n",
       "      <td>0.025706</td>\n",
       "      <td>0.025706</td>\n",
       "    </tr>\n",
       "    <tr>\n",
       "      <th>2187</th>\n",
       "      <td>relationship team</td>\n",
       "      <td>0.025608</td>\n",
       "      <td>0.025608</td>\n",
       "    </tr>\n",
       "    <tr>\n",
       "      <th>1262</th>\n",
       "      <td>improve product</td>\n",
       "      <td>-0.025555</td>\n",
       "      <td>0.025555</td>\n",
       "    </tr>\n",
       "    <tr>\n",
       "      <th>659</th>\n",
       "      <td>data science</td>\n",
       "      <td>0.025394</td>\n",
       "      <td>0.025394</td>\n",
       "    </tr>\n",
       "    <tr>\n",
       "      <th>2198</th>\n",
       "      <td>relevant working</td>\n",
       "      <td>-0.025200</td>\n",
       "      <td>0.025200</td>\n",
       "    </tr>\n",
       "    <tr>\n",
       "      <th>2564</th>\n",
       "      <td>strategy ensure</td>\n",
       "      <td>0.025119</td>\n",
       "      <td>0.025119</td>\n",
       "    </tr>\n",
       "    <tr>\n",
       "      <th>2091</th>\n",
       "      <td>project reporting</td>\n",
       "      <td>0.025117</td>\n",
       "      <td>0.025117</td>\n",
       "    </tr>\n",
       "    <tr>\n",
       "      <th>2524</th>\n",
       "      <td>spss</td>\n",
       "      <td>-0.025081</td>\n",
       "      <td>0.025081</td>\n",
       "    </tr>\n",
       "    <tr>\n",
       "      <th>1268</th>\n",
       "      <td>incentive</td>\n",
       "      <td>0.024977</td>\n",
       "      <td>0.024977</td>\n",
       "    </tr>\n",
       "    <tr>\n",
       "      <th>1648</th>\n",
       "      <td>middle</td>\n",
       "      <td>0.024949</td>\n",
       "      <td>0.024949</td>\n",
       "    </tr>\n",
       "    <tr>\n",
       "      <th>1110</th>\n",
       "      <td>gas</td>\n",
       "      <td>0.024899</td>\n",
       "      <td>0.024899</td>\n",
       "    </tr>\n",
       "    <tr>\n",
       "      <th>1722</th>\n",
       "      <td>need well</td>\n",
       "      <td>0.024862</td>\n",
       "      <td>0.024862</td>\n",
       "    </tr>\n",
       "    <tr>\n",
       "      <th>2915</th>\n",
       "      <td>web technology</td>\n",
       "      <td>0.024859</td>\n",
       "      <td>0.024859</td>\n",
       "    </tr>\n",
       "    <tr>\n",
       "      <th>742</th>\n",
       "      <td>develop new</td>\n",
       "      <td>-0.024828</td>\n",
       "      <td>0.024828</td>\n",
       "    </tr>\n",
       "    <tr>\n",
       "      <th>2127</th>\n",
       "      <td>push</td>\n",
       "      <td>0.024798</td>\n",
       "      <td>0.024798</td>\n",
       "    </tr>\n",
       "    <tr>\n",
       "      <th>1861</th>\n",
       "      <td>owner</td>\n",
       "      <td>-0.024763</td>\n",
       "      <td>0.024763</td>\n",
       "    </tr>\n",
       "    <tr>\n",
       "      <th>2467</th>\n",
       "      <td>solicit</td>\n",
       "      <td>0.024647</td>\n",
       "      <td>0.024647</td>\n",
       "    </tr>\n",
       "    <tr>\n",
       "      <th>237</th>\n",
       "      <td>asset class</td>\n",
       "      <td>0.024612</td>\n",
       "      <td>0.024612</td>\n",
       "    </tr>\n",
       "  </tbody>\n",
       "</table>\n",
       "</div>"
      ],
      "text/plain": [
       "                    features      coef  coef_abs\n",
       "7                  Executive -0.054712  0.054712\n",
       "9                    Manager  0.052884  0.052884\n",
       "10         Senior Management  0.052394  0.052394\n",
       "11                        10  0.046788  0.046788\n",
       "8           Junior Executive -0.043067  0.043067\n",
       "13                   10 year  0.042008  0.042008\n",
       "1165                   grant  0.031477  0.031477\n",
       "186                     apac  0.031012  0.031012\n",
       "2646                    task -0.030124  0.030124\n",
       "768                  diploma -0.029750  0.029750\n",
       "1030                    feed  0.029614  0.029614\n",
       "1657              minimum 10  0.029556  0.029556\n",
       "1555   management experience  0.029474  0.029474\n",
       "1854                 outline  0.028686  0.028686\n",
       "1082                   fresh -0.028352  0.028352\n",
       "1373              internship -0.028136  0.028136\n",
       "4     Public / Civil Service -0.027984  0.027984\n",
       "444                  clearly -0.027910  0.027910\n",
       "2355                    self -0.027661  0.027661\n",
       "1411            junior staff  0.027636  0.027636\n",
       "2654             team define  0.027333  0.027333\n",
       "377                       bw  0.027312  0.027312\n",
       "851                   effort  0.027096  0.027096\n",
       "1531             maintenance -0.027091  0.027091\n",
       "693        degree equivalent -0.027080  0.027080\n",
       "1083          fresh graduate -0.026943  0.026943\n",
       "2687       technique develop  0.026923  0.026923\n",
       "1303        industry minimum  0.026863  0.026863\n",
       "969               experience  0.026769  0.026769\n",
       "686                   define  0.026482  0.026482\n",
       "2072         program ability  0.026147  0.026147\n",
       "2997                     yet -0.026008  0.026008\n",
       "922       environment strong  0.025706  0.025706\n",
       "2187       relationship team  0.025608  0.025608\n",
       "1262         improve product -0.025555  0.025555\n",
       "659             data science  0.025394  0.025394\n",
       "2198        relevant working -0.025200  0.025200\n",
       "2564         strategy ensure  0.025119  0.025119\n",
       "2091       project reporting  0.025117  0.025117\n",
       "2524                    spss -0.025081  0.025081\n",
       "1268               incentive  0.024977  0.024977\n",
       "1648                  middle  0.024949  0.024949\n",
       "1110                     gas  0.024899  0.024899\n",
       "1722               need well  0.024862  0.024862\n",
       "2915          web technology  0.024859  0.024859\n",
       "742              develop new -0.024828  0.024828\n",
       "2127                    push  0.024798  0.024798\n",
       "1861                   owner -0.024763  0.024763\n",
       "2467                 solicit  0.024647  0.024647\n",
       "237              asset class  0.024612  0.024612"
      ]
     },
     "execution_count": 98,
     "metadata": {},
     "output_type": "execute_result"
    }
   ],
   "source": [
    "log_model_coef = get_coef(model_log)\n",
    "log_model_coef_sorted = log_model_coef.sort_values('coef_abs', ascending=False)\n",
    "log_model_coef_sorted[0:50]"
   ]
  },
  {
   "cell_type": "code",
   "execution_count": 99,
   "metadata": {},
   "outputs": [
    {
     "name": "stdout",
     "output_type": "stream",
     "text": [
      "std dev of Executive: 0.4024497996326583\n",
      "std dev of Manager: 0.3229345133010339\n"
     ]
    }
   ],
   "source": [
    "X_matrix = pd.DataFrame(model_log['text_transformer'].transform(X_train[predictors]), \n",
    "             columns=model_log['text_transformer'].columns)\n",
    "print ('std dev of Executive:', X_matrix['Executive'].std())\n",
    "print ('std dev of Manager:', X_matrix['Manager'].std())"
   ]
  },
  {
   "cell_type": "code",
   "execution_count": 100,
   "metadata": {},
   "outputs": [
    {
     "name": "stdout",
     "output_type": "stream",
     "text": [
      "odds of (high salary|Executive) / odds of (high salary|Fresh): 0.8728894823302495\n",
      "odds of (high salary|Manager) / odds of (high salary|Fresh): 1.1779308736540335\n"
     ]
    }
   ],
   "source": [
    "# calculate odds ratio\n",
    "print ('odds of (high salary|Executive) / odds of (high salary|Fresh):', \n",
    "       np.exp(log_model_coef_sorted[0:1]['coef'].values[0] / X_matrix['Executive'].std()))\n",
    "print ('odds of (high salary|Manager) / odds of (high salary|Fresh):', \n",
    "       np.exp(log_model_coef_sorted[1:2]['coef'].values[0] / X_matrix['Manager'].std()))"
   ]
  },
  {
   "cell_type": "markdown",
   "metadata": {},
   "source": [
    "<h2> Question 2 - Factors that distinguish job category </h2>\n",
    "\n",
    "<h3> EDA </h3>\n",
    "\n",
    "**Distribution of job titles**"
   ]
  },
  {
   "cell_type": "markdown",
   "metadata": {},
   "source": [
    "From the distribution, we can see that the most common job titles in the dataset are Business Analyst, Data Scientist and Data Engineer. The number of job titles falls off quickly because there are many variants of the same job title such that each job title string becomes unique."
   ]
  },
  {
   "cell_type": "code",
   "execution_count": 101,
   "metadata": {
    "scrolled": true
   },
   "outputs": [
    {
     "data": {
      "image/png": "[encoded data removed]",
      "text/plain": [
       "<Figure size 576x360 with 1 Axes>"
      ]
     },
     "metadata": {
      "needs_background": "light"
     },
     "output_type": "display_data"
    }
   ],
   "source": [
    "plt.figure(figsize=(8,5))\n",
    "job_title_counts = jobs['job_title'].value_counts()\n",
    "sns.barplot(x=job_title_counts.values[0:20], y=job_title_counts.index[0:20])\n",
    "plt.show()"
   ]
  },
  {
   "cell_type": "markdown",
   "metadata": {},
   "source": [
    "Let's find out what differentiates a Data Scientist from other jobs."
   ]
  },
  {
   "cell_type": "code",
   "execution_count": 102,
   "metadata": {},
   "outputs": [],
   "source": [
    "jobs['is_data_scientist'] = [1 if 'data scientist' in value.lower() else 0 for value in jobs['job_title']]"
   ]
  },
  {
   "cell_type": "markdown",
   "metadata": {},
   "source": [
    "**Distribution of monthly salary**"
   ]
  },
  {
   "cell_type": "markdown",
   "metadata": {},
   "source": [
    "The data scientist and non data scientist salary distributions look quite similar. Salary might not be so good at differentiating the two classes."
   ]
  },
  {
   "cell_type": "code",
   "execution_count": 103,
   "metadata": {
    "scrolled": false
   },
   "outputs": [
    {
     "name": "stderr",
     "output_type": "stream",
     "text": [
      "/Users/joshuamei/anaconda3/lib/python3.7/site-packages/scipy/stats/stats.py:1713: FutureWarning: Using a non-tuple sequence for multidimensional indexing is deprecated; use `arr[tuple(seq)]` instead of `arr[seq]`. In the future this will be interpreted as an array index, `arr[np.array(seq)]`, which will result either in an error or a different result.\n",
      "  return np.add.reduce(sorted[indexer] * weights, axis=axis) / sumval\n"
     ]
    },
    {
     "data": {
      "image/png": "[encoded data removed]",
      "text/plain": [
       "<Figure size 576x360 with 1 Axes>"
      ]
     },
     "metadata": {
      "needs_background": "light"
     },
     "output_type": "display_data"
    }
   ],
   "source": [
    "plt.figure(figsize=(8,5))\n",
    "sns.distplot(jobs[jobs['is_data_scientist'] == 1]['min_monthly_salary'], hist_kws={\"alpha\":0.5}, label='data scientist')\n",
    "sns.distplot(jobs[jobs['is_data_scientist'] == 0]['min_monthly_salary'], hist_kws={\"alpha\":0.5}, label='non data scientist')\n",
    "plt.legend()\n",
    "plt.title('Distribution of monthly salary for data scientist and non data scientist')\n",
    "plt.show()"
   ]
  },
  {
   "cell_type": "markdown",
   "metadata": {},
   "source": [
    "### Modeling\n",
    "\n",
    "> There is an imbalance in the data scientist class (8%) vs non data scientist class. We need to handle the class imbalance when training the model."
   ]
  },
  {
   "cell_type": "code",
   "execution_count": 104,
   "metadata": {},
   "outputs": [
    {
     "data": {
      "text/plain": [
       "0.08025682182985554"
      ]
     },
     "execution_count": 104,
     "metadata": {},
     "output_type": "execute_result"
    }
   ],
   "source": [
    "jobs['is_data_scientist'].mean()"
   ]
  },
  {
   "cell_type": "code",
   "execution_count": 105,
   "metadata": {},
   "outputs": [],
   "source": [
    "X_train_ds, X_test_ds, y_train_ds, y_test_ds = train_test_split(jobs.drop('is_data_scientist', axis=1), jobs['is_data_scientist'], \n",
    "                                                    test_size=0.3, stratify=jobs['is_data_scientist'], random_state=44)"
   ]
  },
  {
   "cell_type": "code",
   "execution_count": 106,
   "metadata": {},
   "outputs": [],
   "source": [
    "predictors_ds = ['max_monthly_salary', 'min_monthly_salary', 'is_high_salary',\n",
    "       'Accounting / Auditing / Taxation',\n",
    "       'Admin / Secretarial', 'Advertising / Media ',\n",
    "       'Architecture / Interior Design', 'Banking and Finance',\n",
    "       'Building and Construction', 'Consulting ', 'Customer Service',\n",
    "       'Design', 'Education and Training', 'Engineering',\n",
    "       'Environment / Health  ', 'Events / Promotions ', 'F&B',\n",
    "       'General Management', 'General Work', 'Healthcare / Pharmaceutical',\n",
    "       'Human Resources ', 'Information Technology', 'Insurance', 'Legal',\n",
    "       'Logistics / Supply Chain', 'Manufacturing',\n",
    "       'Marketing / Public Relations ', 'Others', 'Professional Services',\n",
    "       'Public / Civil Service', 'Purchasing / Merchandising',\n",
    "       'Real Estate / Property Management', 'Risk Management',\n",
    "       'Sales / Retail ', 'Sciences / Laboratory / R&D', 'Social Services',\n",
    "       'Telecommunications', 'Travel / Tourism', 'Full Time',\n",
    "       'Internship', 'Permanent', 'Temporary', 'Executive', 'Junior Executive',\n",
    "       'Manager', 'Middle Management', 'Non-executive', 'Professional',\n",
    "       'Senior Executive', 'Senior Management', 'job_description', 'otherRequirements']"
   ]
  },
  {
   "cell_type": "markdown",
   "metadata": {},
   "source": [
    "Due to the class imbalance, I performed upsampling of the training portion with SMOTE within each fold of the cross validation. I also used the f1-score as the scoring metric to optimize the classifier. This is because I am more interested in classifying the Data Scientist job correctly (while keep false positives low) rather than the accuracy (which could easily achieve 92% simply by classifying all jobs as non data scientist)."
   ]
  },
  {
   "cell_type": "code",
   "execution_count": 107,
   "metadata": {},
   "outputs": [],
   "source": [
    "def cv_with_smote(X, y, estimator, cv=3, random_state=None):\n",
    "    '''\n",
    "        Function to perform smote in cross validation\n",
    "    '''\n",
    "    skf = StratifiedKFold(n_splits=cv, random_state=random_state)\n",
    "\n",
    "    f1_score_list = []\n",
    "    for train_index, test_index in skf.split(X, y):\n",
    "        X_train = X[train_index]\n",
    "        y_train = y.iloc[train_index]\n",
    "        X_test = X[test_index]\n",
    "        y_test = y.iloc[test_index]\n",
    "        sm = SVMSMOTE(random_state=random_state) # perform upsampling with smote in each fold\n",
    "        X_train_oversampled, y_train_oversampled = sm.fit_sample(X_train, y_train)\n",
    "        estimator.fit(X_train_oversampled, y_train_oversampled)  \n",
    "        y_pred = estimator.predict(X_test)\n",
    "\n",
    "        f1_score_list.append(f1_score(y_test, y_pred))\n",
    "        \n",
    "    return f1_score_list"
   ]
  },
  {
   "cell_type": "markdown",
   "metadata": {},
   "source": [
    "**Logistic Regression**\n",
    "\n",
    "Again, I started out with using logistic regression as a simple first model. I used the same the custom transformer to vectorize the text data in `job_description` and `otherRequirements` and combine them with the non-text features. These features are standardized because I am using logistic regression with regularization. Then, I chose to use SelectKBest features to limit the number of features used in the training."
   ]
  },
  {
   "cell_type": "code",
   "execution_count": 108,
   "metadata": {},
   "outputs": [],
   "source": [
    "def train_logistic_ds(X, y, cv, return_train, ngram_range, use_idf, kbest_k, logr_C):\n",
    "    '''\n",
    "        Function to train logistic regression models\n",
    "        \n",
    "        Parameters\n",
    "        -----------\n",
    "        X: DataFrame\n",
    "            Training design matrix\n",
    "        y: Series\n",
    "            Training labels\n",
    "        cv: int\n",
    "            Number of cross validation folds\n",
    "        return_train: boolean\n",
    "            If True, return the transformers and estimator after fitting. If False, return cross validation scores.\n",
    "        ngram_range: tuple\n",
    "            ngram_range parameter for TdidfVectorizer in the custom transformer\n",
    "        use_idf: boolean\n",
    "            use_idf parameter for TdidfVectorizer in the custom transformer\n",
    "        kbest_k: int\n",
    "            k parameter for SelectKBest\n",
    "        logr_C: float\n",
    "            C parameter for LogisticRegression\n",
    "    '''\n",
    "    text_transfomer = XWithText(ngram_range=ngram_range, use_idf=use_idf)\n",
    "    text_transfomer.fit(X)\n",
    "    new_X = text_transfomer.transform(X)\n",
    "    ss = StandardScaler()\n",
    "    ss.fit(new_X)\n",
    "    Xs = ss.transform(new_X)\n",
    "    kbest = SelectKBest(k=kbest_k)\n",
    "    X_best = kbest.fit_transform(Xs, y)\n",
    "    logr = LogisticRegression(random_state=42, solver='liblinear', C=logr_C)\n",
    "    if (return_train):\n",
    "        logr.fit(X_best, y)\n",
    "        return {'text_transformer': text_transfomer, 'ss': ss, 'kbest': kbest, 'estimator': logr}\n",
    "    \n",
    "    return cv_with_smote(X_best, y, logr, cv=cv, random_state=42)"
   ]
  },
  {
   "cell_type": "code",
   "execution_count": 109,
   "metadata": {},
   "outputs": [],
   "source": [
    "## run this cell to search through the parameters\n",
    "\n",
    "# params_logistic_ds = {'ngram_range': [(1,1), (1,2)], 'use_idf': [False, True], \n",
    "#              'kbest_k':[2000,3000], 'logr_C':np.logspace(-4,1,5)}\n",
    "# log_models_result_ds = test_models(train_logistic_ds, params_logistic_ds, X_train_ds[predictors_ds], y_train_ds, \n",
    "#                                    cv=3, verbose=1)\n"
   ]
  },
  {
   "cell_type": "code",
   "execution_count": 110,
   "metadata": {},
   "outputs": [
    {
     "data": {
      "text/plain": [
       "{'params': {'ngram_range': (1, 2),\n",
       "  'use_idf': True,\n",
       "  'kbest_k': 3000,\n",
       "  'logr_C': 10.0},\n",
       " 'cv_score': [0.8148148148148148, 0.851063829787234, 0.9387755102040816],\n",
       " 'mean_score': 0.8682180516020436,\n",
       " 'std_score': 0.05204013832226948}"
      ]
     },
     "execution_count": 110,
     "metadata": {},
     "output_type": "execute_result"
    }
   ],
   "source": [
    "log_models_result_ds = models_result['log_models_result_ds']\n",
    "best_params(log_models_result_ds)"
   ]
  },
  {
   "cell_type": "markdown",
   "metadata": {},
   "source": [
    "**AdaBoost model**\n",
    "\n",
    "I wanted to try a simple boosting model to see how it performed against the logistic regression model. I chose the AdaBoost model with a decision tree classifier as the base estimator."
   ]
  },
  {
   "cell_type": "code",
   "execution_count": 111,
   "metadata": {},
   "outputs": [],
   "source": [
    "def train_adaboost(X, y, cv, return_train, ngram_range, use_idf, kbest_k, dtc_max_depth, dtc_min_samples_split,\n",
    "                  ada_n_estimators, ada_learning_rate):\n",
    "    '''\n",
    "        Function to train AdaBoost models\n",
    "        \n",
    "        Parameters\n",
    "        -----------\n",
    "        X: DataFrame\n",
    "            Training design matrix\n",
    "        y: Series\n",
    "            Training labels\n",
    "        cv: int\n",
    "            Number of cross validation folds\n",
    "        return_train: boolean\n",
    "            If True, return the transformers and estimator after fitting. If False, return cross validation scores.\n",
    "        ngram_range: tuple\n",
    "            ngram_range parameter for TdidfVectorizer in the custom transformer\n",
    "        use_idf: boolean\n",
    "            use_idf parameter for TdidfVectorizer in the custom transformer\n",
    "        kbest_k: int\n",
    "            k parameter for SelectKBest\n",
    "        dtc_max_depth: int\n",
    "            max_depth parameter for DecisionTreeClassifier\n",
    "        dtc_min_samples_split: int\n",
    "            min_samples_split parameter for DecisionTreeClassifier\n",
    "        ada_n_estimators: int\n",
    "            n_estimators parameter for AdaBoostClassifier\n",
    "        ada_learning_rate: float\n",
    "            learning_rate parameter for AdaBoostClassifier\n",
    "    '''\n",
    "    text_transfomer = XWithText(ngram_range=ngram_range, use_idf=use_idf)\n",
    "    text_transfomer.fit(X)\n",
    "    new_X = text_transfomer.transform(X)\n",
    "    kbest = SelectKBest(k=kbest_k)\n",
    "    X_best = kbest.fit_transform(new_X, y)\n",
    "    dtc = DecisionTreeClassifier(random_state=42, max_depth=dtc_max_depth, min_samples_split=dtc_min_samples_split)\n",
    "    ada = AdaBoostClassifier(base_estimator=dtc, random_state=42, n_estimators=ada_n_estimators, \n",
    "                             learning_rate=ada_learning_rate)\n",
    "    if (return_train):\n",
    "        ada.fit(X_best, y)\n",
    "        return {'text_transformer': text_transfomer, 'kbest': kbest, 'estimator': ada}\n",
    "    \n",
    "    return cv_with_smote(X_best, y, ada, cv=cv, random_state=44)"
   ]
  },
  {
   "cell_type": "code",
   "execution_count": 112,
   "metadata": {},
   "outputs": [],
   "source": [
    "## run this cell to search through the parameters\n",
    "\n",
    "# params_adaboost = {'ngram_range': [(1,2)], 'use_idf': [False], \n",
    "#              'kbest_k':[3000], 'dtc_max_depth':[1], 'dtc_min_samples_split':[2], \n",
    "#                    'ada_n_estimators': np.arange(95,150,5), 'ada_learning_rate': np.arange(0.9,1.0,1.1)}\n",
    "# adaboost_models_result = test_models(train_adaboost, params_adaboost, X_train_ds[predictors_ds], y_train_ds, \n",
    "#                                    cv=3, verbose=1)"
   ]
  },
  {
   "cell_type": "code",
   "execution_count": 113,
   "metadata": {},
   "outputs": [
    {
     "data": {
      "text/plain": [
       "{'params': {'ngram_range': (1, 2),\n",
       "  'use_idf': False,\n",
       "  'kbest_k': 3000,\n",
       "  'dtc_max_depth': 1,\n",
       "  'dtc_min_samples_split': 2,\n",
       "  'ada_n_estimators': 110,\n",
       "  'ada_learning_rate': 0.9},\n",
       " 'cv_score': [0.5, 0.55, 0.5555555555555555],\n",
       " 'mean_score': 0.5351851851851852,\n",
       " 'std_score': 0.024982847339318583}"
      ]
     },
     "execution_count": 113,
     "metadata": {},
     "output_type": "execute_result"
    }
   ],
   "source": [
    "adaboost_models_result = models_result['adaboost_models_result']\n",
    "\n",
    "best_params(adaboost_models_result) "
   ]
  },
  {
   "cell_type": "markdown",
   "metadata": {},
   "source": [
    "**SVM**\n",
    "\n",
    "Lastly, I also tried using SVM with a linear kernel (so that I can get the weights assigned to the features)."
   ]
  },
  {
   "cell_type": "code",
   "execution_count": 114,
   "metadata": {},
   "outputs": [],
   "source": [
    "def train_svm(X, y, cv, return_train, ngram_range, use_idf, kbest_k, svm_C):\n",
    "    '''\n",
    "        Function to train AdaBoost models\n",
    "        \n",
    "        Parameters\n",
    "        -----------\n",
    "        X: DataFrame\n",
    "            Training design matrix\n",
    "        y: Series\n",
    "            Training labels\n",
    "        cv: int\n",
    "            Number of cross validation folds\n",
    "        return_train: boolean\n",
    "            If True, return the transformers and estimator after fitting. If False, return cross validation scores.\n",
    "        ngram_range: tuple\n",
    "            ngram_range parameter for TdidfVectorizer in the custom transformer\n",
    "        use_idf: boolean\n",
    "            use_idf parameter for TdidfVectorizer in the custom transformer\n",
    "        kbest_k: int\n",
    "            k parameter for SelectKBest\n",
    "        svm_C: float\n",
    "            C parameter for LinearSVC\n",
    "    '''\n",
    "    text_transfomer = XWithText(ngram_range=ngram_range, use_idf=use_idf)\n",
    "    text_transfomer.fit(X)\n",
    "    new_X = text_transfomer.transform(X)\n",
    "    ss = StandardScaler()\n",
    "    ss.fit(new_X)\n",
    "    Xs = ss.transform(new_X)\n",
    "    kbest = SelectKBest(k=kbest_k)\n",
    "    X_best = kbest.fit_transform(Xs, y)\n",
    "    svm = LinearSVC(C=svm_C, random_state=42)\n",
    "    \n",
    "    if (return_train):\n",
    "        svm.fit(X_best, y)\n",
    "        return {'text_transformer': text_transfomer, 'ss': ss, 'kbest': kbest, 'estimator': svm}\n",
    "    \n",
    "    return cv_with_smote(X_best, y, svm, cv=cv, random_state=42)"
   ]
  },
  {
   "cell_type": "code",
   "execution_count": 115,
   "metadata": {},
   "outputs": [],
   "source": [
    "## run this cell to search through the parameters\n",
    "\n",
    "# params_svm = {'ngram_range': [(1,1), (1,2)], 'use_idf': [False, True], \n",
    "#              'kbest_k':[2000,3000], 'svm_C':np.logspace(-3,2,5)}\n",
    "# svm_models_result = test_models(train_svm, params_svm, X_train_ds[predictors_ds], y_train_ds, \n",
    "#                                    cv=3, verbose=1)"
   ]
  },
  {
   "cell_type": "code",
   "execution_count": 116,
   "metadata": {},
   "outputs": [
    {
     "data": {
      "text/plain": [
       "{'params': {'ngram_range': (1, 2),\n",
       "  'use_idf': True,\n",
       "  'kbest_k': 3000,\n",
       "  'svm_C': 0.001},\n",
       " 'cv_score': [0.8148148148148148, 0.8333333333333333, 0.9387755102040816],\n",
       " 'mean_score': 0.8623078861174097,\n",
       " 'std_score': 0.05459674613091625}"
      ]
     },
     "execution_count": 116,
     "metadata": {},
     "output_type": "execute_result"
    }
   ],
   "source": [
    "svm_models_result = models_result['svm_models_result']\n",
    "best_params(svm_models_result)"
   ]
  },
  {
   "cell_type": "code",
   "execution_count": 117,
   "metadata": {},
   "outputs": [],
   "source": [
    "# save all the model results so that they can loaded later without re-running the grid search\n",
    "models_result = {\n",
    "    'log_models_result': log_models_result,\n",
    "    'rf_models_result': rf_models_result,\n",
    "    'mnb_models_result': mnb_models_result,\n",
    "    'log_models_result_ds': log_models_result_ds,\n",
    "    'adaboost_models_result': adaboost_models_result,\n",
    "    'svm_models_result': svm_models_result\n",
    "}\n",
    "\n",
    "save_file(models_result, 'models_result')"
   ]
  },
  {
   "cell_type": "markdown",
   "metadata": {},
   "source": [
    "**Summary of results**\n",
    "\n",
    "Mean f1-score:\n",
    "- Logistic regression: 0.87\n",
    "- AdaBoost: 0.54\n",
    "- SVM: 0.86\n",
    "\n",
    "In this case, the logistic regression and SVM have about the same performance. Let's try evaluating both models on the test set."
   ]
  },
  {
   "cell_type": "code",
   "execution_count": 118,
   "metadata": {},
   "outputs": [
    {
     "name": "stderr",
     "output_type": "stream",
     "text": [
      "/Users/joshuamei/anaconda3/lib/python3.7/site-packages/sklearn/feature_selection/univariate_selection.py:114: UserWarning: Features [ 6 35] are constant.\n",
      "  UserWarning)\n",
      "/Users/joshuamei/anaconda3/lib/python3.7/site-packages/sklearn/feature_selection/univariate_selection.py:115: RuntimeWarning: divide by zero encountered in true_divide\n",
      "  f = msb / msw\n",
      "/Users/joshuamei/anaconda3/lib/python3.7/site-packages/sklearn/feature_selection/univariate_selection.py:115: RuntimeWarning: invalid value encountered in true_divide\n",
      "  f = msb / msw\n"
     ]
    }
   ],
   "source": [
    "# train logistic regression model\n",
    "model_log_ds = train_logistic_ds(X_train_ds[predictors_ds], y_train_ds, cv=3, return_train=True, **best_params(log_models_result_ds)['params'])\n"
   ]
  },
  {
   "cell_type": "code",
   "execution_count": 119,
   "metadata": {},
   "outputs": [
    {
     "name": "stdout",
     "output_type": "stream",
     "text": [
      "Test score for logistic regression\n",
      "              precision    recall  f1-score   support\n",
      "\n",
      "           0       0.96      0.94      0.95       344\n",
      "           1       0.46      0.57      0.51        30\n",
      "\n",
      "   micro avg       0.91      0.91      0.91       374\n",
      "   macro avg       0.71      0.75      0.73       374\n",
      "weighted avg       0.92      0.91      0.92       374\n",
      "\n"
     ]
    }
   ],
   "source": [
    "test_score_log = test_best_model(model_log_ds, X_test_ds[predictors_ds], y_test_ds, scoring='classification_report')\n",
    "print ('Test score for logistic regression')\n",
    "print (test_score_log)"
   ]
  },
  {
   "cell_type": "code",
   "execution_count": 120,
   "metadata": {},
   "outputs": [
    {
     "name": "stderr",
     "output_type": "stream",
     "text": [
      "/Users/joshuamei/anaconda3/lib/python3.7/site-packages/sklearn/feature_selection/univariate_selection.py:114: UserWarning: Features [ 6 35] are constant.\n",
      "  UserWarning)\n",
      "/Users/joshuamei/anaconda3/lib/python3.7/site-packages/sklearn/feature_selection/univariate_selection.py:115: RuntimeWarning: divide by zero encountered in true_divide\n",
      "  f = msb / msw\n",
      "/Users/joshuamei/anaconda3/lib/python3.7/site-packages/sklearn/feature_selection/univariate_selection.py:115: RuntimeWarning: invalid value encountered in true_divide\n",
      "  f = msb / msw\n"
     ]
    }
   ],
   "source": [
    "# train SVM\n",
    "model_svm = train_svm(X_train_ds[predictors_ds], y_train_ds, cv=3, return_train=True, **best_params(svm_models_result)['params'])\n"
   ]
  },
  {
   "cell_type": "code",
   "execution_count": 121,
   "metadata": {},
   "outputs": [
    {
     "name": "stdout",
     "output_type": "stream",
     "text": [
      "Test score for SVM\n",
      "              precision    recall  f1-score   support\n",
      "\n",
      "           0       0.96      0.94      0.95       344\n",
      "           1       0.46      0.57      0.51        30\n",
      "\n",
      "   micro avg       0.91      0.91      0.91       374\n",
      "   macro avg       0.71      0.75      0.73       374\n",
      "weighted avg       0.92      0.91      0.92       374\n",
      "\n"
     ]
    }
   ],
   "source": [
    "test_score_svm = test_best_model(model_svm, X_test_ds[predictors_ds], y_test_ds, scoring='classification_report')\n",
    "print ('Test score for SVM')\n",
    "print (test_score_svm)"
   ]
  },
  {
   "cell_type": "markdown",
   "metadata": {},
   "source": [
    "The f1-score on the test data for both models are very similar. The f1-score were 0.53 and 0.52 for logistic regression and SVM respectively. This is somewhat better than the baseline f1-score of 0.15 if we had predicted all jobs as data scientist. However, the score is again much lower than the score obtained from the cross validation. This means that the model does not generalize well to new data. This could be due to reasons discussed in the previous question. \n",
    "\n",
    "Possible ways to improve the performance of the model could be to do more data cleaning, tune the classification threshold and possibly more feature engineering.\n",
    "\n",
    "**Factors that distinguish the data scientist job**\n",
    "\n",
    "Looking at the 50 features below (from the logistic regression model), we can observe that all of the words/phrases have position coefficients except the word 'data'. This makes sense because we are looking at all the data related jobs, hence almost all the jobs will have the term 'data' in the description / requirements. Hence, having the word 'data' lowers the chance that it is actually a data scientist job. \n",
    "\n",
    "The top words/phrases that are most important actually describe the job requirements that are largely specific to data scientists. For example, 'explainability' appears as the top word that increases the chance of the job being a data scientist. This is because data scientists usually have to explain the results / interpret the parameters of the model to other stakeholders. That is why explainability of the models is an important factor for data scientists. \n",
    "\n",
    "\n",
    "They also have to collaborate with the product, application development and engineering teams to address the business problems. Other phrases such as monitoring model performance, machine learning model development, randomised controlled trial, feature building and statistical testing all fall within the job scope of a data scientist. Hence, they are strong indicators of a data scientist job. In addition, words such as NLTK, SQL, scipy, numpy, pandas, svm also appear as top factors because these are the tools and skills that a data scientist requires."
   ]
  },
  {
   "cell_type": "code",
   "execution_count": 122,
   "metadata": {
    "scrolled": true
   },
   "outputs": [
    {
     "data": {
      "text/html": [
       "<div>\n",
       "<style scoped>\n",
       "    .dataframe tbody tr th:only-of-type {\n",
       "        vertical-align: middle;\n",
       "    }\n",
       "\n",
       "    .dataframe tbody tr th {\n",
       "        vertical-align: top;\n",
       "    }\n",
       "\n",
       "    .dataframe thead th {\n",
       "        text-align: right;\n",
       "    }\n",
       "</style>\n",
       "<table border=\"1\" class=\"dataframe\">\n",
       "  <thead>\n",
       "    <tr style=\"text-align: right;\">\n",
       "      <th></th>\n",
       "      <th>features</th>\n",
       "      <th>coef</th>\n",
       "      <th>coef_abs</th>\n",
       "    </tr>\n",
       "  </thead>\n",
       "  <tbody>\n",
       "    <tr>\n",
       "      <th>2185</th>\n",
       "      <td>query optimization</td>\n",
       "      <td>0.250669</td>\n",
       "      <td>0.250669</td>\n",
       "    </tr>\n",
       "    <tr>\n",
       "      <th>1352</th>\n",
       "      <td>invaluable</td>\n",
       "      <td>0.226343</td>\n",
       "      <td>0.226343</td>\n",
       "    </tr>\n",
       "    <tr>\n",
       "      <th>2158</th>\n",
       "      <td>python application</td>\n",
       "      <td>0.216082</td>\n",
       "      <td>0.216082</td>\n",
       "    </tr>\n",
       "    <tr>\n",
       "      <th>852</th>\n",
       "      <td>etc collaborate</td>\n",
       "      <td>0.207893</td>\n",
       "      <td>0.207893</td>\n",
       "    </tr>\n",
       "    <tr>\n",
       "      <th>2436</th>\n",
       "      <td>seq2seq</td>\n",
       "      <td>0.206212</td>\n",
       "      <td>0.206212</td>\n",
       "    </tr>\n",
       "    <tr>\n",
       "      <th>595</th>\n",
       "      <td>data superior</td>\n",
       "      <td>0.198106</td>\n",
       "      <td>0.198106</td>\n",
       "    </tr>\n",
       "    <tr>\n",
       "      <th>1688</th>\n",
       "      <td>model product</td>\n",
       "      <td>0.193865</td>\n",
       "      <td>0.193865</td>\n",
       "    </tr>\n",
       "    <tr>\n",
       "      <th>1780</th>\n",
       "      <td>nltk</td>\n",
       "      <td>0.190253</td>\n",
       "      <td>0.190253</td>\n",
       "    </tr>\n",
       "    <tr>\n",
       "      <th>2250</th>\n",
       "      <td>related library</td>\n",
       "      <td>0.188569</td>\n",
       "      <td>0.188569</td>\n",
       "    </tr>\n",
       "    <tr>\n",
       "      <th>942</th>\n",
       "      <td>explainability</td>\n",
       "      <td>0.178328</td>\n",
       "      <td>0.178328</td>\n",
       "    </tr>\n",
       "    <tr>\n",
       "      <th>1492</th>\n",
       "      <td>like matlab</td>\n",
       "      <td>0.176637</td>\n",
       "      <td>0.176637</td>\n",
       "    </tr>\n",
       "    <tr>\n",
       "      <th>665</th>\n",
       "      <td>description role</td>\n",
       "      <td>0.176388</td>\n",
       "      <td>0.176388</td>\n",
       "    </tr>\n",
       "    <tr>\n",
       "      <th>1445</th>\n",
       "      <td>learn model</td>\n",
       "      <td>0.161333</td>\n",
       "      <td>0.161333</td>\n",
       "    </tr>\n",
       "    <tr>\n",
       "      <th>2411</th>\n",
       "      <td>scipy</td>\n",
       "      <td>0.160209</td>\n",
       "      <td>0.160209</td>\n",
       "    </tr>\n",
       "    <tr>\n",
       "      <th>1616</th>\n",
       "      <td>method algorithm</td>\n",
       "      <td>0.159973</td>\n",
       "      <td>0.159973</td>\n",
       "    </tr>\n",
       "    <tr>\n",
       "      <th>2600</th>\n",
       "      <td>stop</td>\n",
       "      <td>0.156013</td>\n",
       "      <td>0.156013</td>\n",
       "    </tr>\n",
       "    <tr>\n",
       "      <th>2379</th>\n",
       "      <td>science modelling</td>\n",
       "      <td>0.155634</td>\n",
       "      <td>0.155634</td>\n",
       "    </tr>\n",
       "    <tr>\n",
       "      <th>1461</th>\n",
       "      <td>learning framework</td>\n",
       "      <td>0.154680</td>\n",
       "      <td>0.154680</td>\n",
       "    </tr>\n",
       "    <tr>\n",
       "      <th>1702</th>\n",
       "      <td>modeling skill</td>\n",
       "      <td>0.153626</td>\n",
       "      <td>0.153626</td>\n",
       "    </tr>\n",
       "    <tr>\n",
       "      <th>2980</th>\n",
       "      <td>world class</td>\n",
       "      <td>0.152916</td>\n",
       "      <td>0.152916</td>\n",
       "    </tr>\n",
       "    <tr>\n",
       "      <th>1771</th>\n",
       "      <td>nlp</td>\n",
       "      <td>0.151949</td>\n",
       "      <td>0.151949</td>\n",
       "    </tr>\n",
       "    <tr>\n",
       "      <th>2876</th>\n",
       "      <td>use predictive</td>\n",
       "      <td>0.145809</td>\n",
       "      <td>0.145809</td>\n",
       "    </tr>\n",
       "    <tr>\n",
       "      <th>1899</th>\n",
       "      <td>people great</td>\n",
       "      <td>0.145555</td>\n",
       "      <td>0.145555</td>\n",
       "    </tr>\n",
       "    <tr>\n",
       "      <th>1279</th>\n",
       "      <td>information use</td>\n",
       "      <td>0.139522</td>\n",
       "      <td>0.139522</td>\n",
       "    </tr>\n",
       "    <tr>\n",
       "      <th>574</th>\n",
       "      <td>data generate</td>\n",
       "      <td>0.139436</td>\n",
       "      <td>0.139436</td>\n",
       "    </tr>\n",
       "    <tr>\n",
       "      <th>2204</th>\n",
       "      <td>randomise control</td>\n",
       "      <td>0.137846</td>\n",
       "      <td>0.137846</td>\n",
       "    </tr>\n",
       "    <tr>\n",
       "      <th>2203</th>\n",
       "      <td>randomise</td>\n",
       "      <td>0.137846</td>\n",
       "      <td>0.137846</td>\n",
       "    </tr>\n",
       "    <tr>\n",
       "      <th>502</th>\n",
       "      <td>control trial</td>\n",
       "      <td>0.137846</td>\n",
       "      <td>0.137846</td>\n",
       "    </tr>\n",
       "    <tr>\n",
       "      <th>517</th>\n",
       "      <td>create data</td>\n",
       "      <td>0.134636</td>\n",
       "      <td>0.134636</td>\n",
       "    </tr>\n",
       "    <tr>\n",
       "      <th>539</th>\n",
       "      <td>custom data</td>\n",
       "      <td>0.133616</td>\n",
       "      <td>0.133616</td>\n",
       "    </tr>\n",
       "    <tr>\n",
       "      <th>1489</th>\n",
       "      <td>like java</td>\n",
       "      <td>0.128331</td>\n",
       "      <td>0.128331</td>\n",
       "    </tr>\n",
       "    <tr>\n",
       "      <th>554</th>\n",
       "      <td>data</td>\n",
       "      <td>-0.127090</td>\n",
       "      <td>0.127090</td>\n",
       "    </tr>\n",
       "    <tr>\n",
       "      <th>146</th>\n",
       "      <td>analytic use</td>\n",
       "      <td>0.125129</td>\n",
       "      <td>0.125129</td>\n",
       "    </tr>\n",
       "    <tr>\n",
       "      <th>832</th>\n",
       "      <td>ensemble</td>\n",
       "      <td>0.124261</td>\n",
       "      <td>0.124261</td>\n",
       "    </tr>\n",
       "    <tr>\n",
       "      <th>894</th>\n",
       "      <td>experience advanced</td>\n",
       "      <td>0.120810</td>\n",
       "      <td>0.120810</td>\n",
       "    </tr>\n",
       "    <tr>\n",
       "      <th>2315</th>\n",
       "      <td>result various</td>\n",
       "      <td>0.119035</td>\n",
       "      <td>0.119035</td>\n",
       "    </tr>\n",
       "    <tr>\n",
       "      <th>1096</th>\n",
       "      <td>generative</td>\n",
       "      <td>0.118157</td>\n",
       "      <td>0.118157</td>\n",
       "    </tr>\n",
       "    <tr>\n",
       "      <th>183</th>\n",
       "      <td>apply math</td>\n",
       "      <td>0.118105</td>\n",
       "      <td>0.118105</td>\n",
       "    </tr>\n",
       "    <tr>\n",
       "      <th>94</th>\n",
       "      <td>ambitious</td>\n",
       "      <td>0.117537</td>\n",
       "      <td>0.117537</td>\n",
       "    </tr>\n",
       "    <tr>\n",
       "      <th>707</th>\n",
       "      <td>dimensional dataset</td>\n",
       "      <td>0.117523</td>\n",
       "      <td>0.117523</td>\n",
       "    </tr>\n",
       "    <tr>\n",
       "      <th>1272</th>\n",
       "      <td>information discover</td>\n",
       "      <td>0.116795</td>\n",
       "      <td>0.116795</td>\n",
       "    </tr>\n",
       "    <tr>\n",
       "      <th>86</th>\n",
       "      <td>align key</td>\n",
       "      <td>0.116478</td>\n",
       "      <td>0.116478</td>\n",
       "    </tr>\n",
       "    <tr>\n",
       "      <th>1383</th>\n",
       "      <td>kera tensorflow</td>\n",
       "      <td>0.116143</td>\n",
       "      <td>0.116143</td>\n",
       "    </tr>\n",
       "    <tr>\n",
       "      <th>1912</th>\n",
       "      <td>performance skill</td>\n",
       "      <td>0.115523</td>\n",
       "      <td>0.115523</td>\n",
       "    </tr>\n",
       "    <tr>\n",
       "      <th>911</th>\n",
       "      <td>experience python</td>\n",
       "      <td>0.115521</td>\n",
       "      <td>0.115521</td>\n",
       "    </tr>\n",
       "    <tr>\n",
       "      <th>151</th>\n",
       "      <td>analyze large</td>\n",
       "      <td>0.114433</td>\n",
       "      <td>0.114433</td>\n",
       "    </tr>\n",
       "    <tr>\n",
       "      <th>2407</th>\n",
       "      <td>scikit</td>\n",
       "      <td>0.114194</td>\n",
       "      <td>0.114194</td>\n",
       "    </tr>\n",
       "    <tr>\n",
       "      <th>1706</th>\n",
       "      <td>modeling use</td>\n",
       "      <td>0.113026</td>\n",
       "      <td>0.113026</td>\n",
       "    </tr>\n",
       "    <tr>\n",
       "      <th>2052</th>\n",
       "      <td>problem data</td>\n",
       "      <td>0.112951</td>\n",
       "      <td>0.112951</td>\n",
       "    </tr>\n",
       "    <tr>\n",
       "      <th>206</th>\n",
       "      <td>around apply</td>\n",
       "      <td>0.111835</td>\n",
       "      <td>0.111835</td>\n",
       "    </tr>\n",
       "  </tbody>\n",
       "</table>\n",
       "</div>"
      ],
      "text/plain": [
       "                  features      coef  coef_abs\n",
       "2185    query optimization  0.250669  0.250669\n",
       "1352            invaluable  0.226343  0.226343\n",
       "2158    python application  0.216082  0.216082\n",
       "852        etc collaborate  0.207893  0.207893\n",
       "2436               seq2seq  0.206212  0.206212\n",
       "595          data superior  0.198106  0.198106\n",
       "1688         model product  0.193865  0.193865\n",
       "1780                  nltk  0.190253  0.190253\n",
       "2250       related library  0.188569  0.188569\n",
       "942         explainability  0.178328  0.178328\n",
       "1492           like matlab  0.176637  0.176637\n",
       "665       description role  0.176388  0.176388\n",
       "1445           learn model  0.161333  0.161333\n",
       "2411                 scipy  0.160209  0.160209\n",
       "1616      method algorithm  0.159973  0.159973\n",
       "2600                  stop  0.156013  0.156013\n",
       "2379     science modelling  0.155634  0.155634\n",
       "1461    learning framework  0.154680  0.154680\n",
       "1702        modeling skill  0.153626  0.153626\n",
       "2980           world class  0.152916  0.152916\n",
       "1771                   nlp  0.151949  0.151949\n",
       "2876        use predictive  0.145809  0.145809\n",
       "1899          people great  0.145555  0.145555\n",
       "1279       information use  0.139522  0.139522\n",
       "574          data generate  0.139436  0.139436\n",
       "2204     randomise control  0.137846  0.137846\n",
       "2203             randomise  0.137846  0.137846\n",
       "502          control trial  0.137846  0.137846\n",
       "517            create data  0.134636  0.134636\n",
       "539            custom data  0.133616  0.133616\n",
       "1489             like java  0.128331  0.128331\n",
       "554                   data -0.127090  0.127090\n",
       "146           analytic use  0.125129  0.125129\n",
       "832               ensemble  0.124261  0.124261\n",
       "894    experience advanced  0.120810  0.120810\n",
       "2315        result various  0.119035  0.119035\n",
       "1096            generative  0.118157  0.118157\n",
       "183             apply math  0.118105  0.118105\n",
       "94               ambitious  0.117537  0.117537\n",
       "707    dimensional dataset  0.117523  0.117523\n",
       "1272  information discover  0.116795  0.116795\n",
       "86               align key  0.116478  0.116478\n",
       "1383       kera tensorflow  0.116143  0.116143\n",
       "1912     performance skill  0.115523  0.115523\n",
       "911      experience python  0.115521  0.115521\n",
       "151          analyze large  0.114433  0.114433\n",
       "2407                scikit  0.114194  0.114194\n",
       "1706          modeling use  0.113026  0.113026\n",
       "2052          problem data  0.112951  0.112951\n",
       "206           around apply  0.111835  0.111835"
      ]
     },
     "execution_count": 122,
     "metadata": {},
     "output_type": "execute_result"
    }
   ],
   "source": [
    "log_model_ds_coef = get_coef(model_log_ds)\n",
    "log_model_ds_coef.sort_values('coef_abs', ascending=False)[0:50]"
   ]
  },
  {
   "cell_type": "markdown",
   "metadata": {},
   "source": [
    "## Executive summary\n",
    "\n",
    "This is a report on the analysis on current data-related jobs to secure more contracts for the firm. It explores 2 main questions: the factors that categorize a job as low or high paying and the factors that distinguish a data scientist from other data-related jobs. These will help the firm to manage client expectations on expected salary and the requirements for a data scientist job.\n",
    "\n",
    "The approach taken for this study is as follows:\n",
    "1. Data collection through scraping [mycareersfuture.sg](https://www.mycareersfuture.sg/) website\n",
    "2. Cleaning the collected data\n",
    "3. Exploratory data analysis\n",
    "4. Exploring and validating different models\n",
    "5. Evaluating the model on the test data\n",
    "6. Interpret the results to address the business problem\n",
    "\n",
    "### Data collection\n",
    "\n",
    "The job postings were collected from mycareersfuture.sg. I used the mycareersfuture.sg APIs to retrieve the list of job postings for different search terms (eg. data scientist, business analyst) and the job details for individual postings.\n",
    "\n",
    "### Data cleaning\n",
    "\n",
    "The data collected requires quite extensive cleaning because there are many irrelevant job postings and duplicate postings that turn up in the search. Removing the irrelevant/duplicate job postings was a largely manual and iterative process. As I did data exploration and discovered irrelevant postings, I would add it to a list to be removed. The cleaning process was not exhaustive and more work could be done to further clean the data. Missing values were filled in appropriately and features such as company location (region in Singapore), employment type (eg. permanent), postition level (eg. manager), industry type were also processed to be used as predictors of salary class and job title later.\n",
    "\n",
    "### Factors that categorize data-related jobs as low / high paying\n",
    "\n",
    "#### Exploratory data analysis\n",
    "\n",
    "The maximum monthly salary has a very wide range with a few extreme monthly salary amounts (>\\\\$40000) as compared to the rest of the data. Therefore, the minimum monthly salary was chosen as a conservative estimate to categorize a job as low or high paying. The median minimum monthly salary (\\\\$5000) was taken as the threshold to categorize the jobs. The median is an appropriate threshold as it divides the jobs into 2 approximately equal salary classes. Those above \\$5000 are considered high salary jobs.\n",
    "\n",
    "Data analysis also shows that position level and employment type might be good indicators of salary level. However, initial analysis of the most frequent words in the job description and requirements does not show many differences in the words used between low and high salary jobs. They were many generic terms used to describe data-related jobs such as data analytic, machine learning and business requirement.\n",
    "\n",
    "####  Modeling results\n",
    "\n",
    "Besides features such as position level, the job description and requirements were split into single words and bi-grams (which are pairs of words) and their frequencies were counted for each job. These frequencies were used as predictors for salary class.\n",
    "\n",
    "The best classifier produced an Area Under ROC score of 0.80 (1 is best, equivalent to perfect classifier; 0.5 is worst, equivalent to random guess) on the test data which is an improvment from the baseline (random guess) of 0.5. However, it should be noted that the test score (obtained by performing predictions on the test data) is lower than the training score of 0.95 (obtained by performing predictions on the training data). This means that the classifier was not able to generalize too well to new data. There are several possible reasons:\n",
    "\n",
    "1. The classifier is over-fitted on the training data because too many redundant features were used.\n",
    "2. The dataset is not well cleaned enough and still contains irrelevant jobs that contributes as noise in the training and test data.\n",
    "3. The classifier performance is limited by the limited training data. Some words and bi-grams that appear in the test data might not have appeared in the training data. Hence, it would improve the classifier accuracy if there was more data to train on.\n",
    "\n",
    "Overall, one of the most important factors for classifying a job as low or high paying is the position level. The analysis clearly shows that senior management and manager jobs are more likely to be classified as high paying as compared to executive and junior executive jobs. This is in line with the initial analysis during data exploration. \n",
    "\n",
    "Other important factors that are extracted from the job description/requirements include experience in management and technology, working in/leading teams, programming and analytical ability, familiarity with web technology, spark and python. Having these words/skills in the job description/requirements would increase the likelihood of the job being high paying. Conversely, terms such as SPSS, science, math, fresh graduate, diploma and being in the public service would decrease the likelihood of it being a high paying job. It is slightly surprsing to see science and math as lowering the chance of a high paying data-related job.\n",
    "\n",
    "Therefore, given the position level and job requirements, the firm would be able to advise the client on whether the job is paying at the correct level. The firm is also able to advise the client on the requirements/skills that would likely enable the client to get a high paying data-related job. \n",
    "\n",
    "### Factors that distinguish data scientist from other data-related jobs\n",
    "\n",
    "#### Exploratory data analysis\n",
    "\n",
    "Initial analysis shows that the distributions of monthly salaries for data scientist vs other jobs are quite similar. Hence, it suggests that salaries would not be a good indicator of data scientist jobs.\n",
    "\n",
    "The proportion of data scientist jobs in the dataset is about 8\\% which means that there is a class imbalance. This imbalance in the data was handled appropriately using sampling techniques while training the classifier. Salary, industry type, employment type, position level, job description and requirements were used as predictors. \n",
    "\n",
    "#### Modeling results\n",
    "\n",
    "The best classifier produced a f1-score of 0.53 on the test data and 0.87 on the training data (1 is the best and 0 is the worst). The f1-score is a measurement that takes into account the recall (proportion of data scientist jobs classified correctly) and precision (proportion of actual data scientist jobs among those classified as data scientist). This measurement was used to optimize the classifier to classify data scientist jobs correctly and not optimize for accuracy (because it would be easy to achieve 92\\% accuracy simply by classifying all jobs as non-data scientist). The relatively poor f1-score on the test data could be due to the same reasons discussed in the previous analysis. To improve the performance, it would be best to collect more data scientist job postings to give the classifier more samples to train on.\n",
    "\n",
    "The key factors that distinguish a data scientist from other jobs come from the job description and requirements instead of position level etc. The key words / phrases that are most important actually describe the job requirements that are largely specific to data scientists (which makes sense). For example, 'explainability' appears as the top word that increases the chance of the job being a data scientist. This is because data scientists usually have to explain the results / interpret the parameters of the model to other stakeholders. That is why explainability of the models is an important factor for data scientists. They also have to collaborate with the product, application development and engineering teams to address the business problems. Other phrases such as monitoring model performance, machine learning model development, randomised controlled trial, feature building and statistical testing all fall within the job scope of a data scientist. Hence, they are strong indicators of a data scientist job. In addition, words such as NLTK, SQL, scipy, numpy, pandas, svm also appear as top factors because these are the tools and skills that a data scientist requires.\n",
    "\n",
    "With this insights, the firm can advise the client on the requirements/skills of a data scientist job and recommend the client on the suitability of the data scientist role. \n",
    "\n",
    "### Difficulties and limitations\n",
    "1. Cleaning of the data was non-exhaustive due to limited time.\n",
    "\n",
    "2. Training the models require extensive amount of time and computing resources. Given the limited time and resources, tuning of the model parameters was also restricted to practical limits.\n",
    "\n",
    "### Further work\n",
    "1. More pre-processing of the text such as removing stop words specific to the context of job postings\n",
    "2. More feature engineering such as using a binary count for the text tokens instead of the frequency\n"
   ]
  },
  {
   "cell_type": "code",
   "execution_count": null,
   "metadata": {},
   "outputs": [],
   "source": []
  },
  {
   "cell_type": "code",
   "execution_count": null,
   "metadata": {},
   "outputs": [],
   "source": []
  }
 ],
 "metadata": {
  "kernelspec": {
   "display_name": "Python 3",
   "language": "python",
   "name": "python3"
  },
  "language_info": {
   "codemirror_mode": {
    "name": "ipython",
    "version": 3
   },
   "file_extension": ".py",
   "mimetype": "text/x-python",
   "name": "python",
   "nbconvert_exporter": "python",
   "pygments_lexer": "ipython3",
   "version": "3.7.1"
  }
 },
 "nbformat": 4,
 "nbformat_minor": 2
}
